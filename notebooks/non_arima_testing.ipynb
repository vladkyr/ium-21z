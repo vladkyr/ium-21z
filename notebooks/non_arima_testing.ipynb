{
 "cells": [
  {
   "cell_type": "code",
   "execution_count": null,
   "id": "391feed1",
   "metadata": {},
   "outputs": [],
   "source": [
    "import pandas as pd\n",
    "import matplotlib.pyplot as plt\n",
    "from sklearn.model_selection import train_test_split\n",
    "import numpy as np\n",
    "import matplotlib\n",
    "import sys\n",
    "import xgboost as xgb\n",
    "%matplotlib inline\n",
    "\n",
    "sessions = pd.read_json(\"../data/raw/second/sessions.jsonl\", lines=True)\n",
    "buy_sessions = sessions[sessions['event_type'] == 'BUY_PRODUCT'].copy()\n",
    "buy_sessions['purchase_id'] = buy_sessions['purchase_id'].astype(int)\n",
    "buy_sessions['date']=buy_sessions['timestamp'].dt.date\n"
   ]
  },
  {
   "cell_type": "code",
   "execution_count": null,
   "id": "12a54de8",
   "metadata": {},
   "outputs": [],
   "source": [
    "buy_sessions.drop(columns=['user_id', 'event_type', 'offered_discount','session_id','timestamp'], inplace=True)\n",
    "products_per_day = buy_sessions.groupby(by=['date','product_id']).count().unstack(fill_value=0).stack().rename(columns={'purchase_id': 'amount'}).reset_index()\n",
    "products_per_day['product_id']=products_per_day['product_id'].astype(str)\n",
    "print(products_per_day)"
   ]
  },
  {
   "cell_type": "code",
   "execution_count": null,
   "id": "904b9068",
   "metadata": {},
   "outputs": [],
   "source": [
    "def date_features(df):\n",
    "    # Date Features\n",
    "    df['date'] = pd.to_datetime(df['date'])\n",
    "    df['year'] = df.date.dt.year\n",
    "    df['month'] = df.date.dt.month\n",
    "    df['day'] = df.date.dt.day\n",
    "    df['dayofyear'] = df.date.dt.dayofyear\n",
    "    df['dayofweek'] = df.date.dt.dayofweek\n",
    "    df['weekofyear'] = df.date.dt.weekofyear\n",
    "    # Additionnal Data Features\n",
    "    df['day^year'] = np.log((np.log(df['dayofyear'] + 1)) ** (df['year'] - 2000))\n",
    "    # Drop date\n",
    "#     df.drop('date', axis=1, inplace=True)\n",
    "    return df"
   ]
  },
  {
   "cell_type": "code",
   "execution_count": null,
   "id": "402e5192",
   "metadata": {},
   "outputs": [],
   "source": [
    "df=date_features(products_per_day)"
   ]
  },
  {
   "cell_type": "code",
   "execution_count": null,
   "id": "655c19b6",
   "metadata": {},
   "outputs": [],
   "source": [
    "print(df)"
   ]
  },
  {
   "cell_type": "code",
   "execution_count": null,
   "id": "a71cfa43",
   "metadata": {},
   "outputs": [],
   "source": [
    "cutoff_point=int(len(df)*0.2)\n",
    "train=df[:-cutoff_point]\n",
    "test=df[-cutoff_point:]\n",
    "print(len(train))\n",
    "print(len(test))\n"
   ]
  },
  {
   "cell_type": "code",
   "execution_count": null,
   "id": "6ef94586",
   "metadata": {},
   "outputs": [],
   "source": [
    "# train['day_of_week_avg']  = train.groupby(['product_id','dayofweek'])['amount'].transform('mean')\n",
    "# train['monthly_avg'] = train.groupby(['product_id','month'])['amount'].transform('mean')\n",
    "# train = train.dropna()\n",
    "# # Average sales for Day_of_week = d per Item,Store\n",
    "# day_of_week_avg = train.groupby(['product_id','dayofweek'])['amount'].mean().reset_index()\n",
    "# # Average sales for Month = m per Item,Store\n",
    "# monthly_avg = train.groupby(['product_id','month'])['amount'].mean().reset_index()"
   ]
  },
  {
   "cell_type": "code",
   "execution_count": 53,
   "id": "bcada9bf",
   "metadata": {},
   "outputs": [],
   "source": [
    "# # Merge Test with Daily Avg, Monthly Avg\n",
    "# def merge(df1, df2, col,col_name):\n",
    "#     df1 =pd.merge(df1, df2, how='left', on=None, left_on=col, right_on=col,\n",
    "#             left_index=False, right_index=False, sort=True,\n",
    "#              copy=True, indicator=False)\n",
    "#     df1 = df1.rename(columns={'amount':col_name})\n",
    "#     return df1\n",
    "\n",
    "# test = merge(test, monthly_avg,['product_id','month'],'monthly_avg')\n",
    "\n",
    "# # Sales Rolling mean sequence per item \n",
    "# rolling_10 = train.groupby(['product_id'])['amount'].rolling(10).mean().reset_index().drop('level_1', axis=1)\n",
    "# train['rolling_mean'] = rolling_10['amount'] \n",
    "\n",
    "# # 90 last days of training rolling mean sequence added to test data\n",
    "# rolling_last90 = train.groupby(['product_id'])['rolling_mean'].tail(90).copy()\n",
    "# test['rolling_mean'] = rolling_last90.reset_index().drop('index', axis=1)\n",
    "# train['rolling_mean'] = train.groupby(['product_id'])['rolling_mean'].shift(90)\n",
    "# train.head()\n"
   ]
  },
  {
   "cell_type": "code",
   "execution_count": 54,
   "id": "a0977251",
   "metadata": {},
   "outputs": [],
   "source": [
    "# del test['amount_x']\n",
    "# test.head()"
   ]
  },
  {
   "cell_type": "code",
   "execution_count": 55,
   "id": "1677bd33",
   "metadata": {},
   "outputs": [
    {
     "data": {
      "image/png": "[encoded data removed]",
      "text/plain": [
       "<Figure size 432x288 with 2 Axes>"
      ]
     },
     "metadata": {
      "needs_background": "light"
     },
     "output_type": "display_data"
    }
   ],
   "source": [
    "import seaborn as sns\n",
    "corr = train.corr()\n",
    "ax = sns.heatmap(\n",
    "    corr, \n",
    "    vmin=-1, vmax=1, center=0,\n",
    "    cmap=sns.diverging_palette(20, 220, n=200),\n",
    "    square=True\n",
    ")\n",
    "ax.set_xticklabels(\n",
    "    ax.get_xticklabels(),\n",
    "    rotation=45,\n",
    "    horizontalalignment='right'\n",
    ");"
   ]
  },
  {
   "cell_type": "code",
   "execution_count": 56,
   "id": "4b51ff8c",
   "metadata": {},
   "outputs": [
    {
     "name": "stdout",
     "output_type": "stream",
     "text": [
      "       product_id  amount  year  month  day  dayofyear  dayofweek  weekofyear  \\\n",
      "0            1002       1  2019      8    1        213          3          31   \n",
      "1            1003       0  2019      8    1        213          3          31   \n",
      "2            1004       0  2019      8    1        213          3          31   \n",
      "3            1005       0  2019      8    1        213          3          31   \n",
      "4            1006       1  2019      8    1        213          3          31   \n",
      "...           ...     ...   ...    ...  ...        ...        ...         ...   \n",
      "137580       1081       1  2021      6   29        180          1          26   \n",
      "137581       1082       0  2021      6   29        180          1          26   \n",
      "137582       1083       0  2021      6   29        180          1          26   \n",
      "137583       1084       0  2021      6   29        180          1          26   \n",
      "137584       1085       0  2021      6   29        180          1          26   \n",
      "\n",
      "         day^year  \n",
      "0       31.921487  \n",
      "1       31.921487  \n",
      "2       31.921487  \n",
      "3       31.921487  \n",
      "4       31.921487  \n",
      "...           ...  \n",
      "137580  34.615761  \n",
      "137581  34.615761  \n",
      "137582  34.615761  \n",
      "137583  34.615761  \n",
      "137584  34.615761  \n",
      "\n",
      "[137585 rows x 9 columns]\n",
      "       product_id  amount  year  month  day  dayofyear  dayofweek  weekofyear  \\\n",
      "137585       1086       0  2021      6   29        180          1          26   \n",
      "137586       1087       0  2021      6   29        180          1          26   \n",
      "137587       1088       0  2021      6   29        180          1          26   \n",
      "137588       1089       0  2021      6   29        180          1          26   \n",
      "137589       1090       0  2021      6   29        180          1          26   \n",
      "...           ...     ...   ...    ...  ...        ...        ...         ...   \n",
      "171976       1310       0  2021     12   20        354          0          51   \n",
      "171977       1311       0  2021     12   20        354          0          51   \n",
      "171978       1312       0  2021     12   20        354          0          51   \n",
      "171979       1313       0  2021     12   20        354          0          51   \n",
      "171980       1314       0  2021     12   20        354          0          51   \n",
      "\n",
      "         day^year  \n",
      "137585  34.615761  \n",
      "137586  34.615761  \n",
      "137587  34.615761  \n",
      "137588  34.615761  \n",
      "137589  34.615761  \n",
      "...           ...  \n",
      "171976  37.174522  \n",
      "171977  37.174522  \n",
      "171978  37.174522  \n",
      "171979  37.174522  \n",
      "171980  37.174522  \n",
      "\n",
      "[34396 rows x 9 columns]\n"
     ]
    }
   ],
   "source": [
    "print(train)\n",
    "print(test)\n",
    "train = pd.get_dummies(train, columns=['product_id'])\n",
    "test = pd.get_dummies(test, columns=['product_id'])"
   ]
  },
  {
   "cell_type": "code",
   "execution_count": 57,
   "id": "501f6c06",
   "metadata": {},
   "outputs": [
    {
     "name": "stdout",
     "output_type": "stream",
     "text": [
      "XGBRegressor(base_score=None, booster=None, colsample_bylevel=None,\n",
      "             colsample_bynode=None, colsample_bytree=None,\n",
      "             enable_categorical=False, gamma=None, gpu_id=None,\n",
      "             importance_type=None, interaction_constraints=None,\n",
      "             learning_rate=None, max_delta_step=None, max_depth=None,\n",
      "             min_child_weight=None, missing=nan, monotone_constraints=None,\n",
      "             n_estimators=100, n_jobs=None, num_parallel_tree=None,\n",
      "             predictor=None, random_state=None, reg_alpha=None, reg_lambda=None,\n",
      "             scale_pos_weight=None, subsample=None, tree_method=None,\n",
      "             validate_parameters=None, verbosity=0)\n",
      "Training score:  0.555756770744645\n"
     ]
    }
   ],
   "source": [
    "X_train = train.drop('amount', axis=1)\n",
    "y_train = train['amount']\n",
    "X_test=test.drop('amount',axis=1)\n",
    "y_test=test['amount']\n",
    "df_train = train.copy()\n",
    "\n",
    "# # Train Test Split\n",
    "X_train , X_test ,y_train, y_test = train_test_split(df_train.drop('amount',axis=1),df_train.pop('amount'),\n",
    "                                                     random_state=42, test_size=0.2)\n",
    "\n",
    "xgbr = xgb.XGBRegressor(verbosity=0) \n",
    "print(xgbr)\n",
    "xgbr.fit(X_train, y_train)\n",
    "\n",
    "score = xgbr.score(X_train, y_train)   \n",
    "print(\"Training score: \", score) "
   ]
  },
  {
   "cell_type": "code",
   "execution_count": 58,
   "id": "b31de85c",
   "metadata": {
    "scrolled": true
   },
   "outputs": [],
   "source": [
    "ypred = xgbr.predict(X_test)"
   ]
  },
  {
   "cell_type": "code",
   "execution_count": 60,
   "id": "8acbe5cd",
   "metadata": {},
   "outputs": [
    {
     "ename": "KeyError",
     "evalue": "'date'",
     "output_type": "error",
     "traceback": [
      "\u001b[1;31m---------------------------------------------------------------------------\u001b[0m",
      "\u001b[1;31mKeyError\u001b[0m                                  Traceback (most recent call last)",
      "\u001b[1;32m~\\Desktop\\ium-21z\\venv\\lib\\site-packages\\pandas\\core\\indexes\\base.py\u001b[0m in \u001b[0;36mget_loc\u001b[1;34m(self, key, method, tolerance)\u001b[0m\n\u001b[0;32m   3360\u001b[0m             \u001b[1;32mtry\u001b[0m\u001b[1;33m:\u001b[0m\u001b[1;33m\u001b[0m\u001b[1;33m\u001b[0m\u001b[0m\n\u001b[1;32m-> 3361\u001b[1;33m                 \u001b[1;32mreturn\u001b[0m \u001b[0mself\u001b[0m\u001b[1;33m.\u001b[0m\u001b[0m_engine\u001b[0m\u001b[1;33m.\u001b[0m\u001b[0mget_loc\u001b[0m\u001b[1;33m(\u001b[0m\u001b[0mcasted_key\u001b[0m\u001b[1;33m)\u001b[0m\u001b[1;33m\u001b[0m\u001b[1;33m\u001b[0m\u001b[0m\n\u001b[0m\u001b[0;32m   3362\u001b[0m             \u001b[1;32mexcept\u001b[0m \u001b[0mKeyError\u001b[0m \u001b[1;32mas\u001b[0m \u001b[0merr\u001b[0m\u001b[1;33m:\u001b[0m\u001b[1;33m\u001b[0m\u001b[1;33m\u001b[0m\u001b[0m\n",
      "\u001b[1;32m~\\Desktop\\ium-21z\\venv\\lib\\site-packages\\pandas\\_libs\\index.pyx\u001b[0m in \u001b[0;36mpandas._libs.index.IndexEngine.get_loc\u001b[1;34m()\u001b[0m\n",
      "\u001b[1;32m~\\Desktop\\ium-21z\\venv\\lib\\site-packages\\pandas\\_libs\\index.pyx\u001b[0m in \u001b[0;36mpandas._libs.index.IndexEngine.get_loc\u001b[1;34m()\u001b[0m\n",
      "\u001b[1;32mpandas\\_libs\\hashtable_class_helper.pxi\u001b[0m in \u001b[0;36mpandas._libs.hashtable.PyObjectHashTable.get_item\u001b[1;34m()\u001b[0m\n",
      "\u001b[1;32mpandas\\_libs\\hashtable_class_helper.pxi\u001b[0m in \u001b[0;36mpandas._libs.hashtable.PyObjectHashTable.get_item\u001b[1;34m()\u001b[0m\n",
      "\u001b[1;31mKeyError\u001b[0m: 'date'",
      "\nThe above exception was the direct cause of the following exception:\n",
      "\u001b[1;31mKeyError\u001b[0m                                  Traceback (most recent call last)",
      "\u001b[1;32m~\\AppData\\Local\\Temp/ipykernel_22264/3330414284.py\u001b[0m in \u001b[0;36m<module>\u001b[1;34m\u001b[0m\n\u001b[1;32m----> 1\u001b[1;33m \u001b[0mtest\u001b[0m\u001b[1;33m.\u001b[0m\u001b[0mplot\u001b[0m\u001b[1;33m(\u001b[0m\u001b[0my\u001b[0m\u001b[1;33m=\u001b[0m\u001b[1;34m'amount'\u001b[0m\u001b[1;33m,\u001b[0m\u001b[0mx\u001b[0m\u001b[1;33m=\u001b[0m\u001b[1;34m'date'\u001b[0m\u001b[1;33m)\u001b[0m\u001b[1;33m\u001b[0m\u001b[1;33m\u001b[0m\u001b[0m\n\u001b[0m",
      "\u001b[1;32m~\\Desktop\\ium-21z\\venv\\lib\\site-packages\\pandas\\plotting\\_core.py\u001b[0m in \u001b[0;36m__call__\u001b[1;34m(self, *args, **kwargs)\u001b[0m\n\u001b[0;32m    935\u001b[0m                 \u001b[1;32mif\u001b[0m \u001b[0mis_integer\u001b[0m\u001b[1;33m(\u001b[0m\u001b[0mx\u001b[0m\u001b[1;33m)\u001b[0m \u001b[1;32mand\u001b[0m \u001b[1;32mnot\u001b[0m \u001b[0mdata\u001b[0m\u001b[1;33m.\u001b[0m\u001b[0mcolumns\u001b[0m\u001b[1;33m.\u001b[0m\u001b[0mholds_integer\u001b[0m\u001b[1;33m(\u001b[0m\u001b[1;33m)\u001b[0m\u001b[1;33m:\u001b[0m\u001b[1;33m\u001b[0m\u001b[1;33m\u001b[0m\u001b[0m\n\u001b[0;32m    936\u001b[0m                     \u001b[0mx\u001b[0m \u001b[1;33m=\u001b[0m \u001b[0mdata_cols\u001b[0m\u001b[1;33m[\u001b[0m\u001b[0mx\u001b[0m\u001b[1;33m]\u001b[0m\u001b[1;33m\u001b[0m\u001b[1;33m\u001b[0m\u001b[0m\n\u001b[1;32m--> 937\u001b[1;33m                 \u001b[1;32melif\u001b[0m \u001b[1;32mnot\u001b[0m \u001b[0misinstance\u001b[0m\u001b[1;33m(\u001b[0m\u001b[0mdata\u001b[0m\u001b[1;33m[\u001b[0m\u001b[0mx\u001b[0m\u001b[1;33m]\u001b[0m\u001b[1;33m,\u001b[0m \u001b[0mABCSeries\u001b[0m\u001b[1;33m)\u001b[0m\u001b[1;33m:\u001b[0m\u001b[1;33m\u001b[0m\u001b[1;33m\u001b[0m\u001b[0m\n\u001b[0m\u001b[0;32m    938\u001b[0m                     \u001b[1;32mraise\u001b[0m \u001b[0mValueError\u001b[0m\u001b[1;33m(\u001b[0m\u001b[1;34m\"x must be a label or position\"\u001b[0m\u001b[1;33m)\u001b[0m\u001b[1;33m\u001b[0m\u001b[1;33m\u001b[0m\u001b[0m\n\u001b[0;32m    939\u001b[0m                 \u001b[0mdata\u001b[0m \u001b[1;33m=\u001b[0m \u001b[0mdata\u001b[0m\u001b[1;33m.\u001b[0m\u001b[0mset_index\u001b[0m\u001b[1;33m(\u001b[0m\u001b[0mx\u001b[0m\u001b[1;33m)\u001b[0m\u001b[1;33m\u001b[0m\u001b[1;33m\u001b[0m\u001b[0m\n",
      "\u001b[1;32m~\\Desktop\\ium-21z\\venv\\lib\\site-packages\\pandas\\core\\frame.py\u001b[0m in \u001b[0;36m__getitem__\u001b[1;34m(self, key)\u001b[0m\n\u001b[0;32m   3456\u001b[0m             \u001b[1;32mif\u001b[0m \u001b[0mself\u001b[0m\u001b[1;33m.\u001b[0m\u001b[0mcolumns\u001b[0m\u001b[1;33m.\u001b[0m\u001b[0mnlevels\u001b[0m \u001b[1;33m>\u001b[0m \u001b[1;36m1\u001b[0m\u001b[1;33m:\u001b[0m\u001b[1;33m\u001b[0m\u001b[1;33m\u001b[0m\u001b[0m\n\u001b[0;32m   3457\u001b[0m                 \u001b[1;32mreturn\u001b[0m \u001b[0mself\u001b[0m\u001b[1;33m.\u001b[0m\u001b[0m_getitem_multilevel\u001b[0m\u001b[1;33m(\u001b[0m\u001b[0mkey\u001b[0m\u001b[1;33m)\u001b[0m\u001b[1;33m\u001b[0m\u001b[1;33m\u001b[0m\u001b[0m\n\u001b[1;32m-> 3458\u001b[1;33m             \u001b[0mindexer\u001b[0m \u001b[1;33m=\u001b[0m \u001b[0mself\u001b[0m\u001b[1;33m.\u001b[0m\u001b[0mcolumns\u001b[0m\u001b[1;33m.\u001b[0m\u001b[0mget_loc\u001b[0m\u001b[1;33m(\u001b[0m\u001b[0mkey\u001b[0m\u001b[1;33m)\u001b[0m\u001b[1;33m\u001b[0m\u001b[1;33m\u001b[0m\u001b[0m\n\u001b[0m\u001b[0;32m   3459\u001b[0m             \u001b[1;32mif\u001b[0m \u001b[0mis_integer\u001b[0m\u001b[1;33m(\u001b[0m\u001b[0mindexer\u001b[0m\u001b[1;33m)\u001b[0m\u001b[1;33m:\u001b[0m\u001b[1;33m\u001b[0m\u001b[1;33m\u001b[0m\u001b[0m\n\u001b[0;32m   3460\u001b[0m                 \u001b[0mindexer\u001b[0m \u001b[1;33m=\u001b[0m \u001b[1;33m[\u001b[0m\u001b[0mindexer\u001b[0m\u001b[1;33m]\u001b[0m\u001b[1;33m\u001b[0m\u001b[1;33m\u001b[0m\u001b[0m\n",
      "\u001b[1;32m~\\Desktop\\ium-21z\\venv\\lib\\site-packages\\pandas\\core\\indexes\\base.py\u001b[0m in \u001b[0;36mget_loc\u001b[1;34m(self, key, method, tolerance)\u001b[0m\n\u001b[0;32m   3361\u001b[0m                 \u001b[1;32mreturn\u001b[0m \u001b[0mself\u001b[0m\u001b[1;33m.\u001b[0m\u001b[0m_engine\u001b[0m\u001b[1;33m.\u001b[0m\u001b[0mget_loc\u001b[0m\u001b[1;33m(\u001b[0m\u001b[0mcasted_key\u001b[0m\u001b[1;33m)\u001b[0m\u001b[1;33m\u001b[0m\u001b[1;33m\u001b[0m\u001b[0m\n\u001b[0;32m   3362\u001b[0m             \u001b[1;32mexcept\u001b[0m \u001b[0mKeyError\u001b[0m \u001b[1;32mas\u001b[0m \u001b[0merr\u001b[0m\u001b[1;33m:\u001b[0m\u001b[1;33m\u001b[0m\u001b[1;33m\u001b[0m\u001b[0m\n\u001b[1;32m-> 3363\u001b[1;33m                 \u001b[1;32mraise\u001b[0m \u001b[0mKeyError\u001b[0m\u001b[1;33m(\u001b[0m\u001b[0mkey\u001b[0m\u001b[1;33m)\u001b[0m \u001b[1;32mfrom\u001b[0m \u001b[0merr\u001b[0m\u001b[1;33m\u001b[0m\u001b[1;33m\u001b[0m\u001b[0m\n\u001b[0m\u001b[0;32m   3364\u001b[0m \u001b[1;33m\u001b[0m\u001b[0m\n\u001b[0;32m   3365\u001b[0m         \u001b[1;32mif\u001b[0m \u001b[0mis_scalar\u001b[0m\u001b[1;33m(\u001b[0m\u001b[0mkey\u001b[0m\u001b[1;33m)\u001b[0m \u001b[1;32mand\u001b[0m \u001b[0misna\u001b[0m\u001b[1;33m(\u001b[0m\u001b[0mkey\u001b[0m\u001b[1;33m)\u001b[0m \u001b[1;32mand\u001b[0m \u001b[1;32mnot\u001b[0m \u001b[0mself\u001b[0m\u001b[1;33m.\u001b[0m\u001b[0mhasnans\u001b[0m\u001b[1;33m:\u001b[0m\u001b[1;33m\u001b[0m\u001b[1;33m\u001b[0m\u001b[0m\n",
      "\u001b[1;31mKeyError\u001b[0m: 'date'"
     ]
    }
   ],
   "source": [
    "test.plot(y='amount',x='date')"
   ]
  },
  {
   "cell_type": "code",
   "execution_count": null,
   "id": "899ef990",
   "metadata": {},
   "outputs": [],
   "source": []
  }
 ],
 "metadata": {
  "kernelspec": {
   "display_name": "Python 3 (ipykernel)",
   "language": "python",
   "name": "python3"
  },
  "language_info": {
   "codemirror_mode": {
    "name": "ipython",
    "version": 3
   },
   "file_extension": ".py",
   "mimetype": "text/x-python",
   "name": "python",
   "nbconvert_exporter": "python",
   "pygments_lexer": "ipython3",
   "version": "3.8.6"
  }
 },
 "nbformat": 4,
 "nbformat_minor": 5
}
