{
 "cells": [
  {
   "cell_type": "code",
   "execution_count": null,
   "id": "092e9536",
   "metadata": {},
   "outputs": [],
   "source": [
    "import pandas as pd\n",
    "import matplotlib.pyplot as plt\n",
    "import numpy as np\n",
    "import seaborn as sns\n",
    "import sys\n",
    "import shap\n",
    "from sklearn.model_selection import train_test_split\n",
    "from sklearn.metrics import mean_squared_error, mean_absolute_error\n",
    "from sklearn.linear_model import LinearRegression\n",
    "plt.style.use('fivethirtyeight')\n",
    "%matplotlib inline"
   ]
  },
  {
   "cell_type": "code",
   "execution_count": null,
   "id": "f2d16d1c",
   "metadata": {},
   "outputs": [],
   "source": [
    "sessions = pd.read_json(\"../data/raw/second/sessions.jsonl\", lines=True)\n",
    "buy_sessions = sessions[sessions['event_type'] == 'BUY_PRODUCT'].copy()\n",
    "buy_sessions['product_id'] = buy_sessions['product_id'].astype(str)\n",
    "buy_sessions['date']=buy_sessions['timestamp'].dt.date\n",
    "buy_sessions.drop(columns=['user_id', 'event_type', 'offered_discount','session_id','timestamp'], inplace=True)\n",
    "df = buy_sessions.groupby(by=['date','product_id']).count().unstack(fill_value=0).stack().rename(columns={'purchase_id': 'amount'}).reset_index()\n",
    "df['product_id'] = df['product_id'].astype(str)"
   ]
  },
  {
   "cell_type": "code",
   "execution_count": null,
   "id": "eb30f7ed",
   "metadata": {},
   "outputs": [],
   "source": [
    "df['date'] = pd.to_datetime(df['date'])"
   ]
  },
  {
   "cell_type": "code",
   "execution_count": null,
   "id": "5815c51e",
   "metadata": {},
   "outputs": [],
   "source": [
    "df=df.groupby(by=[pd.Grouper(key='date', freq='W'), pd.Grouper(key='product_id')]).sum()"
   ]
  },
  {
   "cell_type": "code",
   "execution_count": null,
   "id": "6bc15e5c",
   "metadata": {},
   "outputs": [],
   "source": [
    "print(df)"
   ]
  },
  {
   "cell_type": "code",
   "execution_count": null,
   "id": "553ae58d",
   "metadata": {},
   "outputs": [],
   "source": [
    "products = pd.read_json(\"../data/raw/second/products.jsonl\", lines=True)\n",
    "del products['product_name']\n",
    "del products['category_path']\n",
    "products['product_id']=products['product_id'].astype(str)\n",
    "products.index=products['product_id']\n",
    "df=df.join(products,on='product_id')"
   ]
  },
  {
   "cell_type": "code",
   "execution_count": null,
   "id": "87306b5c",
   "metadata": {},
   "outputs": [],
   "source": [
    "df.index = df.index.get_level_values(0)"
   ]
  },
  {
   "cell_type": "code",
   "execution_count": null,
   "id": "a200bd84",
   "metadata": {
    "scrolled": true
   },
   "outputs": [],
   "source": [
    "df"
   ]
  },
  {
   "cell_type": "code",
   "execution_count": null,
   "id": "85d49db1",
   "metadata": {},
   "outputs": [],
   "source": [
    "df['time'] = np.arange(len(df.index))"
   ]
  },
  {
   "cell_type": "code",
   "execution_count": null,
   "id": "73d8f16c",
   "metadata": {},
   "outputs": [],
   "source": [
    "df['lag']=df['amount'].shift(1)\n",
    "df=df.fillna(0)"
   ]
  },
  {
   "cell_type": "code",
   "execution_count": null,
   "id": "667d781a",
   "metadata": {},
   "outputs": [],
   "source": [
    "split_date = pd.to_datetime('2021-09-01')\n",
    "train = df.loc[df.index <= split_date].copy()\n",
    "test = df.loc[df.index > split_date].copy()"
   ]
  },
  {
   "cell_type": "code",
   "execution_count": null,
   "id": "7a812a90",
   "metadata": {},
   "outputs": [],
   "source": [
    "del train['product_id']\n",
    "del test['product_id']"
   ]
  },
  {
   "cell_type": "code",
   "execution_count": null,
   "id": "02af3847",
   "metadata": {},
   "outputs": [],
   "source": [
    "X_train=train.drop('amount', axis=1)\n",
    "y_train=train['amount']\n",
    "              \n",
    "X_test=test.drop('amount', axis=1)\n",
    "y_test=test['amount']"
   ]
  },
  {
   "cell_type": "code",
   "execution_count": null,
   "id": "666592fd",
   "metadata": {},
   "outputs": [],
   "source": [
    "model = LinearRegression()\n",
    "model.fit(X_train, y_train)"
   ]
  },
  {
   "cell_type": "code",
   "execution_count": null,
   "id": "9045160d",
   "metadata": {},
   "outputs": [],
   "source": [
    "test.head(10)"
   ]
  },
  {
   "cell_type": "code",
   "execution_count": null,
   "id": "7604bee9",
   "metadata": {},
   "outputs": [],
   "source": [
    "test['amount_prediction'] = model.predict(X_test)\n",
    "df_all = pd.concat([train, test], sort=False)\n",
    "_ = df_all[['amount','amount_prediction']].plot(figsize=(15, 5))"
   ]
  },
  {
   "cell_type": "code",
   "execution_count": null,
   "id": "e55ce8fb",
   "metadata": {},
   "outputs": [],
   "source": []
  }
 ],
 "metadata": {
  "kernelspec": {
   "display_name": "Python 3 (ipykernel)",
   "language": "python",
   "name": "python3"
  },
  "language_info": {
   "codemirror_mode": {
    "name": "ipython",
    "version": 3
   },
   "file_extension": ".py",
   "mimetype": "text/x-python",
   "name": "python",
   "nbconvert_exporter": "python",
   "pygments_lexer": "ipython3",
   "version": "3.8.6"
  }
 },
 "nbformat": 4,
 "nbformat_minor": 5
}
