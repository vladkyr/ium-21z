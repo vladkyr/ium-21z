{
 "cells": [
  {
   "cell_type": "code",
   "execution_count": 45,
   "id": "9ef71e03",
   "metadata": {},
   "outputs": [
    {
     "name": "stdout",
     "output_type": "stream",
     "text": [
      "              date  product_id  amount\n",
      "0       2019-08-01        1002       1\n",
      "1       2019-08-01        1003       0\n",
      "2       2019-08-01        1004       0\n",
      "3       2019-08-01        1005       0\n",
      "4       2019-08-01        1006       1\n",
      "...            ...         ...     ...\n",
      "171976  2021-12-20        1310       0\n",
      "171977  2021-12-20        1311       0\n",
      "171978  2021-12-20        1312       0\n",
      "171979  2021-12-20        1313       0\n",
      "171980  2021-12-20        1314       0\n",
      "\n",
      "[171981 rows x 3 columns]\n"
     ]
    }
   ],
   "source": [
    "import pandas as pd\n",
    "import matplotlib.pyplot as plt\n",
    "\n",
    "from pmdarima import auto_arima\n",
    "from statsmodels.tsa.arima.model import ARIMA\n",
    "from sklearn.model_selection import train_test_split\n",
    "\n",
    "%matplotlib inline\n",
    "\n",
    "sessions = pd.read_json(\"../data/raw/second/sessions.jsonl\", lines=True)\n",
    "buy_sessions = sessions[sessions['event_type'] == 'BUY_PRODUCT'].copy()\n",
    "buy_sessions['purchase_id'] = buy_sessions['purchase_id'].astype(int)\n",
    "buy_sessions['date']=buy_sessions['timestamp'].dt.date\n",
    "buy_sessions.drop(columns=['user_id', 'event_type', 'offered_discount','session_id','timestamp'], inplace=True)\n",
    "products_per_day = buy_sessions.groupby(by=['date','product_id']).count().unstack(fill_value=0).stack().rename(columns={'purchase_id': 'amount'}).reset_index()\n",
    "print(products_per_day)"
   ]
  },
  {
   "cell_type": "code",
   "execution_count": 46,
   "id": "a61e9b59",
   "metadata": {},
   "outputs": [
    {
     "name": "stdout",
     "output_type": "stream",
     "text": [
      "             date product_id  amount\n",
      "5      2019-08-01       1007       2\n",
      "202    2019-08-02       1007       3\n",
      "399    2019-08-03       1007       7\n",
      "596    2019-08-04       1007       6\n",
      "793    2019-08-05       1007       1\n",
      "...           ...        ...     ...\n",
      "171001 2021-12-16       1007       0\n",
      "171198 2021-12-17       1007       1\n",
      "171395 2021-12-18       1007       0\n",
      "171592 2021-12-19       1007       0\n",
      "171789 2021-12-20       1007       0\n",
      "\n",
      "[873 rows x 3 columns]\n"
     ]
    }
   ],
   "source": [
    "products_per_day['date']=pd.to_datetime(products_per_day['date'])\n",
    "products_per_day['product_id'] = products_per_day['product_id'].astype(str)\n",
    "df=products_per_day[products_per_day['product_id']=='1007']\n",
    "print(df)\n",
    "df=df.groupby(pd.Grouper(key='date', freq=\"W\")).sum()"
   ]
  },
  {
   "cell_type": "code",
   "execution_count": 47,
   "id": "38ce671a",
   "metadata": {},
   "outputs": [
    {
     "name": "stdout",
     "output_type": "stream",
     "text": [
      "            amount\n",
      "date              \n",
      "2019-08-04      18\n",
      "2019-08-11       1\n",
      "2019-08-18       1\n",
      "2019-08-25       0\n",
      "2019-09-01       0\n",
      "...            ...\n",
      "2021-11-28       0\n",
      "2021-12-05       0\n",
      "2021-12-12       0\n",
      "2021-12-19       1\n",
      "2021-12-26       0\n",
      "\n",
      "[126 rows x 1 columns]\n"
     ]
    }
   ],
   "source": [
    "print(df)"
   ]
  },
  {
   "cell_type": "code",
   "execution_count": 48,
   "id": "ae05c78b",
   "metadata": {},
   "outputs": [
    {
     "data": {
      "text/plain": [
       "<AxesSubplot:xlabel='date'>"
      ]
     },
     "execution_count": 48,
     "metadata": {},
     "output_type": "execute_result"
    },
    {
     "data": {
      "image/png": "[encoded data removed]",
      "text/plain": [
       "<Figure size 432x288 with 1 Axes>"
      ]
     },
     "metadata": {
      "needs_background": "light"
     },
     "output_type": "display_data"
    }
   ],
   "source": [
    "df.plot(y='amount',use_index=True)"
   ]
  },
  {
   "cell_type": "code",
   "execution_count": 50,
   "id": "ef76aa33",
   "metadata": {},
   "outputs": [
    {
     "name": "stdout",
     "output_type": "stream",
     "text": [
      "Performing stepwise search to minimize aic\n",
      " ARIMA(2,0,2)(0,0,0)[0] intercept   : AIC=746.833, Time=0.24 sec\n",
      " ARIMA(0,0,0)(0,0,0)[0] intercept   : AIC=747.079, Time=0.01 sec\n",
      " ARIMA(1,0,0)(0,0,0)[0] intercept   : AIC=743.404, Time=0.02 sec\n",
      " ARIMA(0,0,1)(0,0,0)[0] intercept   : AIC=744.192, Time=0.03 sec\n",
      " ARIMA(0,0,0)(0,0,0)[0]             : AIC=761.210, Time=0.01 sec\n",
      " ARIMA(2,0,0)(0,0,0)[0] intercept   : AIC=745.213, Time=0.04 sec\n",
      " ARIMA(1,0,1)(0,0,0)[0] intercept   : AIC=745.311, Time=0.05 sec\n",
      " ARIMA(2,0,1)(0,0,0)[0] intercept   : AIC=inf, Time=0.16 sec\n",
      " ARIMA(1,0,0)(0,0,0)[0]             : AIC=751.143, Time=0.01 sec\n",
      "\n",
      "Best model:  ARIMA(1,0,0)(0,0,0)[0] intercept\n",
      "Total fit time: 0.565 seconds\n"
     ]
    }
   ],
   "source": [
    "from statsmodels.tsa.arima.model import ARIMA\n",
    "from sklearn.model_selection import train_test_split\n",
    "from pmdarima import auto_arima\n",
    "stepwise_fit = auto_arima(df['amount'], trace=True)"
   ]
  },
  {
   "cell_type": "code",
   "execution_count": 51,
   "id": "a50c0d3d",
   "metadata": {},
   "outputs": [
    {
     "name": "stdout",
     "output_type": "stream",
     "text": [
      "101\n",
      "25\n"
     ]
    },
    {
     "data": {
      "text/html": [
       "<table class=\"simpletable\">\n",
       "<caption>SARIMAX Results</caption>\n",
       "<tr>\n",
       "  <th>Dep. Variable:</th>        <td>amount</td>      <th>  No. Observations:  </th>    <td>101</td>  \n",
       "</tr>\n",
       "<tr>\n",
       "  <th>Model:</th>                 <td>ARIMA</td>      <th>  Log Likelihood     </th> <td>-297.827</td>\n",
       "</tr>\n",
       "<tr>\n",
       "  <th>Date:</th>            <td>Wed, 12 Jan 2022</td> <th>  AIC                </th>  <td>599.655</td>\n",
       "</tr>\n",
       "<tr>\n",
       "  <th>Time:</th>                <td>00:05:22</td>     <th>  BIC                </th>  <td>604.885</td>\n",
       "</tr>\n",
       "<tr>\n",
       "  <th>Sample:</th>             <td>08-04-2019</td>    <th>  HQIC               </th>  <td>601.772</td>\n",
       "</tr>\n",
       "<tr>\n",
       "  <th></th>                   <td>- 07-04-2021</td>   <th>                     </th>     <td> </td>   \n",
       "</tr>\n",
       "<tr>\n",
       "  <th>Covariance Type:</th>        <td>opg</td>       <th>                     </th>     <td> </td>   \n",
       "</tr>\n",
       "</table>\n",
       "<table class=\"simpletable\">\n",
       "<tr>\n",
       "     <td></td>       <th>coef</th>     <th>std err</th>      <th>z</th>      <th>P>|z|</th>  <th>[0.025</th>    <th>0.975]</th>  \n",
       "</tr>\n",
       "<tr>\n",
       "  <th>const</th>  <td>    1.8119</td> <td>    1.330</td> <td>    1.362</td> <td> 0.173</td> <td>   -0.796</td> <td>    4.419</td>\n",
       "</tr>\n",
       "<tr>\n",
       "  <th>sigma2</th> <td>   21.3211</td> <td>    3.725</td> <td>    5.723</td> <td> 0.000</td> <td>   14.020</td> <td>   28.622</td>\n",
       "</tr>\n",
       "</table>\n",
       "<table class=\"simpletable\">\n",
       "<tr>\n",
       "  <th>Ljung-Box (L1) (Q):</th>     <td>3.71</td> <th>  Jarque-Bera (JB):  </th> <td>492.95</td>\n",
       "</tr>\n",
       "<tr>\n",
       "  <th>Prob(Q):</th>                <td>0.05</td> <th>  Prob(JB):          </th>  <td>0.00</td> \n",
       "</tr>\n",
       "<tr>\n",
       "  <th>Heteroskedasticity (H):</th> <td>1.76</td> <th>  Skew:              </th>  <td>3.10</td> \n",
       "</tr>\n",
       "<tr>\n",
       "  <th>Prob(H) (two-sided):</th>    <td>0.11</td> <th>  Kurtosis:          </th>  <td>11.88</td>\n",
       "</tr>\n",
       "</table><br/><br/>Warnings:<br/>[1] Covariance matrix calculated using the outer product of gradients (complex-step)."
      ],
      "text/plain": [
       "<class 'statsmodels.iolib.summary.Summary'>\n",
       "\"\"\"\n",
       "                               SARIMAX Results                                \n",
       "==============================================================================\n",
       "Dep. Variable:                 amount   No. Observations:                  101\n",
       "Model:                          ARIMA   Log Likelihood                -297.827\n",
       "Date:                Wed, 12 Jan 2022   AIC                            599.655\n",
       "Time:                        00:05:22   BIC                            604.885\n",
       "Sample:                    08-04-2019   HQIC                           601.772\n",
       "                         - 07-04-2021                                         \n",
       "Covariance Type:                  opg                                         \n",
       "==============================================================================\n",
       "                 coef    std err          z      P>|z|      [0.025      0.975]\n",
       "------------------------------------------------------------------------------\n",
       "const          1.8119      1.330      1.362      0.173      -0.796       4.419\n",
       "sigma2        21.3211      3.725      5.723      0.000      14.020      28.622\n",
       "===================================================================================\n",
       "Ljung-Box (L1) (Q):                   3.71   Jarque-Bera (JB):               492.95\n",
       "Prob(Q):                              0.05   Prob(JB):                         0.00\n",
       "Heteroskedasticity (H):               1.76   Skew:                             3.10\n",
       "Prob(H) (two-sided):                  0.11   Kurtosis:                        11.88\n",
       "===================================================================================\n",
       "\n",
       "Warnings:\n",
       "[1] Covariance matrix calculated using the outer product of gradients (complex-step).\n",
       "\"\"\""
      ]
     },
     "execution_count": 51,
     "metadata": {},
     "output_type": "execute_result"
    }
   ],
   "source": [
    "cutoff_point=int(len(df)*0.2)\n",
    "train=df[:-cutoff_point]\n",
    "test=df[-cutoff_point:]\n",
    "print(len(train))\n",
    "print(len(test))\n",
    "model=ARIMA(train['amount'],order=(0,0,0),freq='W')\n",
    "model=model.fit()\n",
    "model.summary()"
   ]
  },
  {
   "cell_type": "code",
   "execution_count": 54,
   "id": "bb642bb0",
   "metadata": {},
   "outputs": [
    {
     "data": {
      "text/plain": [
       "<AxesSubplot:xlabel='date'>"
      ]
     },
     "execution_count": 54,
     "metadata": {},
     "output_type": "execute_result"
    },
    {
     "data": {
      "image/png": "[encoded data removed]",
      "text/plain": [
       "<Figure size 432x288 with 1 Axes>"
      ]
     },
     "metadata": {
      "needs_background": "light"
     },
     "output_type": "display_data"
    }
   ],
   "source": [
    "start=len(train)\n",
    "end=len(train)+len(test)-1\n",
    "pred=model.predict(start=start,end=end,typ='levels').rename('ARIMA Predictions')\n",
    "pred.plot(legend=True)\n",
    "test['amount'].plot(legend=True)"
   ]
  },
  {
   "cell_type": "code",
   "execution_count": null,
   "id": "3f1fca22",
   "metadata": {},
   "outputs": [],
   "source": []
  },
  {
   "cell_type": "code",
   "execution_count": null,
   "id": "46037d88",
   "metadata": {},
   "outputs": [],
   "source": []
  },
  {
   "cell_type": "code",
   "execution_count": null,
   "id": "710235eb",
   "metadata": {},
   "outputs": [],
   "source": []
  },
  {
   "cell_type": "code",
   "execution_count": null,
   "id": "05bdc339",
   "metadata": {},
   "outputs": [],
   "source": []
  }
 ],
 "metadata": {
  "kernelspec": {
   "display_name": "Python 3 (ipykernel)",
   "language": "python",
   "name": "python3"
  },
  "language_info": {
   "codemirror_mode": {
    "name": "ipython",
    "version": 3
   },
   "file_extension": ".py",
   "mimetype": "text/x-python",
   "name": "python",
   "nbconvert_exporter": "python",
   "pygments_lexer": "ipython3",
   "version": "3.8.6"
  }
 },
 "nbformat": 4,
 "nbformat_minor": 5
}
