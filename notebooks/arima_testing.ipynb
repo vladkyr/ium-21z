{
 "cells": [
  {
   "cell_type": "code",
   "execution_count": 18,
   "id": "a5669a35",
   "metadata": {},
   "outputs": [],
   "source": [
    "import pandas as pd\n",
    "import matplotlib.pyplot as plt\n",
    "\n",
    "from pmdarima import auto_arima\n",
    "from statsmodels.tsa.arima.model import ARIMA\n",
    "from sklearn.model_selection import train_test_split\n",
    "from matplotlib import rcParams\n",
    "import warnings\n",
    "import itertools\n",
    "import numpy as np\n",
    "warnings.filterwarnings(\"ignore\")\n",
    "plt.style.use('fivethirtyeight')\n",
    "import statsmodels.api as sm\n",
    "import matplotlib\n",
    "import sys\n",
    "%matplotlib inline\n",
    "\n",
    "sessions = pd.read_json(\"../data/raw/second/sessions.jsonl\", lines=True)\n",
    "buy_sessions = sessions[sessions['event_type'] == 'BUY_PRODUCT'].copy()\n",
    "buy_sessions['purchase_id'] = buy_sessions['purchase_id'].astype(int)\n",
    "buy_sessions['date']=buy_sessions['timestamp'].dt.date\n",
    "buy_sessions.drop(columns=['user_id', 'event_type', 'offered_discount','session_id','timestamp'], inplace=True)\n",
    "products_per_day = buy_sessions.groupby(by=['date','product_id']).count().unstack(fill_value=0).stack().rename(columns={'purchase_id': 'amount'}).reset_index()\n",
    "products_per_day['date']=pd.to_datetime(products_per_day['date'])\n",
    "products_per_day['product_id'] = products_per_day['product_id'].astype(str)"
   ]
  },
  {
   "cell_type": "code",
   "execution_count": 19,
   "id": "a56ad7fa",
   "metadata": {},
   "outputs": [
    {
     "name": "stdout",
     "output_type": "stream",
     "text": [
      "                       amount\n",
      "date       product_id        \n",
      "2019-08-04 1002             3\n",
      "           1003             0\n",
      "           1004             0\n",
      "           1005             0\n",
      "           1006             1\n",
      "...                       ...\n",
      "2021-12-26 1310             0\n",
      "           1311             0\n",
      "           1312             0\n",
      "           1313             0\n",
      "           1314             0\n",
      "\n",
      "[24822 rows x 1 columns]\n"
     ]
    }
   ],
   "source": [
    "# Jak to uruchomisz to można znaleźć ogólny trend\n",
    "products_per_day['date']=pd.to_datetime(products_per_day['date'])\n",
    "products_per_day['product_id'] = products_per_day['product_id'].astype(str)\n",
    "products_per_day=products_per_day.groupby(by=[pd.Grouper(key='date', freq=\"W\"),pd.Grouper(key='product_id')]).sum()\n",
    "print(products_per_day)"
   ]
  },
  {
   "cell_type": "code",
   "execution_count": 20,
   "id": "ea70ba7f",
   "metadata": {
    "scrolled": true
   },
   "outputs": [
    {
     "data": {
      "text/plain": [
       "<AxesSubplot:xlabel='date,product_id'>"
      ]
     },
     "execution_count": 20,
     "metadata": {},
     "output_type": "execute_result"
    },
    {
     "data": {
      "image/png": "[encoded data removed]",
      "text/plain": [
       "<Figure size 432x288 with 1 Axes>"
      ]
     },
     "metadata": {
      "needs_background": "light"
     },
     "output_type": "display_data"
    }
   ],
   "source": [
    "df.plot(y='amount',use_index=True)"
   ]
  },
  {
   "cell_type": "code",
   "execution_count": 23,
   "id": "ad560e23",
   "metadata": {},
   "outputs": [
    {
     "data": {
      "text/html": [
       "<div>\n",
       "<style scoped>\n",
       "    .dataframe tbody tr th:only-of-type {\n",
       "        vertical-align: middle;\n",
       "    }\n",
       "\n",
       "    .dataframe tbody tr th {\n",
       "        vertical-align: top;\n",
       "    }\n",
       "\n",
       "    .dataframe thead th {\n",
       "        text-align: right;\n",
       "    }\n",
       "</style>\n",
       "<table border=\"1\" class=\"dataframe\">\n",
       "  <thead>\n",
       "    <tr style=\"text-align: right;\">\n",
       "      <th></th>\n",
       "      <th></th>\n",
       "      <th>amount</th>\n",
       "    </tr>\n",
       "    <tr>\n",
       "      <th>date</th>\n",
       "      <th>product_id</th>\n",
       "      <th></th>\n",
       "    </tr>\n",
       "  </thead>\n",
       "  <tbody>\n",
       "    <tr>\n",
       "      <th rowspan=\"5\" valign=\"top\">2019-08-04</th>\n",
       "      <th>1002</th>\n",
       "      <td>3</td>\n",
       "    </tr>\n",
       "    <tr>\n",
       "      <th>1003</th>\n",
       "      <td>0</td>\n",
       "    </tr>\n",
       "    <tr>\n",
       "      <th>1004</th>\n",
       "      <td>0</td>\n",
       "    </tr>\n",
       "    <tr>\n",
       "      <th>1005</th>\n",
       "      <td>0</td>\n",
       "    </tr>\n",
       "    <tr>\n",
       "      <th>1006</th>\n",
       "      <td>1</td>\n",
       "    </tr>\n",
       "    <tr>\n",
       "      <th>...</th>\n",
       "      <th>...</th>\n",
       "      <td>...</td>\n",
       "    </tr>\n",
       "    <tr>\n",
       "      <th rowspan=\"5\" valign=\"top\">2021-12-26</th>\n",
       "      <th>1310</th>\n",
       "      <td>0</td>\n",
       "    </tr>\n",
       "    <tr>\n",
       "      <th>1311</th>\n",
       "      <td>0</td>\n",
       "    </tr>\n",
       "    <tr>\n",
       "      <th>1312</th>\n",
       "      <td>0</td>\n",
       "    </tr>\n",
       "    <tr>\n",
       "      <th>1313</th>\n",
       "      <td>0</td>\n",
       "    </tr>\n",
       "    <tr>\n",
       "      <th>1314</th>\n",
       "      <td>0</td>\n",
       "    </tr>\n",
       "  </tbody>\n",
       "</table>\n",
       "<p>24822 rows × 1 columns</p>\n",
       "</div>"
      ],
      "text/plain": [
       "                       amount\n",
       "date       product_id        \n",
       "2019-08-04 1002             3\n",
       "           1003             0\n",
       "           1004             0\n",
       "           1005             0\n",
       "           1006             1\n",
       "...                       ...\n",
       "2021-12-26 1310             0\n",
       "           1311             0\n",
       "           1312             0\n",
       "           1313             0\n",
       "           1314             0\n",
       "\n",
       "[24822 rows x 1 columns]"
      ]
     },
     "execution_count": 23,
     "metadata": {},
     "output_type": "execute_result"
    }
   ],
   "source": [
    "df"
   ]
  },
  {
   "cell_type": "code",
   "execution_count": 24,
   "id": "5bbff2ff",
   "metadata": {
    "scrolled": true
   },
   "outputs": [
    {
     "ename": "ValueError",
     "evalue": "You must specify a period or x must be a pandas object with a PeriodIndex or a DatetimeIndex with a freq not set to None",
     "output_type": "error",
     "traceback": [
      "\u001b[1;31m---------------------------------------------------------------------------\u001b[0m",
      "\u001b[1;31mValueError\u001b[0m                                Traceback (most recent call last)",
      "\u001b[1;32m~\\AppData\\Local\\Temp/ipykernel_13968/3664346114.py\u001b[0m in \u001b[0;36m<module>\u001b[1;34m\u001b[0m\n\u001b[0;32m      1\u001b[0m \u001b[0mrcParams\u001b[0m\u001b[1;33m[\u001b[0m\u001b[1;34m'figure.figsize'\u001b[0m\u001b[1;33m]\u001b[0m \u001b[1;33m=\u001b[0m \u001b[1;36m18\u001b[0m\u001b[1;33m,\u001b[0m \u001b[1;36m8\u001b[0m\u001b[1;33m\u001b[0m\u001b[1;33m\u001b[0m\u001b[0m\n\u001b[1;32m----> 2\u001b[1;33m \u001b[0mdecomposition\u001b[0m \u001b[1;33m=\u001b[0m \u001b[0msm\u001b[0m\u001b[1;33m.\u001b[0m\u001b[0mtsa\u001b[0m\u001b[1;33m.\u001b[0m\u001b[0mseasonal_decompose\u001b[0m\u001b[1;33m(\u001b[0m\u001b[0mdf\u001b[0m\u001b[1;33m,\u001b[0m \u001b[0mmodel\u001b[0m\u001b[1;33m=\u001b[0m\u001b[1;34m'additive'\u001b[0m\u001b[1;33m)\u001b[0m\u001b[1;33m\u001b[0m\u001b[1;33m\u001b[0m\u001b[0m\n\u001b[0m\u001b[0;32m      3\u001b[0m \u001b[0mfig\u001b[0m \u001b[1;33m=\u001b[0m \u001b[0mdecomposition\u001b[0m\u001b[1;33m.\u001b[0m\u001b[0mplot\u001b[0m\u001b[1;33m(\u001b[0m\u001b[1;33m)\u001b[0m\u001b[1;33m\u001b[0m\u001b[1;33m\u001b[0m\u001b[0m\n\u001b[0;32m      4\u001b[0m \u001b[0mplt\u001b[0m\u001b[1;33m.\u001b[0m\u001b[0mshow\u001b[0m\u001b[1;33m(\u001b[0m\u001b[1;33m)\u001b[0m\u001b[1;33m\u001b[0m\u001b[1;33m\u001b[0m\u001b[0m\n",
      "\u001b[1;32m~\\Desktop\\ium-21z\\venv\\lib\\site-packages\\statsmodels\\tsa\\seasonal.py\u001b[0m in \u001b[0;36mseasonal_decompose\u001b[1;34m(x, model, filt, period, two_sided, extrapolate_trend)\u001b[0m\n\u001b[0;32m    157\u001b[0m             \u001b[0mperiod\u001b[0m \u001b[1;33m=\u001b[0m \u001b[0mpfreq\u001b[0m\u001b[1;33m\u001b[0m\u001b[1;33m\u001b[0m\u001b[0m\n\u001b[0;32m    158\u001b[0m         \u001b[1;32melse\u001b[0m\u001b[1;33m:\u001b[0m\u001b[1;33m\u001b[0m\u001b[1;33m\u001b[0m\u001b[0m\n\u001b[1;32m--> 159\u001b[1;33m             raise ValueError(\n\u001b[0m\u001b[0;32m    160\u001b[0m                 \u001b[1;34m\"You must specify a period or x must be a pandas object with \"\u001b[0m\u001b[1;33m\u001b[0m\u001b[1;33m\u001b[0m\u001b[0m\n\u001b[0;32m    161\u001b[0m                 \u001b[1;34m\"a PeriodIndex or a DatetimeIndex with a freq not set to None\"\u001b[0m\u001b[1;33m\u001b[0m\u001b[1;33m\u001b[0m\u001b[0m\n",
      "\u001b[1;31mValueError\u001b[0m: You must specify a period or x must be a pandas object with a PeriodIndex or a DatetimeIndex with a freq not set to None"
     ]
    }
   ],
   "source": [
    "rcParams['figure.figsize'] = 18, 8\n",
    "decomposition = sm.tsa.seasonal_decompose(df, model='additive')\n",
    "fig = decomposition.plot()\n",
    "plt.show()"
   ]
  },
  {
   "cell_type": "code",
   "execution_count": null,
   "id": "e74692c3",
   "metadata": {},
   "outputs": [],
   "source": [
    "p = d = q = range(0, 2)\n",
    "pdq = list(itertools.product(p, d, q))\n",
    "seasonal_pdq = [(x[0], x[1], x[2], 53) for x in list(itertools.product(p, d, q))]"
   ]
  },
  {
   "cell_type": "code",
   "execution_count": null,
   "id": "45da334e",
   "metadata": {},
   "outputs": [],
   "source": [
    "best_aic=sys.maxsize\n",
    "best_param=(1,1,1)\n",
    "best_param_seasonal=(1,1,1,12)\n",
    "for param in pdq:\n",
    "    for param_seasonal in seasonal_pdq:\n",
    "        try:\n",
    "            mod = sm.tsa.statespace.SARIMAX(df,order=param,seasonal_order=param_seasonal,enforce_stationarity=False,enforce_invertibility=False)\n",
    "            results = mod.fit()\n",
    "            message='ARIMA{}x{}53 - AIC:{}'.format(param,param_seasonal,results.aic)\n",
    "            print(message)\n",
    "            if results.aic<best_aic:\n",
    "                best_param=param\n",
    "                best_param_seasonal=param_seasonal\n",
    "                best_aic=results.aic\n",
    "        except Exception as e: \n",
    "            print(str(e))\n",
    "print(\"*****************\")\n",
    "print(\"Best parameters:\")\n",
    "print('ARIMA{}x{}12 - AIC:{}'.format(best_param,best_param_seasonal,best_aic))"
   ]
  },
  {
   "cell_type": "code",
   "execution_count": null,
   "id": "ca1ad55a",
   "metadata": {},
   "outputs": [],
   "source": [
    "mod = sm.tsa.statespace.SARIMAX(df,\n",
    "                                order=best_param,\n",
    "                                seasonal_order=best_param_seasonal,\n",
    "                                enforce_invertibility=False)\n",
    "results = mod.fit()\n",
    "print(results.summary().tables[1])"
   ]
  },
  {
   "cell_type": "code",
   "execution_count": null,
   "id": "b6eb03b9",
   "metadata": {},
   "outputs": [],
   "source": [
    "results.plot_diagnostics(figsize=(18, 8))\n",
    "plt.show()"
   ]
  },
  {
   "cell_type": "code",
   "execution_count": null,
   "id": "75cacdfc",
   "metadata": {
    "scrolled": false
   },
   "outputs": [],
   "source": [
    "print(df.head(10))\n",
    "\n",
    "pred = results.get_prediction(start=pd.to_datetime('2019-08-04'), dynamic=False)\n",
    "pred_ci = pred.conf_int()\n",
    "ax = df['2015':].plot(label='observed')\n",
    "pred.predicted_mean.plot(ax=ax, label='One-step ahead Forecast', alpha=.7, figsize=(14, 4))\n",
    "ax.fill_between(pred_ci.index,\n",
    "                pred_ci.iloc[:, 0],\n",
    "                pred_ci.iloc[:, 1], color='k', alpha=.2)\n",
    "ax.set_xlabel('Date')\n",
    "ax.set_ylabel('Retail_sold')\n",
    "plt.ylim([-1,30])\n",
    "plt.legend()\n",
    "plt.show()"
   ]
  },
  {
   "cell_type": "code",
   "execution_count": null,
   "id": "3134c79f",
   "metadata": {},
   "outputs": [],
   "source": [
    "pred_uc = results.get_forecast(steps=159)\n",
    "pred_ci = pred_uc.conf_int()\n",
    "ax = df.plot(label='observed', figsize=(14, 4))\n",
    "pred_uc.predicted_mean.plot(ax=ax, label='Forecast')\n",
    "ax.fill_between(pred_ci.index,\n",
    "                pred_ci.iloc[:, 0],\n",
    "                pred_ci.iloc[:, 1], color='k', alpha=.25)\n",
    "ax.set_xlabel('Date')\n",
    "ax.set_ylabel('Sales')\n",
    "plt.legend()\n",
    "plt.show()"
   ]
  },
  {
   "cell_type": "code",
   "execution_count": null,
   "id": "7df4926c",
   "metadata": {},
   "outputs": [],
   "source": []
  },
  {
   "cell_type": "code",
   "execution_count": null,
   "id": "75b89f0f",
   "metadata": {},
   "outputs": [],
   "source": [
    "## TUTAJ ZACZYNA SIĘ ARIMA, NIE WARTO TEGO RUSZAĆ CHYBA, CHYBA ŻE Z CIEKAWOŚCI - TEŻ PROSTA LINIA WYCHODZI"
   ]
  },
  {
   "cell_type": "code",
   "execution_count": null,
   "id": "04972ea6",
   "metadata": {},
   "outputs": [],
   "source": [
    "from statsmodels.tsa.arima.model import ARIMA\n",
    "from sklearn.model_selection import train_test_split\n",
    "from pmdarima import auto_arima\n",
    "stepwise_fit = auto_arima(df['amount'], trace=True)"
   ]
  },
  {
   "cell_type": "code",
   "execution_count": null,
   "id": "7fe44205",
   "metadata": {},
   "outputs": [],
   "source": [
    "cutoff_point=int(len(df)*0.2)\n",
    "train=df[:-cutoff_point]\n",
    "test=df[-cutoff_point:]\n",
    "print(len(train))\n",
    "print(len(test))\n",
    "model=ARIMA(train['amount'],order=(5,0,0),freq='W')\n",
    "model=model.fit()\n",
    "model.summary()"
   ]
  },
  {
   "cell_type": "code",
   "execution_count": null,
   "id": "53571777",
   "metadata": {},
   "outputs": [],
   "source": [
    "start=len(train)\n",
    "end=len(train)+len(test)-1\n",
    "pred=model.predict(start=start,end=end,typ='levels').rename('ARIMA Predictions')\n",
    "pred.plot(legend=True)\n",
    "test['amount'].plot(legend=True)"
   ]
  },
  {
   "cell_type": "code",
   "execution_count": null,
   "id": "b5d69018",
   "metadata": {},
   "outputs": [],
   "source": [
    "end=len(train)+len(test)-1\n",
    "pred=model.predict(start=0,end=end,typ='levels').rename('ARIMA Predictions')\n",
    "pred.plot(legend=True)\n",
    "df['amount'].plot(legend=True)"
   ]
  },
  {
   "cell_type": "code",
   "execution_count": null,
   "id": "0eadf1b5",
   "metadata": {},
   "outputs": [],
   "source": []
  },
  {
   "cell_type": "code",
   "execution_count": null,
   "id": "7ab9517d",
   "metadata": {},
   "outputs": [],
   "source": []
  },
  {
   "cell_type": "code",
   "execution_count": null,
   "id": "8f206080",
   "metadata": {},
   "outputs": [],
   "source": []
  },
  {
   "cell_type": "code",
   "execution_count": null,
   "id": "bcb018f7",
   "metadata": {},
   "outputs": [],
   "source": []
  }
 ],
 "metadata": {
  "kernelspec": {
   "display_name": "Python 3 (ipykernel)",
   "language": "python",
   "name": "python3"
  },
  "language_info": {
   "codemirror_mode": {
    "name": "ipython",
    "version": 3
   },
   "file_extension": ".py",
   "mimetype": "text/x-python",
   "name": "python",
   "nbconvert_exporter": "python",
   "pygments_lexer": "ipython3",
   "version": "3.8.6"
  }
 },
 "nbformat": 4,
 "nbformat_minor": 5
}
