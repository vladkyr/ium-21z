{
 "cells": [
  {
   "cell_type": "markdown",
   "id": "bee56950-8c7b-45fd-bdc1-110642c29dc0",
   "metadata": {},
   "source": [
    "# Exploratory Data Analysis\n",
    "IUM projekt - 2021Z\n",
    "\n",
    "Zadanie 8, wariant 3\n",
    "\n",
    "Authors: Michał Łątkowski, Vladyslav Kyryk\n",
    "\n",
    "Task - optimalisation of products ordering for next week by predicting the demand"
   ]
  },
  {
   "cell_type": "code",
   "execution_count": 3,
   "id": "1c2a85d4-2aaf-49f2-bf27-3db794bb7d54",
   "metadata": {},
   "outputs": [],
   "source": [
    "# Adding autoreload will let you edit your package and see the changes without restarting the notebook.\n",
    "\n",
    "%load_ext autoreload\n",
    "%autoreload 2"
   ]
  },
  {
   "cell_type": "code",
   "execution_count": 4,
   "id": "e7adf2fa-0921-4f9d-9279-88ed5d9a8a9b",
   "metadata": {},
   "outputs": [],
   "source": [
    "import pandas as pd\n",
    "from datetime import datetime\n",
    "import calendar"
   ]
  },
  {
   "cell_type": "markdown",
   "id": "c3d62a18-43c5-4b86-98ae-edcbaa049864",
   "metadata": {},
   "source": [
    "## Data import"
   ]
  },
  {
   "cell_type": "code",
   "execution_count": 5,
   "id": "fb04754d-918f-4a6e-82ac-098ef7a1a93a",
   "metadata": {},
   "outputs": [],
   "source": [
    "deliveries = pd.read_json(\"../data/raw/deliveries.jsonl\", lines=True)\n",
    "products = pd.read_json(\"../data/raw/products.jsonl\", lines=True)\n",
    "sessions = pd.read_json(\"../data/raw/sessions.jsonl\", lines=True)\n",
    "users = pd.read_json(\"../data/raw/users.jsonl\", lines=True)"
   ]
  },
  {
   "cell_type": "markdown",
   "id": "3d5a694d-cfb9-4724-9504-3ac6ef57099e",
   "metadata": {},
   "source": [
    "## EDA continuation"
   ]
  },
  {
   "cell_type": "code",
   "execution_count": 8,
   "id": "85bf4057-fcc1-4b2f-92b7-e65f7e560c15",
   "metadata": {},
   "outputs": [],
   "source": [
    "buy_sessions = sessions[sessions['event_type'] == 'BUY_PRODUCT']"
   ]
  },
  {
   "cell_type": "code",
   "execution_count": 14,
   "id": "11d92bd3-8da7-4afe-8886-c992ba2793d4",
   "metadata": {},
   "outputs": [
    {
     "data": {
      "text/html": [
       "<div>\n",
       "<style scoped>\n",
       "    .dataframe tbody tr th:only-of-type {\n",
       "        vertical-align: middle;\n",
       "    }\n",
       "\n",
       "    .dataframe tbody tr th {\n",
       "        vertical-align: top;\n",
       "    }\n",
       "\n",
       "    .dataframe thead th {\n",
       "        text-align: right;\n",
       "    }\n",
       "</style>\n",
       "<table border=\"1\" class=\"dataframe\">\n",
       "  <thead>\n",
       "    <tr style=\"text-align: right;\">\n",
       "      <th></th>\n",
       "      <th>session_id</th>\n",
       "      <th>timestamp</th>\n",
       "      <th>user_id</th>\n",
       "      <th>product_id</th>\n",
       "      <th>event_type</th>\n",
       "      <th>offered_discount</th>\n",
       "      <th>purchase_id</th>\n",
       "    </tr>\n",
       "  </thead>\n",
       "  <tbody>\n",
       "    <tr>\n",
       "      <th>2</th>\n",
       "      <td>100001</td>\n",
       "      <td>2021-01-09 20:27:33</td>\n",
       "      <td>104.0</td>\n",
       "      <td>1043.0</td>\n",
       "      <td>BUY_PRODUCT</td>\n",
       "      <td>0</td>\n",
       "      <td>20001.0</td>\n",
       "    </tr>\n",
       "    <tr>\n",
       "      <th>29</th>\n",
       "      <td>100002</td>\n",
       "      <td>2021-01-09 16:11:11</td>\n",
       "      <td>107.0</td>\n",
       "      <td>1297.0</td>\n",
       "      <td>BUY_PRODUCT</td>\n",
       "      <td>10</td>\n",
       "      <td>20002.0</td>\n",
       "    </tr>\n",
       "    <tr>\n",
       "      <th>46</th>\n",
       "      <td>100003</td>\n",
       "      <td>2021-01-09 20:33:15</td>\n",
       "      <td>NaN</td>\n",
       "      <td>1015.0</td>\n",
       "      <td>BUY_PRODUCT</td>\n",
       "      <td>5</td>\n",
       "      <td>20003.0</td>\n",
       "    </tr>\n",
       "    <tr>\n",
       "      <th>65</th>\n",
       "      <td>100006</td>\n",
       "      <td>2021-01-08 05:23:04</td>\n",
       "      <td>108.0</td>\n",
       "      <td>1078.0</td>\n",
       "      <td>BUY_PRODUCT</td>\n",
       "      <td>10</td>\n",
       "      <td>20004.0</td>\n",
       "    </tr>\n",
       "    <tr>\n",
       "      <th>186</th>\n",
       "      <td>100011</td>\n",
       "      <td>2021-01-10 19:50:56</td>\n",
       "      <td>114.0</td>\n",
       "      <td>1169.0</td>\n",
       "      <td>BUY_PRODUCT</td>\n",
       "      <td>0</td>\n",
       "      <td>20005.0</td>\n",
       "    </tr>\n",
       "    <tr>\n",
       "      <th>...</th>\n",
       "      <td>...</td>\n",
       "      <td>...</td>\n",
       "      <td>...</td>\n",
       "      <td>...</td>\n",
       "      <td>...</td>\n",
       "      <td>...</td>\n",
       "      <td>...</td>\n",
       "    </tr>\n",
       "    <tr>\n",
       "      <th>173249</th>\n",
       "      <td>109837</td>\n",
       "      <td>2021-01-03 02:05:42</td>\n",
       "      <td>NaN</td>\n",
       "      <td>1036.0</td>\n",
       "      <td>BUY_PRODUCT</td>\n",
       "      <td>5</td>\n",
       "      <td>22971.0</td>\n",
       "    </tr>\n",
       "    <tr>\n",
       "      <th>173258</th>\n",
       "      <td>109838</td>\n",
       "      <td>2021-01-02 22:00:31</td>\n",
       "      <td>218.0</td>\n",
       "      <td>1042.0</td>\n",
       "      <td>BUY_PRODUCT</td>\n",
       "      <td>5</td>\n",
       "      <td>22972.0</td>\n",
       "    </tr>\n",
       "    <tr>\n",
       "      <th>173462</th>\n",
       "      <td>109854</td>\n",
       "      <td>2021-01-01 21:30:29</td>\n",
       "      <td>276.0</td>\n",
       "      <td>1069.0</td>\n",
       "      <td>BUY_PRODUCT</td>\n",
       "      <td>15</td>\n",
       "      <td>22973.0</td>\n",
       "    </tr>\n",
       "    <tr>\n",
       "      <th>173617</th>\n",
       "      <td>109862</td>\n",
       "      <td>2021-01-03 04:38:40</td>\n",
       "      <td>297.0</td>\n",
       "      <td>1136.0</td>\n",
       "      <td>BUY_PRODUCT</td>\n",
       "      <td>0</td>\n",
       "      <td>22974.0</td>\n",
       "    </tr>\n",
       "    <tr>\n",
       "      <th>173630</th>\n",
       "      <td>109864</td>\n",
       "      <td>2021-01-01 13:05:38</td>\n",
       "      <td>297.0</td>\n",
       "      <td>1017.0</td>\n",
       "      <td>BUY_PRODUCT</td>\n",
       "      <td>10</td>\n",
       "      <td>22975.0</td>\n",
       "    </tr>\n",
       "  </tbody>\n",
       "</table>\n",
       "<p>2975 rows × 7 columns</p>\n",
       "</div>"
      ],
      "text/plain": [
       "        session_id           timestamp  user_id  product_id   event_type  \\\n",
       "2           100001 2021-01-09 20:27:33    104.0      1043.0  BUY_PRODUCT   \n",
       "29          100002 2021-01-09 16:11:11    107.0      1297.0  BUY_PRODUCT   \n",
       "46          100003 2021-01-09 20:33:15      NaN      1015.0  BUY_PRODUCT   \n",
       "65          100006 2021-01-08 05:23:04    108.0      1078.0  BUY_PRODUCT   \n",
       "186         100011 2021-01-10 19:50:56    114.0      1169.0  BUY_PRODUCT   \n",
       "...            ...                 ...      ...         ...          ...   \n",
       "173249      109837 2021-01-03 02:05:42      NaN      1036.0  BUY_PRODUCT   \n",
       "173258      109838 2021-01-02 22:00:31    218.0      1042.0  BUY_PRODUCT   \n",
       "173462      109854 2021-01-01 21:30:29    276.0      1069.0  BUY_PRODUCT   \n",
       "173617      109862 2021-01-03 04:38:40    297.0      1136.0  BUY_PRODUCT   \n",
       "173630      109864 2021-01-01 13:05:38    297.0      1017.0  BUY_PRODUCT   \n",
       "\n",
       "        offered_discount  purchase_id  \n",
       "2                      0      20001.0  \n",
       "29                    10      20002.0  \n",
       "46                     5      20003.0  \n",
       "65                    10      20004.0  \n",
       "186                    0      20005.0  \n",
       "...                  ...          ...  \n",
       "173249                 5      22971.0  \n",
       "173258                 5      22972.0  \n",
       "173462                15      22973.0  \n",
       "173617                 0      22974.0  \n",
       "173630                10      22975.0  \n",
       "\n",
       "[2975 rows x 7 columns]"
      ]
     },
     "execution_count": 14,
     "metadata": {},
     "output_type": "execute_result"
    }
   ],
   "source": [
    "buy_sessions"
   ]
  },
  {
   "cell_type": "markdown",
   "id": "0e5481bd-18d8-434f-8f12-7e8e52c61784",
   "metadata": {},
   "source": [
    "### How many clients had 1 sessions, how many had 2 sessions, and so on..."
   ]
  },
  {
   "cell_type": "code",
   "execution_count": 44,
   "id": "669cc011-d969-4a3d-879e-6349b8719cda",
   "metadata": {},
   "outputs": [
    {
     "data": {
      "text/plain": [
       "<AxesSubplot:xlabel='session_count'>"
      ]
     },
     "execution_count": 44,
     "metadata": {},
     "output_type": "execute_result"
    },
    {
     "data": {
      "image/png": "[encoded data removed]",
      "text/plain": [
       "<Figure size 432x288 with 1 Axes>"
      ]
     },
     "metadata": {
      "needs_background": "light"
     },
     "output_type": "display_data"
    }
   ],
   "source": [
    "prod_count_per_user = buy_sessions[['session_id', 'user_id']].dropna().groupby(by='user_id', as_index=False).count().rename(columns={'session_id': 'session_count'})\n",
    "user_count_per_prod_count = prod_count_per_user.groupby(by='session_count').count().rename(columns={'user_id': 'user_count'})\n",
    "user_count_per_prod_count.plot.bar()"
   ]
  },
  {
   "cell_type": "markdown",
   "id": "9deaf445-5e0b-4103-96e5-7d396f3705bd",
   "metadata": {},
   "source": [
    "### How many clients bought 1 product, how many bought 2 products, and so on..."
   ]
  },
  {
   "cell_type": "code",
   "execution_count": 42,
   "id": "21fa7ca3-a2ca-4664-8439-4fca6a860731",
   "metadata": {},
   "outputs": [
    {
     "data": {
      "text/plain": [
       "<AxesSubplot:xlabel='product_count'>"
      ]
     },
     "execution_count": 42,
     "metadata": {},
     "output_type": "execute_result"
    },
    {
     "data": {
      "image/png": "[encoded data removed]",
      "text/plain": [
       "<Figure size 432x288 with 1 Axes>"
      ]
     },
     "metadata": {
      "needs_background": "light"
     },
     "output_type": "display_data"
    }
   ],
   "source": [
    "prod_count_per_user = buy_sessions[['product_id', 'user_id']].dropna().groupby(by='user_id', as_index=False).count().rename(columns={'product_id': 'product_count'})\n",
    "user_count_per_prod_count = prod_count_per_user.groupby(by='product_count').count().rename(columns={'user_id': 'user_count'})\n",
    "user_count_per_prod_count.plot.bar()"
   ]
  },
  {
   "cell_type": "code",
   "execution_count": null,
   "id": "91879e2b-fae6-44b6-a31e-c1d283bfdc56",
   "metadata": {},
   "outputs": [],
   "source": []
  }
 ],
 "metadata": {
  "kernelspec": {
   "display_name": "Python 3 (ipykernel)",
   "language": "python",
   "name": "python3"
  },
  "language_info": {
   "codemirror_mode": {
    "name": "ipython",
    "version": 3
   },
   "file_extension": ".py",
   "mimetype": "text/x-python",
   "name": "python",
   "nbconvert_exporter": "python",
   "pygments_lexer": "ipython3",
   "version": "3.7.11"
  }
 },
 "nbformat": 4,
 "nbformat_minor": 5
}
