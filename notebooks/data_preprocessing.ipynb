{
 "cells": [
  {
   "cell_type": "markdown",
   "id": "e8270386-5b65-4e34-b398-6fb5e05ac1af",
   "metadata": {},
   "source": [
    "# Data preprocessing"
   ]
  },
  {
   "cell_type": "markdown",
   "id": "c061b6e2-00a9-4ced-9f57-021962675328",
   "metadata": {
    "jp-MarkdownHeadingCollapsed": true,
    "tags": []
   },
   "source": [
    "## Imports"
   ]
  },
  {
   "cell_type": "code",
   "execution_count": 21,
   "id": "e316e588-caaa-49b9-99dc-cbb09e0dc1f9",
   "metadata": {},
   "outputs": [
    {
     "name": "stdout",
     "output_type": "stream",
     "text": [
      "The autoreload extension is already loaded. To reload it, use:\n",
      "  %reload_ext autoreload\n"
     ]
    }
   ],
   "source": [
    "# Adding autoreload will let you edit your package and see the changes without restarting the notebook.\n",
    "%load_ext autoreload\n",
    "%autoreload 2"
   ]
  },
  {
   "cell_type": "code",
   "execution_count": 22,
   "id": "3a1adb4f-3029-4535-b117-79137bd84398",
   "metadata": {},
   "outputs": [],
   "source": [
    "import pandas as pd\n",
    "import matplotlib.pyplot as plt\n",
    "%matplotlib inline"
   ]
  },
  {
   "cell_type": "markdown",
   "id": "512495e3-5930-4a25-90be-e071102d2c43",
   "metadata": {
    "jp-MarkdownHeadingCollapsed": true,
    "tags": []
   },
   "source": [
    "## Data import"
   ]
  },
  {
   "cell_type": "code",
   "execution_count": 23,
   "id": "025f2832-3f72-4ed6-8d14-fe5b0384920b",
   "metadata": {},
   "outputs": [],
   "source": [
    "deliveries = pd.read_json(\"../data/raw/second/deliveries.jsonl\", lines=True)\n",
    "products = pd.read_json(\"../data/raw/second/products.jsonl\", lines=True)\n",
    "sessions = pd.read_json(\"../data/raw/second/sessions.jsonl\", lines=True)\n",
    "users = pd.read_json(\"../data/raw/second/users.jsonl\", lines=True)"
   ]
  },
  {
   "cell_type": "code",
   "execution_count": 24,
   "id": "de491e34-30fd-4c56-ac2c-067afb32e63e",
   "metadata": {},
   "outputs": [
    {
     "data": {
      "text/html": [
       "<div>\n",
       "<style scoped>\n",
       "    .dataframe tbody tr th:only-of-type {\n",
       "        vertical-align: middle;\n",
       "    }\n",
       "\n",
       "    .dataframe tbody tr th {\n",
       "        vertical-align: top;\n",
       "    }\n",
       "\n",
       "    .dataframe thead th {\n",
       "        text-align: right;\n",
       "    }\n",
       "</style>\n",
       "<table border=\"1\" class=\"dataframe\">\n",
       "  <thead>\n",
       "    <tr style=\"text-align: right;\">\n",
       "      <th></th>\n",
       "      <th>session_id</th>\n",
       "      <th>timestamp</th>\n",
       "      <th>user_id</th>\n",
       "      <th>product_id</th>\n",
       "      <th>event_type</th>\n",
       "      <th>offered_discount</th>\n",
       "      <th>purchase_id</th>\n",
       "    </tr>\n",
       "  </thead>\n",
       "  <tbody>\n",
       "    <tr>\n",
       "      <th>132</th>\n",
       "      <td>126</td>\n",
       "      <td>2019-12-30 14:25:31</td>\n",
       "      <td>114</td>\n",
       "      <td>1005</td>\n",
       "      <td>BUY_PRODUCT</td>\n",
       "      <td>5</td>\n",
       "      <td>20001.0</td>\n",
       "    </tr>\n",
       "    <tr>\n",
       "      <th>167</th>\n",
       "      <td>130</td>\n",
       "      <td>2019-12-30 17:35:47</td>\n",
       "      <td>126</td>\n",
       "      <td>1076</td>\n",
       "      <td>BUY_PRODUCT</td>\n",
       "      <td>10</td>\n",
       "      <td>20002.0</td>\n",
       "    </tr>\n",
       "    <tr>\n",
       "      <th>182</th>\n",
       "      <td>131</td>\n",
       "      <td>2019-12-31 15:14:01</td>\n",
       "      <td>127</td>\n",
       "      <td>1005</td>\n",
       "      <td>BUY_PRODUCT</td>\n",
       "      <td>20</td>\n",
       "      <td>20003.0</td>\n",
       "    </tr>\n",
       "    <tr>\n",
       "      <th>202</th>\n",
       "      <td>133</td>\n",
       "      <td>2019-12-31 14:20:20</td>\n",
       "      <td>135</td>\n",
       "      <td>1030</td>\n",
       "      <td>BUY_PRODUCT</td>\n",
       "      <td>15</td>\n",
       "      <td>20004.0</td>\n",
       "    </tr>\n",
       "    <tr>\n",
       "      <th>204</th>\n",
       "      <td>134</td>\n",
       "      <td>2019-12-31 04:02:00</td>\n",
       "      <td>139</td>\n",
       "      <td>1084</td>\n",
       "      <td>BUY_PRODUCT</td>\n",
       "      <td>20</td>\n",
       "      <td>20005.0</td>\n",
       "    </tr>\n",
       "    <tr>\n",
       "      <th>...</th>\n",
       "      <td>...</td>\n",
       "      <td>...</td>\n",
       "      <td>...</td>\n",
       "      <td>...</td>\n",
       "      <td>...</td>\n",
       "      <td>...</td>\n",
       "      <td>...</td>\n",
       "    </tr>\n",
       "    <tr>\n",
       "      <th>787104</th>\n",
       "      <td>43957</td>\n",
       "      <td>2021-01-01 16:44:14</td>\n",
       "      <td>376</td>\n",
       "      <td>1284</td>\n",
       "      <td>BUY_PRODUCT</td>\n",
       "      <td>20</td>\n",
       "      <td>36052.0</td>\n",
       "    </tr>\n",
       "    <tr>\n",
       "      <th>787183</th>\n",
       "      <td>43963</td>\n",
       "      <td>2021-01-03 17:25:05</td>\n",
       "      <td>390</td>\n",
       "      <td>1042</td>\n",
       "      <td>BUY_PRODUCT</td>\n",
       "      <td>15</td>\n",
       "      <td>36053.0</td>\n",
       "    </tr>\n",
       "    <tr>\n",
       "      <th>787199</th>\n",
       "      <td>43964</td>\n",
       "      <td>2021-01-01 15:28:42</td>\n",
       "      <td>390</td>\n",
       "      <td>1017</td>\n",
       "      <td>BUY_PRODUCT</td>\n",
       "      <td>15</td>\n",
       "      <td>36054.0</td>\n",
       "    </tr>\n",
       "    <tr>\n",
       "      <th>787201</th>\n",
       "      <td>43965</td>\n",
       "      <td>2021-01-01 02:35:51</td>\n",
       "      <td>392</td>\n",
       "      <td>1077</td>\n",
       "      <td>BUY_PRODUCT</td>\n",
       "      <td>0</td>\n",
       "      <td>36055.0</td>\n",
       "    </tr>\n",
       "    <tr>\n",
       "      <th>787205</th>\n",
       "      <td>43966</td>\n",
       "      <td>2021-01-01 01:26:52</td>\n",
       "      <td>394</td>\n",
       "      <td>1042</td>\n",
       "      <td>BUY_PRODUCT</td>\n",
       "      <td>20</td>\n",
       "      <td>36056.0</td>\n",
       "    </tr>\n",
       "  </tbody>\n",
       "</table>\n",
       "<p>16056 rows × 7 columns</p>\n",
       "</div>"
      ],
      "text/plain": [
       "        session_id           timestamp  user_id  product_id   event_type  \\\n",
       "132            126 2019-12-30 14:25:31      114        1005  BUY_PRODUCT   \n",
       "167            130 2019-12-30 17:35:47      126        1076  BUY_PRODUCT   \n",
       "182            131 2019-12-31 15:14:01      127        1005  BUY_PRODUCT   \n",
       "202            133 2019-12-31 14:20:20      135        1030  BUY_PRODUCT   \n",
       "204            134 2019-12-31 04:02:00      139        1084  BUY_PRODUCT   \n",
       "...            ...                 ...      ...         ...          ...   \n",
       "787104       43957 2021-01-01 16:44:14      376        1284  BUY_PRODUCT   \n",
       "787183       43963 2021-01-03 17:25:05      390        1042  BUY_PRODUCT   \n",
       "787199       43964 2021-01-01 15:28:42      390        1017  BUY_PRODUCT   \n",
       "787201       43965 2021-01-01 02:35:51      392        1077  BUY_PRODUCT   \n",
       "787205       43966 2021-01-01 01:26:52      394        1042  BUY_PRODUCT   \n",
       "\n",
       "        offered_discount  purchase_id  \n",
       "132                    5      20001.0  \n",
       "167                   10      20002.0  \n",
       "182                   20      20003.0  \n",
       "202                   15      20004.0  \n",
       "204                   20      20005.0  \n",
       "...                  ...          ...  \n",
       "787104                20      36052.0  \n",
       "787183                15      36053.0  \n",
       "787199                15      36054.0  \n",
       "787201                 0      36055.0  \n",
       "787205                20      36056.0  \n",
       "\n",
       "[16056 rows x 7 columns]"
      ]
     },
     "execution_count": 24,
     "metadata": {},
     "output_type": "execute_result"
    }
   ],
   "source": [
    "buy_sessions = sessions.loc[sessions['event_type'] == 'BUY_PRODUCT'].copy()\n",
    "buy_sessions"
   ]
  },
  {
   "cell_type": "markdown",
   "id": "62f5e109-a3a2-4b2a-befa-b0bf72988fbc",
   "metadata": {
    "tags": []
   },
   "source": [
    "## Data Cleaning"
   ]
  },
  {
   "cell_type": "code",
   "execution_count": 25,
   "id": "1e0fe0a4-7337-4afb-8230-6d45153695ca",
   "metadata": {},
   "outputs": [],
   "source": [
    "buy_sessions.loc[:, 'purchase_id'] = buy_sessions.loc[:, 'purchase_id'].astype(int)"
   ]
  },
  {
   "cell_type": "code",
   "execution_count": 26,
   "id": "05db54d7-ed3e-4e56-8aa1-039a977d145b",
   "metadata": {},
   "outputs": [],
   "source": [
    "buy_sessions.loc[:, 'week'] = buy_sessions['timestamp'].dropna().dt.isocalendar().week"
   ]
  },
  {
   "cell_type": "code",
   "execution_count": 27,
   "id": "3ae6f166-b7e1-4d47-9bbd-5e7b7bbf2a08",
   "metadata": {},
   "outputs": [],
   "source": [
    "buy_sessions.loc[:, 'year'] = buy_sessions['timestamp'].dropna().dt.year"
   ]
  },
  {
   "cell_type": "code",
   "execution_count": 28,
   "id": "c6b4d06b-8aa3-4e6e-8515-f838114e4f8e",
   "metadata": {},
   "outputs": [],
   "source": [
    "def make_year_week(row):\n",
    "    year = str(row['year'])\n",
    "    week = str(row['week'])\n",
    "    if len(week) == 1:\n",
    "        week = '0' + week\n",
    "    return year + '_' + week"
   ]
  },
  {
   "cell_type": "code",
   "execution_count": 29,
   "id": "dcdb7f26-704c-482a-956e-9f4eb86c7f21",
   "metadata": {},
   "outputs": [],
   "source": [
    "buy_sessions.loc[:, 'year_week'] = buy_sessions.apply(make_year_week, axis=1)"
   ]
  },
  {
   "cell_type": "code",
   "execution_count": 30,
   "id": "d06d09a7-31ef-4ecb-88d0-38174ccd8810",
   "metadata": {},
   "outputs": [],
   "source": [
    "buy_sessions.drop(columns=['user_id', 'event_type', 'offered_discount', 'session_id', 'week', 'year', 'timestamp'], inplace=True)"
   ]
  },
  {
   "cell_type": "code",
   "execution_count": 31,
   "id": "98eadae1-9256-4190-8334-51d32a0df2b0",
   "metadata": {},
   "outputs": [],
   "source": [
    "# results_dir = '../data/interim/'\n",
    "# buy_sessions.to_csv(results_dir + 'csv/buy_sessions_cleaned.csv')\n",
    "# buy_sessions.to_pickle(results_dir + 'pickles/buy_sessions_cleaned.pickle')"
   ]
  },
  {
   "cell_type": "code",
   "execution_count": 32,
   "id": "67918a56-ab0a-4be2-911c-fe9f4c37f6f5",
   "metadata": {},
   "outputs": [
    {
     "name": "stdout",
     "output_type": "stream",
     "text": [
      "<class 'pandas.core.frame.DataFrame'>\n",
      "Int64Index: 16056 entries, 132 to 787205\n",
      "Data columns (total 3 columns):\n",
      " #   Column       Non-Null Count  Dtype \n",
      "---  ------       --------------  ----- \n",
      " 0   product_id   16056 non-null  int64 \n",
      " 1   purchase_id  16056 non-null  int64 \n",
      " 2   year_week    16056 non-null  object\n",
      "dtypes: int64(2), object(1)\n",
      "memory usage: 501.8+ KB\n"
     ]
    }
   ],
   "source": [
    "buy_sessions.info()"
   ]
  },
  {
   "cell_type": "code",
   "execution_count": 33,
   "id": "b4fbe784-7200-40a6-9654-7cc0ae6e5792",
   "metadata": {},
   "outputs": [
    {
     "data": {
      "text/html": [
       "<div>\n",
       "<style scoped>\n",
       "    .dataframe tbody tr th:only-of-type {\n",
       "        vertical-align: middle;\n",
       "    }\n",
       "\n",
       "    .dataframe tbody tr th {\n",
       "        vertical-align: top;\n",
       "    }\n",
       "\n",
       "    .dataframe thead th {\n",
       "        text-align: right;\n",
       "    }\n",
       "</style>\n",
       "<table border=\"1\" class=\"dataframe\">\n",
       "  <thead>\n",
       "    <tr style=\"text-align: right;\">\n",
       "      <th></th>\n",
       "      <th>product_id</th>\n",
       "      <th>purchase_id</th>\n",
       "      <th>year_week</th>\n",
       "    </tr>\n",
       "  </thead>\n",
       "  <tbody>\n",
       "    <tr>\n",
       "      <th>132</th>\n",
       "      <td>1005</td>\n",
       "      <td>20001</td>\n",
       "      <td>2019_01</td>\n",
       "    </tr>\n",
       "    <tr>\n",
       "      <th>167</th>\n",
       "      <td>1076</td>\n",
       "      <td>20002</td>\n",
       "      <td>2019_01</td>\n",
       "    </tr>\n",
       "    <tr>\n",
       "      <th>182</th>\n",
       "      <td>1005</td>\n",
       "      <td>20003</td>\n",
       "      <td>2019_01</td>\n",
       "    </tr>\n",
       "    <tr>\n",
       "      <th>202</th>\n",
       "      <td>1030</td>\n",
       "      <td>20004</td>\n",
       "      <td>2019_01</td>\n",
       "    </tr>\n",
       "    <tr>\n",
       "      <th>204</th>\n",
       "      <td>1084</td>\n",
       "      <td>20005</td>\n",
       "      <td>2019_01</td>\n",
       "    </tr>\n",
       "    <tr>\n",
       "      <th>...</th>\n",
       "      <td>...</td>\n",
       "      <td>...</td>\n",
       "      <td>...</td>\n",
       "    </tr>\n",
       "    <tr>\n",
       "      <th>787104</th>\n",
       "      <td>1284</td>\n",
       "      <td>36052</td>\n",
       "      <td>2021_53</td>\n",
       "    </tr>\n",
       "    <tr>\n",
       "      <th>787183</th>\n",
       "      <td>1042</td>\n",
       "      <td>36053</td>\n",
       "      <td>2021_53</td>\n",
       "    </tr>\n",
       "    <tr>\n",
       "      <th>787199</th>\n",
       "      <td>1017</td>\n",
       "      <td>36054</td>\n",
       "      <td>2021_53</td>\n",
       "    </tr>\n",
       "    <tr>\n",
       "      <th>787201</th>\n",
       "      <td>1077</td>\n",
       "      <td>36055</td>\n",
       "      <td>2021_53</td>\n",
       "    </tr>\n",
       "    <tr>\n",
       "      <th>787205</th>\n",
       "      <td>1042</td>\n",
       "      <td>36056</td>\n",
       "      <td>2021_53</td>\n",
       "    </tr>\n",
       "  </tbody>\n",
       "</table>\n",
       "<p>16056 rows × 3 columns</p>\n",
       "</div>"
      ],
      "text/plain": [
       "        product_id  purchase_id year_week\n",
       "132           1005        20001   2019_01\n",
       "167           1076        20002   2019_01\n",
       "182           1005        20003   2019_01\n",
       "202           1030        20004   2019_01\n",
       "204           1084        20005   2019_01\n",
       "...            ...          ...       ...\n",
       "787104        1284        36052   2021_53\n",
       "787183        1042        36053   2021_53\n",
       "787199        1017        36054   2021_53\n",
       "787201        1077        36055   2021_53\n",
       "787205        1042        36056   2021_53\n",
       "\n",
       "[16056 rows x 3 columns]"
      ]
     },
     "execution_count": 33,
     "metadata": {},
     "output_type": "execute_result"
    }
   ],
   "source": [
    "buy_sessions"
   ]
  },
  {
   "cell_type": "markdown",
   "id": "42b19e43-e814-4278-9417-bf6101643f2d",
   "metadata": {
    "jp-MarkdownHeadingCollapsed": true,
    "tags": []
   },
   "source": [
    "## Calculate how many items of each product were sold each week\n",
    "\n",
    "Create dataframe with unique products in columns and unique weeks in rows, so that each value will mean how many items of each product were sold each week"
   ]
  },
  {
   "cell_type": "code",
   "execution_count": 34,
   "id": "1b65b471-df46-4904-9332-3fc1dddf224c",
   "metadata": {},
   "outputs": [],
   "source": [
    "products_per_week = buy_sessions.groupby(by=['year_week', 'product_id']).count().rename(columns={'purchase_id': 'products_per_week'}).reset_index()"
   ]
  },
  {
   "cell_type": "code",
   "execution_count": 35,
   "id": "140867f1-937c-4752-9c88-36cc64904f68",
   "metadata": {},
   "outputs": [],
   "source": [
    "# results_dir = '../data/processed/'\n",
    "# products_per_week.to_csv(results_dir + 'csv/products_per_week.csv')\n",
    "# products_per_week.to_pickle(results_dir + 'pickles/products_per_week.pickle')"
   ]
  },
  {
   "cell_type": "code",
   "execution_count": 36,
   "id": "26bd9f2e-a645-4ed4-9881-bbf3a1fa4486",
   "metadata": {},
   "outputs": [
    {
     "data": {
      "text/html": [
       "<div>\n",
       "<style scoped>\n",
       "    .dataframe tbody tr th:only-of-type {\n",
       "        vertical-align: middle;\n",
       "    }\n",
       "\n",
       "    .dataframe tbody tr th {\n",
       "        vertical-align: top;\n",
       "    }\n",
       "\n",
       "    .dataframe thead th {\n",
       "        text-align: right;\n",
       "    }\n",
       "</style>\n",
       "<table border=\"1\" class=\"dataframe\">\n",
       "  <thead>\n",
       "    <tr style=\"text-align: right;\">\n",
       "      <th></th>\n",
       "      <th>year_week</th>\n",
       "      <th>product_id</th>\n",
       "      <th>products_per_week</th>\n",
       "    </tr>\n",
       "  </thead>\n",
       "  <tbody>\n",
       "    <tr>\n",
       "      <th>0</th>\n",
       "      <td>2019_01</td>\n",
       "      <td>1005</td>\n",
       "      <td>5</td>\n",
       "    </tr>\n",
       "    <tr>\n",
       "      <th>1</th>\n",
       "      <td>2019_01</td>\n",
       "      <td>1007</td>\n",
       "      <td>2</td>\n",
       "    </tr>\n",
       "    <tr>\n",
       "      <th>2</th>\n",
       "      <td>2019_01</td>\n",
       "      <td>1030</td>\n",
       "      <td>9</td>\n",
       "    </tr>\n",
       "    <tr>\n",
       "      <th>3</th>\n",
       "      <td>2019_01</td>\n",
       "      <td>1041</td>\n",
       "      <td>1</td>\n",
       "    </tr>\n",
       "    <tr>\n",
       "      <th>4</th>\n",
       "      <td>2019_01</td>\n",
       "      <td>1044</td>\n",
       "      <td>1</td>\n",
       "    </tr>\n",
       "    <tr>\n",
       "      <th>...</th>\n",
       "      <td>...</td>\n",
       "      <td>...</td>\n",
       "      <td>...</td>\n",
       "    </tr>\n",
       "    <tr>\n",
       "      <th>4571</th>\n",
       "      <td>2021_53</td>\n",
       "      <td>1081</td>\n",
       "      <td>2</td>\n",
       "    </tr>\n",
       "    <tr>\n",
       "      <th>4572</th>\n",
       "      <td>2021_53</td>\n",
       "      <td>1092</td>\n",
       "      <td>1</td>\n",
       "    </tr>\n",
       "    <tr>\n",
       "      <th>4573</th>\n",
       "      <td>2021_53</td>\n",
       "      <td>1130</td>\n",
       "      <td>1</td>\n",
       "    </tr>\n",
       "    <tr>\n",
       "      <th>4574</th>\n",
       "      <td>2021_53</td>\n",
       "      <td>1284</td>\n",
       "      <td>1</td>\n",
       "    </tr>\n",
       "    <tr>\n",
       "      <th>4575</th>\n",
       "      <td>2021_53</td>\n",
       "      <td>1292</td>\n",
       "      <td>1</td>\n",
       "    </tr>\n",
       "  </tbody>\n",
       "</table>\n",
       "<p>4576 rows × 3 columns</p>\n",
       "</div>"
      ],
      "text/plain": [
       "     year_week  product_id  products_per_week\n",
       "0      2019_01        1005                  5\n",
       "1      2019_01        1007                  2\n",
       "2      2019_01        1030                  9\n",
       "3      2019_01        1041                  1\n",
       "4      2019_01        1044                  1\n",
       "...        ...         ...                ...\n",
       "4571   2021_53        1081                  2\n",
       "4572   2021_53        1092                  1\n",
       "4573   2021_53        1130                  1\n",
       "4574   2021_53        1284                  1\n",
       "4575   2021_53        1292                  1\n",
       "\n",
       "[4576 rows x 3 columns]"
      ]
     },
     "execution_count": 36,
     "metadata": {},
     "output_type": "execute_result"
    }
   ],
   "source": [
    "products_per_week"
   ]
  },
  {
   "cell_type": "markdown",
   "id": "5fc13637-7ada-44cf-b85f-ddadd8b37ff7",
   "metadata": {
    "tags": []
   },
   "source": [
    "## Create line chart spanning entire history of product sells"
   ]
  },
  {
   "cell_type": "code",
   "execution_count": 37,
   "id": "a537394a-e3d0-4096-b87d-51fffebc1081",
   "metadata": {},
   "outputs": [
    {
     "data": {
      "text/plain": [
       "197"
      ]
     },
     "execution_count": 37,
     "metadata": {},
     "output_type": "execute_result"
    }
   ],
   "source": [
    "# Get a list of all products, which appear in buy_sessions, sorted by number of sells\n",
    "# unique_products = products_per_week['product_id'].unique()\n",
    "# unique_products.shape[0]\n",
    "unique_products = products_per_week['product_id'].value_counts().to_frame().index.to_list()\n",
    "len(unique_products)"
   ]
  },
  {
   "cell_type": "code",
   "execution_count": 38,
   "id": "87fea189-5340-42f9-a69a-50bf481386d9",
   "metadata": {},
   "outputs": [],
   "source": [
    "# for prod_id in unique_products:\n",
    "#     products_per_week.loc[products_per_week['product_id'] == prod_id].plot.line(x='year_week', y='products_per_week', title=f'plot for {prod_id}', figsize=(15,9))\n",
    "#     plt.show()"
   ]
  },
  {
   "cell_type": "code",
   "execution_count": 39,
   "id": "97de17d3-1ce7-4fa2-a20b-e54452c5bd56",
   "metadata": {},
   "outputs": [
    {
     "data": {
      "text/plain": [
       "<AxesSubplot:title={'center':'plot for 1080'}, xlabel='year_week'>"
      ]
     },
     "execution_count": 39,
     "metadata": {},
     "output_type": "execute_result"
    },
    {
     "data": {
      "image/png": "[encoded data removed]",
      "text/plain": [
       "<Figure size 1584x792 with 1 Axes>"
      ]
     },
     "metadata": {
      "needs_background": "light"
     },
     "output_type": "display_data"
    }
   ],
   "source": [
    "prod_id = unique_products[0]\n",
    "prod_id = 1080\n",
    "products_per_week.loc[products_per_week['product_id'] == prod_id].drop(columns='product_id').plot.line(x='year_week', y='products_per_week', title=f'plot for {prod_id}', figsize=(22,11))"
   ]
  },
  {
   "cell_type": "code",
   "execution_count": null,
   "id": "12be0a55-6aad-4a4f-a717-9f78ce0569d8",
   "metadata": {},
   "outputs": [],
   "source": []
  }
 ],
 "metadata": {
  "kernelspec": {
   "display_name": "Python 3 (ipykernel)",
   "language": "python",
   "name": "python3"
  },
  "language_info": {
   "codemirror_mode": {
    "name": "ipython",
    "version": 3
   },
   "file_extension": ".py",
   "mimetype": "text/x-python",
   "name": "python",
   "nbconvert_exporter": "python",
   "pygments_lexer": "ipython3",
   "version": "3.10.1"
  }
 },
 "nbformat": 4,
 "nbformat_minor": 5
}
