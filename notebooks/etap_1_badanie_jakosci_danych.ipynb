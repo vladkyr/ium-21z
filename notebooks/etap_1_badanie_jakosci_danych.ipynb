{
 "cells": [
  {
   "cell_type": "code",
   "execution_count": 25,
   "id": "065b933a",
   "metadata": {},
   "outputs": [
    {
     "name": "stdout",
     "output_type": "stream",
     "text": [
      "The autoreload extension is already loaded. To reload it, use:\n",
      "  %reload_ext autoreload\n"
     ]
    }
   ],
   "source": [
    "# Adding autoreload will let you edit your package and see the changes without restarting the notebook.\n",
    "\n",
    "%load_ext autoreload\n",
    "\n",
    "%autoreload 2"
   ]
  },
  {
   "cell_type": "code",
   "execution_count": 26,
   "id": "fa457ac8",
   "metadata": {},
   "outputs": [],
   "source": [
    "import pandas as pd"
   ]
  },
  {
   "cell_type": "code",
   "execution_count": 27,
   "outputs": [],
   "source": [
    "deliveries = pd.read_json(\"../data/raw/deliveries.jsonl\", lines=True)\n",
    "products = pd.read_json(\"../data/raw/products.jsonl\", lines=True)\n",
    "sessions = pd.read_json(\"../data/raw/sessions.jsonl\", lines=True)\n",
    "users = pd.read_json(\"../data/raw/users.jsonl\", lines=True)"
   ],
   "metadata": {
    "collapsed": false,
    "pycharm": {
     "name": "#%%\n"
    }
   }
  },
  {
   "cell_type": "markdown",
   "source": [
    "### Analiza jakosci danych w zbiorze \"deliveries\""
   ],
   "metadata": {
    "collapsed": false
   }
  },
  {
   "cell_type": "code",
   "execution_count": 28,
   "outputs": [
    {
     "name": "stdout",
     "output_type": "stream",
     "text": [
      "Typy w dataframe\n",
      "purchase_id             int64\n",
      "purchase_timestamp     object\n",
      "delivery_timestamp     object\n",
      "delivery_company      float64\n",
      "dtype: object\n",
      "\n",
      "Ilosc pustych wartosci na kolumne\n",
      "purchase_id             0\n",
      "purchase_timestamp      0\n",
      "delivery_timestamp    152\n",
      "delivery_company      131\n",
      "dtype: int64\n",
      "\n",
      "Dataframe po probie konwersji typow\n",
      "purchase_id                    int64\n",
      "purchase_timestamp    datetime64[ns]\n",
      "delivery_timestamp    datetime64[ns]\n",
      "delivery_company               Int64\n",
      "dtype: object\n",
      "\n",
      "Czy purchase_id to unikalny identyfikator?  True\n"
     ]
    }
   ],
   "source": [
    "print(\"Typy w dataframe\")\n",
    "print(deliveries.dtypes)\n",
    "print(\"\\nIlosc pustych wartosci na kolumne\")\n",
    "print(deliveries.isna().sum())\n",
    "deliveries[\"purchase_timestamp\"] = pd.to_datetime(deliveries[\"purchase_timestamp\"])\n",
    "deliveries[\"delivery_timestamp\"] = pd.to_datetime(deliveries[\"delivery_timestamp\"])\n",
    "deliveries[\"delivery_company\"] = deliveries[\"delivery_company\"].astype(\"Int64\")\n",
    "print(\"\\nDataframe po probie konwersji typow\")\n",
    "print(deliveries.dtypes)\n",
    "print(\n",
    "    \"\\nCzy purchase_id to unikalny identyfikator? \",\n",
    "    pd.Series(deliveries[\"purchase_id\"]).is_unique,\n",
    ")"
   ],
   "metadata": {
    "collapsed": false,
    "pycharm": {
     "name": "#%%\n"
    }
   }
  },
  {
   "cell_type": "markdown",
   "source": [
    "Kolumny delivery_timestamp i delivery_company zawierają\n",
    "puste wartości.\n",
    "W przyszłości należałoby albo dostać lepsze dane, albo te kolumny odsiać.\n",
    "Pomyślna konwersja typów sugeruje, że typy danych w zbiorze\n",
    "są takie jak oczekiwane."
   ],
   "metadata": {
    "collapsed": false
   }
  },
  {
   "cell_type": "markdown",
   "source": [
    "### Analiza jakości danych w zbiorze \"products\""
   ],
   "metadata": {
    "collapsed": false,
    "pycharm": {
     "name": "#%% md\n"
    }
   }
  },
  {
   "cell_type": "code",
   "execution_count": 29,
   "outputs": [
    {
     "name": "stdout",
     "output_type": "stream",
     "text": [
      "Typy w dataframe\n",
      "product_id         int64\n",
      "product_name      object\n",
      "category_path     object\n",
      "price            float64\n",
      "dtype: object\n",
      "\n",
      "Ilosc pustych wartosci na kolumne\n",
      "product_id       0\n",
      "product_name     0\n",
      "category_path    0\n",
      "price            0\n",
      "dtype: int64\n",
      "\n",
      "Czy product_id to unikalny identyfikator? True\n",
      "\n",
      "Liczba niedodatnich cen 20\n",
      "\n",
      "Produkty podejrzanie drogie (czesc moze byc poprawna)\n",
      "     product_id                                       product_name  \\\n",
      "1          1002                                 Kyocera FS-1135MFP   \n",
      "2          1003                                 Kyocera FS-3640MFP   \n",
      "3          1004                               Fallout 3 (Xbox 360)   \n",
      "32         1033                                LCD Iiyama T1932MSC   \n",
      "34         1035                      Samsung Galaxy S III GT-i9300   \n",
      "64         1065                                    LCD Asus PA248Q   \n",
      "65         1066                                 LCD Iiyama T1931SR   \n",
      "74         1075                                     Ricoh SG3110DN   \n",
      "75         1076  Samsung CLX-6260FR ### Gadżety Samsung ### Eks...   \n",
      "76         1077                                Kyocera FS-C2026MFP   \n",
      "77         1078                                 Kyocera FS-3540MFP   \n",
      "78         1079                                 Kyocera FS-3040MFP   \n",
      "79         1080                                 Kyocera FS-3140MFP   \n",
      "80         1081                                         OKI B840dn   \n",
      "111        1112                                   Singularity (PC)   \n",
      "123        1124                               Devil May Cry 4 (PC)   \n",
      "128        1129               Battlefield Bad Company 2 (Xbox 360)   \n",
      "139        1140                        Euro Truck Simulator 2 (PC)   \n",
      "150        1151                                       Mafia 2 (PC)   \n",
      "181        1182                                 Battlefield 3 (PC)   \n",
      "196        1197                              Hearts of Iron 3 (PC)   \n",
      "200        1201                                    Jabra Speak 410   \n",
      "213        1214      Call of Cthulhu Mroczne zakamarki Świata (PC)   \n",
      "216        1217                           Hitman Krwawa Forsa (PC)   \n",
      "218        1219                                    Overlord 2 (PC)   \n",
      "235        1236                     Avencast Rise of the Mage (PC)   \n",
      "245        1246                                       Quake 4 (PC)   \n",
      "253        1254   Warhammer 40.000 Dawn of War Winter Assault (PC)   \n",
      "268        1269                                    Space Hack (PC)   \n",
      "275        1276                               Apple iPad mini 64GB   \n",
      "276        1277                            Apple iPad mini 64GB 4G   \n",
      "305        1306                                One For All SV 9215   \n",
      "\n",
      "                                         category_path         price  \n",
      "1    Komputery;Drukarki i skanery;Biurowe urządzeni...  2.048500e+03  \n",
      "2    Komputery;Drukarki i skanery;Biurowe urządzeni...  7.639000e+03  \n",
      "3            Gry i konsole;Gry na konsole;Gry Xbox 360  4.999000e+07  \n",
      "32                     Komputery;Monitory;Monitory LCD  3.029000e+03  \n",
      "34             Telefony i akcesoria;Telefony komórkowe  2.199900e+03  \n",
      "64                     Komputery;Monitory;Monitory LCD  1.419000e+03  \n",
      "65                     Komputery;Monitory;Monitory LCD  2.065000e+03  \n",
      "74   Komputery;Drukarki i skanery;Biurowe urządzeni...  1.998140e+03  \n",
      "75   Komputery;Drukarki i skanery;Biurowe urządzeni...  2.399000e+03  \n",
      "76   Komputery;Drukarki i skanery;Biurowe urządzeni...  3.777000e+03  \n",
      "77   Komputery;Drukarki i skanery;Biurowe urządzeni...  5.126000e+09  \n",
      "78   Komputery;Drukarki i skanery;Biurowe urządzeni...  4.598000e+09  \n",
      "79   Komputery;Drukarki i skanery;Biurowe urządzeni...  5.301900e+03  \n",
      "80   Komputery;Drukarki i skanery;Biurowe urządzeni...  5.259000e+03  \n",
      "111                      Gry i konsole;Gry komputerowe  8.900000e+06  \n",
      "123                      Gry i konsole;Gry komputerowe  9.400000e+07  \n",
      "128          Gry i konsole;Gry na konsole;Gry Xbox 360  8.999000e+07  \n",
      "139                      Gry i konsole;Gry komputerowe  1.299000e+07  \n",
      "150                      Gry i konsole;Gry komputerowe  1.190000e+07  \n",
      "181                      Gry i konsole;Gry komputerowe  3.690000e+07  \n",
      "196                      Gry i konsole;Gry komputerowe  1.599000e+07  \n",
      "200  Telefony i akcesoria;Akcesoria telefoniczne;Ze...  3.274700e+08  \n",
      "213                      Gry i konsole;Gry komputerowe  1.899000e+07  \n",
      "216                      Gry i konsole;Gry komputerowe  1.990000e+07  \n",
      "218                      Gry i konsole;Gry komputerowe  3.499000e+07  \n",
      "235                      Gry i konsole;Gry komputerowe  3.199000e+07  \n",
      "245                      Gry i konsole;Gry komputerowe  3.399000e+07  \n",
      "253                      Gry i konsole;Gry komputerowe  5.590000e+07  \n",
      "268                      Gry i konsole;Gry komputerowe  1.999000e+07  \n",
      "275              Komputery;Tablety i akcesoria;Tablety  1.816970e+03  \n",
      "276              Komputery;Tablety i akcesoria;Tablety  2.317020e+03  \n",
      "305  Sprzęt RTV;Video;Telewizory i akcesoria;Anteny...  7.999000e+07  \n",
      "\n",
      "Czy wszystkie wartosci w kolumnie product_name sa stringami? True\n",
      "\n",
      "Czy wszystkie wartosci w kolumnie category_path sa stringami? True\n"
     ]
    }
   ],
   "source": [
    "print(\"Typy w dataframe\")\n",
    "print(products.dtypes)\n",
    "print(\"\\nIlosc pustych wartosci na kolumne\")\n",
    "print(products.isna().sum())\n",
    "print(\n",
    "    \"\\nCzy product_id to unikalny identyfikator?\",\n",
    "    pd.Series(products[\"product_id\"]).is_unique,\n",
    ")\n",
    "print(\"\\nLiczba niedodatnich cen\", products[\"price\"][products[\"price\"] <= 0].count())\n",
    "print(\"\\nProdukty podejrzanie drogie (czesc moze byc poprawna)\")\n",
    "q = products[\"price\"].quantile(0.90)\n",
    "print(products[products[\"price\"] > q])\n",
    "print(\n",
    "    \"\\nCzy wszystkie wartosci w kolumnie product_name sa stringami?\",\n",
    "    (products[\"product_name\"].apply(type) == str).all(),\n",
    ")\n",
    "print(\n",
    "    \"\\nCzy wszystkie wartosci w kolumnie category_path sa stringami?\",\n",
    "    (products[\"category_path\"].apply(type) == str).all(),\n",
    ")"
   ],
   "metadata": {
    "collapsed": false,
    "pycharm": {
     "name": "#%%\n"
    }
   }
  },
  {
   "cell_type": "markdown",
   "source": [
    "W zbiorze nie ma pustych wartości, product_id jest poprawnym kluczem głównym.\n",
    "Ale w kolumnie 'price' mamy pewne wartości odstające,\n",
    "które w większości są błędne.\n",
    "Wśród tych wartości znajdują się wartości skrajnie duże, jak i ujemne.\n",
    "Product_name i category_path to faktycznie zawsze stringi."
   ],
   "metadata": {
    "collapsed": false,
    "pycharm": {
     "name": "#%% md\n"
    }
   }
  },
  {
   "cell_type": "markdown",
   "source": [
    "### Analiza jakości danych w zbiorze \"sessions\""
   ],
   "metadata": {
    "collapsed": false
   }
  },
  {
   "cell_type": "code",
   "execution_count": 30,
   "outputs": [
    {
     "name": "stdout",
     "output_type": "stream",
     "text": [
      "Typy w dataframe\n",
      "session_id                   int64\n",
      "timestamp           datetime64[ns]\n",
      "user_id                    float64\n",
      "product_id                 float64\n",
      "event_type                  object\n",
      "offered_discount             int64\n",
      "purchase_id                float64\n",
      "dtype: object\n",
      "\n",
      "Ilosc pustych wartosci na kolumne\n",
      "session_id               0\n",
      "timestamp                0\n",
      "user_id               8723\n",
      "product_id            8495\n",
      "event_type               0\n",
      "offered_discount         0\n",
      "purchase_id         170657\n",
      "dtype: int64\n",
      "\n",
      "Dataframe po probie konwersji typow\n",
      "session_id                   int64\n",
      "timestamp           datetime64[ns]\n",
      "user_id                      Int64\n",
      "product_id                   Int64\n",
      "event_type                  object\n",
      "offered_discount             int64\n",
      "purchase_id                  Int64\n",
      "dtype: object\n"
     ]
    }
   ],
   "source": [
    "print(\"Typy w dataframe\")\n",
    "print(sessions.dtypes)\n",
    "print(\"\\nIlosc pustych wartosci na kolumne\")\n",
    "print(sessions.isna().sum())\n",
    "sessions[\"user_id\"] = sessions[\"user_id\"].astype(\"Int64\")\n",
    "sessions[\"product_id\"] = sessions[\"product_id\"].astype(\"Int64\")\n",
    "sessions[\"purchase_id\"] = sessions[\"purchase_id\"].astype(\"Int64\")\n",
    "print(\"\\nDataframe po probie konwersji typow\")\n",
    "print(sessions.dtypes)"
   ],
   "metadata": {
    "collapsed": false,
    "pycharm": {
     "name": "#%%\n"
    }
   }
  },
  {
   "cell_type": "markdown",
   "source": [
    "W zbiorze są puste wartości, w kolumnach user_id i product_id.\n",
    "Wydaje się, że nie powinny być puste - każdy wiersz w ramach tej tablicy\n",
    "jest powiązany z jakimś użytkownikiem i jakimś produktem.\n",
    "Pomyślna konwersja typów sugeruje jednak, że wartości zmiennoprzecinkowych tam nie ma\n",
    "(to, że typ kolumny to float wynika z pustych wartości w tychże kolumnach).\n",
    "Nie ma tutaj żadnego klucza głównego, ale go nie potrzebujemy."
   ],
   "metadata": {
    "collapsed": false
   }
  },
  {
   "cell_type": "markdown",
   "source": [
    "### Analiza jakości danych w zbiorze \"users\""
   ],
   "metadata": {
    "collapsed": false,
    "pycharm": {
     "name": "#%% md\n"
    }
   }
  },
  {
   "cell_type": "code",
   "execution_count": 31,
   "outputs": [
    {
     "name": "stdout",
     "output_type": "stream",
     "text": [
      "Typy w dataframe\n",
      "user_id     int64\n",
      "name       object\n",
      "city       object\n",
      "street     object\n",
      "dtype: object\n",
      "\n",
      "Ilosc pustych wartosci na kolumne\n",
      "user_id    0\n",
      "name       0\n",
      "city       0\n",
      "street     0\n",
      "dtype: int64\n",
      "\n",
      "Czy user_id to unikalny identyfikator? True\n",
      "\n",
      "Czy wszystkie wartosci w kolumnie name sa stringami? True\n",
      "\n",
      "Czy wszystkie wartosci w kolumnie city sa stringami? True\n",
      "\n",
      "Czy wszystkie wartosci w kolumnie street sa stringami? True\n"
     ]
    }
   ],
   "source": [
    "print(\"Typy w dataframe\")\n",
    "print(users.dtypes)\n",
    "print(\"\\nIlosc pustych wartosci na kolumne\")\n",
    "print(users.isna().sum())\n",
    "print(\"\\nCzy user_id to unikalny identyfikator?\", pd.Series(users[\"user_id\"]).is_unique)\n",
    "print(\n",
    "    \"\\nCzy wszystkie wartosci w kolumnie name sa stringami?\",\n",
    "    (users[\"name\"].apply(type) == str).all(),\n",
    ")\n",
    "print(\n",
    "    \"\\nCzy wszystkie wartosci w kolumnie city sa stringami?\",\n",
    "    (users[\"city\"].apply(type) == str).all(),\n",
    ")\n",
    "print(\n",
    "    \"\\nCzy wszystkie wartosci w kolumnie street sa stringami?\",\n",
    "    (users[\"street\"].apply(type) == str).all(),\n",
    ")"
   ],
   "metadata": {
    "collapsed": false,
    "pycharm": {
     "name": "#%%\n"
    }
   }
  },
  {
   "cell_type": "markdown",
   "source": [
    "W zbiorze nie ma pustych wartości, każda wartość, która powinna być stringiem, jest stringiem,\n",
    "user_id to faktycznie unikalny identyfikator. Niemniej jednak zawarte tu dane\n",
    "nie niosą nam prawdopodobnie żadnej wartości w kontekście zadania."
   ],
   "metadata": {
    "collapsed": false
   }
  }
 ],
 "metadata": {
  "kernelspec": {
   "display_name": "Python 3 (ipykernel)",
   "language": "python",
   "name": "python3"
  },
  "language_info": {
   "codemirror_mode": {
    "name": "ipython",
    "version": 3
   },
   "file_extension": ".py",
   "mimetype": "text/x-python",
   "name": "python",
   "nbconvert_exporter": "python",
   "pygments_lexer": "ipython3",
   "version": "3.8.3"
  }
 },
 "nbformat": 4,
 "nbformat_minor": 5
}