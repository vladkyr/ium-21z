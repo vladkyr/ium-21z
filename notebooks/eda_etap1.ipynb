{
 "cells": [
  {
   "cell_type": "markdown",
   "id": "a3a91cd8-58f1-402f-a897-128f759a7d2b",
   "metadata": {},
   "source": [
    "# Exploratory Data Analysis\n",
    "IUM projekt - 2021Z\n",
    "\n",
    "Zadanie 8, wariant 3\n",
    "\n",
    "Authors: Michał Łątkowski, Vladyslav Kyryk\n",
    "\n",
    "Task - optimalisation of products ordering for next week by predicting the demand\n"
   ]
  },
  {
   "cell_type": "code",
   "execution_count": 77,
   "id": "065b933a",
   "metadata": {},
   "outputs": [
    {
     "name": "stdout",
     "output_type": "stream",
     "text": [
      "The autoreload extension is already loaded. To reload it, use:\n",
      "  %reload_ext autoreload\n"
     ]
    }
   ],
   "source": [
    "# Adding autoreload will let you edit your package and see the changes without restarting the notebook.\n",
    "\n",
    "%load_ext autoreload\n",
    "%autoreload 2"
   ]
  },
  {
   "cell_type": "code",
   "execution_count": 78,
   "id": "fa457ac8",
   "metadata": {},
   "outputs": [],
   "source": [
    "import pandas as pd\n",
    "from datetime import datetime\n",
    "import calendar"
   ]
  },
  {
   "cell_type": "markdown",
   "id": "b39ad54d-6a3b-4837-9335-db9620a74b4f",
   "metadata": {},
   "source": [
    "## Data import"
   ]
  },
  {
   "cell_type": "code",
   "execution_count": 79,
   "id": "391b5e5f",
   "metadata": {
    "collapsed": false,
    "jupyter": {
     "outputs_hidden": false
    },
    "pycharm": {
     "name": "#%%\n"
    }
   },
   "outputs": [],
   "source": [
    "deliveries = pd.read_json(\"../data/raw/deliveries.jsonl\", lines=True)\n",
    "products = pd.read_json(\"../data/raw/products.jsonl\", lines=True)\n",
    "sessions = pd.read_json(\"../data/raw/sessions.jsonl\", lines=True)\n",
    "users = pd.read_json(\"../data/raw/users.jsonl\", lines=True)"
   ]
  },
  {
   "cell_type": "markdown",
   "id": "99c875fd",
   "metadata": {
    "tags": []
   },
   "source": [
    "## Data quality analysis in \"deliveries\" dataset"
   ]
  },
  {
   "cell_type": "code",
   "execution_count": 80,
   "id": "a3acad09-68d8-49a2-b07d-4b34a563b031",
   "metadata": {},
   "outputs": [
    {
     "name": "stdout",
     "output_type": "stream",
     "text": [
      "Typy w dataframe\n",
      "purchase_id             int64\n",
      "purchase_timestamp     object\n",
      "delivery_timestamp     object\n",
      "delivery_company      float64\n",
      "dtype: object\n",
      "\n",
      "Ilosc pustych wartosci na kolumne\n",
      "purchase_id             0\n",
      "purchase_timestamp      0\n",
      "delivery_timestamp    152\n",
      "delivery_company      131\n",
      "dtype: int64\n",
      "\n",
      "Dataframe po probie konwersji typow\n",
      "purchase_id                    int64\n",
      "purchase_timestamp    datetime64[ns]\n",
      "delivery_timestamp    datetime64[ns]\n",
      "delivery_company               Int64\n",
      "dtype: object\n",
      "\n",
      "Czy purchase_id to unikalny identyfikator?  True\n"
     ]
    }
   ],
   "source": [
    "print(\"Typy w dataframe\")\n",
    "print(deliveries.dtypes)\n",
    "print(\"\\nIlosc pustych wartosci na kolumne\")\n",
    "print(deliveries.isna().sum())\n",
    "deliveries[\"purchase_timestamp\"] = pd.to_datetime(deliveries[\"purchase_timestamp\"])\n",
    "deliveries[\"delivery_timestamp\"] = pd.to_datetime(deliveries[\"delivery_timestamp\"])\n",
    "deliveries[\"delivery_company\"] = deliveries[\"delivery_company\"].astype(\"Int64\")\n",
    "print(\"\\nDataframe po probie konwersji typow\")\n",
    "print(deliveries.dtypes)\n",
    "print(\n",
    "    \"\\nCzy purchase_id to unikalny identyfikator? \",\n",
    "    pd.Series(deliveries[\"purchase_id\"]).is_unique,\n",
    ")"
   ]
  },
  {
   "cell_type": "code",
   "execution_count": 81,
   "id": "26784c4b-6bd1-4788-b815-ea53101db87c",
   "metadata": {},
   "outputs": [
    {
     "name": "stdout",
     "output_type": "stream",
     "text": [
      "<class 'pandas.core.frame.DataFrame'>\n",
      "RangeIndex: 2975 entries, 0 to 2974\n",
      "Data columns (total 4 columns):\n",
      " #   Column              Non-Null Count  Dtype         \n",
      "---  ------              --------------  -----         \n",
      " 0   purchase_id         2975 non-null   int64         \n",
      " 1   purchase_timestamp  2975 non-null   datetime64[ns]\n",
      " 2   delivery_timestamp  2823 non-null   datetime64[ns]\n",
      " 3   delivery_company    2844 non-null   Int64         \n",
      "dtypes: Int64(1), datetime64[ns](2), int64(1)\n",
      "memory usage: 96.0 KB\n"
     ]
    }
   ],
   "source": [
    "deliveries.info()"
   ]
  },
  {
   "cell_type": "code",
   "execution_count": 82,
   "id": "efe4f4a3-77d2-44b0-b3a0-9232ed84218e",
   "metadata": {},
   "outputs": [
    {
     "data": {
      "text/html": [
       "<div>\n",
       "<style scoped>\n",
       "    .dataframe tbody tr th:only-of-type {\n",
       "        vertical-align: middle;\n",
       "    }\n",
       "\n",
       "    .dataframe tbody tr th {\n",
       "        vertical-align: top;\n",
       "    }\n",
       "\n",
       "    .dataframe thead th {\n",
       "        text-align: right;\n",
       "    }\n",
       "</style>\n",
       "<table border=\"1\" class=\"dataframe\">\n",
       "  <thead>\n",
       "    <tr style=\"text-align: right;\">\n",
       "      <th></th>\n",
       "      <th>purchase_id</th>\n",
       "      <th>purchase_timestamp</th>\n",
       "      <th>delivery_timestamp</th>\n",
       "      <th>delivery_company</th>\n",
       "    </tr>\n",
       "  </thead>\n",
       "  <tbody>\n",
       "    <tr>\n",
       "      <th>0</th>\n",
       "      <td>20001</td>\n",
       "      <td>2021-01-09 20:27:33</td>\n",
       "      <td>2021-01-11 20:28:09</td>\n",
       "      <td>620</td>\n",
       "    </tr>\n",
       "    <tr>\n",
       "      <th>1</th>\n",
       "      <td>20002</td>\n",
       "      <td>2021-01-09 16:11:11</td>\n",
       "      <td>2021-01-12 16:13:44</td>\n",
       "      <td>360</td>\n",
       "    </tr>\n",
       "    <tr>\n",
       "      <th>2</th>\n",
       "      <td>20003</td>\n",
       "      <td>2021-01-09 20:33:15</td>\n",
       "      <td>2021-01-11 20:37:51</td>\n",
       "      <td>620</td>\n",
       "    </tr>\n",
       "    <tr>\n",
       "      <th>3</th>\n",
       "      <td>20004</td>\n",
       "      <td>2021-01-08 05:23:04</td>\n",
       "      <td>2021-01-12 05:23:36</td>\n",
       "      <td>516</td>\n",
       "    </tr>\n",
       "    <tr>\n",
       "      <th>4</th>\n",
       "      <td>20005</td>\n",
       "      <td>2021-01-10 19:50:56</td>\n",
       "      <td>2021-01-12 19:53:31</td>\n",
       "      <td>620</td>\n",
       "    </tr>\n",
       "    <tr>\n",
       "      <th>...</th>\n",
       "      <td>...</td>\n",
       "      <td>...</td>\n",
       "      <td>...</td>\n",
       "      <td>...</td>\n",
       "    </tr>\n",
       "    <tr>\n",
       "      <th>2970</th>\n",
       "      <td>22971</td>\n",
       "      <td>2021-01-03 02:05:42</td>\n",
       "      <td>2021-01-08 02:09:59</td>\n",
       "      <td>620</td>\n",
       "    </tr>\n",
       "    <tr>\n",
       "      <th>2971</th>\n",
       "      <td>22972</td>\n",
       "      <td>2021-01-02 22:00:31</td>\n",
       "      <td>2021-01-06 22:00:51</td>\n",
       "      <td>360</td>\n",
       "    </tr>\n",
       "    <tr>\n",
       "      <th>2972</th>\n",
       "      <td>22973</td>\n",
       "      <td>2021-01-01 21:30:29</td>\n",
       "      <td>2021-01-05 21:31:01</td>\n",
       "      <td>620</td>\n",
       "    </tr>\n",
       "    <tr>\n",
       "      <th>2973</th>\n",
       "      <td>22974</td>\n",
       "      <td>2021-01-03 04:38:40</td>\n",
       "      <td>NaT</td>\n",
       "      <td>360</td>\n",
       "    </tr>\n",
       "    <tr>\n",
       "      <th>2974</th>\n",
       "      <td>22975</td>\n",
       "      <td>2021-01-01 13:05:38</td>\n",
       "      <td>2021-01-03 13:07:44</td>\n",
       "      <td>&lt;NA&gt;</td>\n",
       "    </tr>\n",
       "  </tbody>\n",
       "</table>\n",
       "<p>2975 rows × 4 columns</p>\n",
       "</div>"
      ],
      "text/plain": [
       "      purchase_id  purchase_timestamp  delivery_timestamp  delivery_company\n",
       "0           20001 2021-01-09 20:27:33 2021-01-11 20:28:09               620\n",
       "1           20002 2021-01-09 16:11:11 2021-01-12 16:13:44               360\n",
       "2           20003 2021-01-09 20:33:15 2021-01-11 20:37:51               620\n",
       "3           20004 2021-01-08 05:23:04 2021-01-12 05:23:36               516\n",
       "4           20005 2021-01-10 19:50:56 2021-01-12 19:53:31               620\n",
       "...           ...                 ...                 ...               ...\n",
       "2970        22971 2021-01-03 02:05:42 2021-01-08 02:09:59               620\n",
       "2971        22972 2021-01-02 22:00:31 2021-01-06 22:00:51               360\n",
       "2972        22973 2021-01-01 21:30:29 2021-01-05 21:31:01               620\n",
       "2973        22974 2021-01-03 04:38:40                 NaT               360\n",
       "2974        22975 2021-01-01 13:05:38 2021-01-03 13:07:44              <NA>\n",
       "\n",
       "[2975 rows x 4 columns]"
      ]
     },
     "execution_count": 82,
     "metadata": {},
     "output_type": "execute_result"
    }
   ],
   "source": [
    "deliveries"
   ]
  },
  {
   "cell_type": "code",
   "execution_count": 83,
   "id": "7a04ee18-bcfe-4585-9ed9-d43909854a5d",
   "metadata": {},
   "outputs": [
    {
     "data": {
      "text/plain": [
       "min   2021-01-01 03:23:09\n",
       "max   2021-10-27 14:54:44\n",
       "Name: purchase_timestamp, dtype: datetime64[ns]"
      ]
     },
     "execution_count": 83,
     "metadata": {},
     "output_type": "execute_result"
    }
   ],
   "source": [
    "deliveries['purchase_timestamp'].agg(['min', 'max'])"
   ]
  },
  {
   "cell_type": "code",
   "execution_count": 84,
   "id": "ea3a013a-1a20-43d1-aa95-2dd7a9977c8e",
   "metadata": {},
   "outputs": [
    {
     "data": {
      "text/plain": [
       "620    975\n",
       "516    941\n",
       "360    928\n",
       "Name: delivery_company, dtype: Int64"
      ]
     },
     "execution_count": 84,
     "metadata": {},
     "output_type": "execute_result"
    }
   ],
   "source": [
    "deliveries['delivery_company'].value_counts()"
   ]
  },
  {
   "cell_type": "markdown",
   "id": "597aa8c6-1bb0-4033-8aae-2c7e1430f243",
   "metadata": {
    "tags": []
   },
   "source": [
    "#### Number of deliveries per month"
   ]
  },
  {
   "cell_type": "code",
   "execution_count": 85,
   "id": "5c3d2de0-5523-43b5-ae18-fd14a6168ca5",
   "metadata": {},
   "outputs": [],
   "source": [
    "deliveries['delivery_month'] = deliveries['delivery_timestamp'].dropna().dt.month"
   ]
  },
  {
   "cell_type": "code",
   "execution_count": 86,
   "id": "20f99404-d313-445a-b453-2aa142e29655",
   "metadata": {},
   "outputs": [
    {
     "data": {
      "text/plain": [
       "<AxesSubplot:>"
      ]
     },
     "execution_count": 86,
     "metadata": {},
     "output_type": "execute_result"
    },
    {
     "data": {
      "image/png": "[encoded data removed]",
      "text/plain": [
       "<Figure size 432x288 with 1 Axes>"
      ]
     },
     "metadata": {
      "needs_background": "light"
     },
     "output_type": "display_data"
    }
   ],
   "source": [
    "deliveries['delivery_month'].value_counts().sort_index().plot.bar()"
   ]
  },
  {
   "cell_type": "markdown",
   "id": "c6e917d1",
   "metadata": {
    "tags": []
   },
   "source": [
    "## Data quality analysis in \"products\" dataset"
   ]
  },
  {
   "cell_type": "code",
   "execution_count": 87,
   "id": "a3a35c3b-5ded-4dcc-8991-d80ac439ae3d",
   "metadata": {},
   "outputs": [
    {
     "name": "stdout",
     "output_type": "stream",
     "text": [
      "Typy w dataframe\n",
      "product_id         int64\n",
      "product_name      object\n",
      "category_path     object\n",
      "price            float64\n",
      "dtype: object\n",
      "\n",
      "Ilosc pustych wartosci na kolumne\n",
      "product_id       0\n",
      "product_name     0\n",
      "category_path    0\n",
      "price            0\n",
      "dtype: int64\n",
      "\n",
      "Czy product_id to unikalny identyfikator? True\n",
      "\n",
      "Liczba niedodatnich cen 20\n",
      "\n",
      "Produkty podejrzanie drogie (czesc moze byc poprawna)\n",
      "     product_id                                       product_name  \\\n",
      "1          1002                                 Kyocera FS-1135MFP   \n",
      "2          1003                                 Kyocera FS-3640MFP   \n",
      "3          1004                               Fallout 3 (Xbox 360)   \n",
      "32         1033                                LCD Iiyama T1932MSC   \n",
      "34         1035                      Samsung Galaxy S III GT-i9300   \n",
      "64         1065                                    LCD Asus PA248Q   \n",
      "65         1066                                 LCD Iiyama T1931SR   \n",
      "74         1075                                     Ricoh SG3110DN   \n",
      "75         1076  Samsung CLX-6260FR ### Gadżety Samsung ### Eks...   \n",
      "76         1077                                Kyocera FS-C2026MFP   \n",
      "77         1078                                 Kyocera FS-3540MFP   \n",
      "78         1079                                 Kyocera FS-3040MFP   \n",
      "79         1080                                 Kyocera FS-3140MFP   \n",
      "80         1081                                         OKI B840dn   \n",
      "111        1112                                   Singularity (PC)   \n",
      "123        1124                               Devil May Cry 4 (PC)   \n",
      "128        1129               Battlefield Bad Company 2 (Xbox 360)   \n",
      "139        1140                        Euro Truck Simulator 2 (PC)   \n",
      "150        1151                                       Mafia 2 (PC)   \n",
      "181        1182                                 Battlefield 3 (PC)   \n",
      "196        1197                              Hearts of Iron 3 (PC)   \n",
      "200        1201                                    Jabra Speak 410   \n",
      "213        1214      Call of Cthulhu Mroczne zakamarki Świata (PC)   \n",
      "216        1217                           Hitman Krwawa Forsa (PC)   \n",
      "218        1219                                    Overlord 2 (PC)   \n",
      "235        1236                     Avencast Rise of the Mage (PC)   \n",
      "245        1246                                       Quake 4 (PC)   \n",
      "253        1254   Warhammer 40.000 Dawn of War Winter Assault (PC)   \n",
      "268        1269                                    Space Hack (PC)   \n",
      "275        1276                               Apple iPad mini 64GB   \n",
      "276        1277                            Apple iPad mini 64GB 4G   \n",
      "305        1306                                One For All SV 9215   \n",
      "\n",
      "                                         category_path         price  \n",
      "1    Komputery;Drukarki i skanery;Biurowe urządzeni...  2.048500e+03  \n",
      "2    Komputery;Drukarki i skanery;Biurowe urządzeni...  7.639000e+03  \n",
      "3            Gry i konsole;Gry na konsole;Gry Xbox 360  4.999000e+07  \n",
      "32                     Komputery;Monitory;Monitory LCD  3.029000e+03  \n",
      "34             Telefony i akcesoria;Telefony komórkowe  2.199900e+03  \n",
      "64                     Komputery;Monitory;Monitory LCD  1.419000e+03  \n",
      "65                     Komputery;Monitory;Monitory LCD  2.065000e+03  \n",
      "74   Komputery;Drukarki i skanery;Biurowe urządzeni...  1.998140e+03  \n",
      "75   Komputery;Drukarki i skanery;Biurowe urządzeni...  2.399000e+03  \n",
      "76   Komputery;Drukarki i skanery;Biurowe urządzeni...  3.777000e+03  \n",
      "77   Komputery;Drukarki i skanery;Biurowe urządzeni...  5.126000e+09  \n",
      "78   Komputery;Drukarki i skanery;Biurowe urządzeni...  4.598000e+09  \n",
      "79   Komputery;Drukarki i skanery;Biurowe urządzeni...  5.301900e+03  \n",
      "80   Komputery;Drukarki i skanery;Biurowe urządzeni...  5.259000e+03  \n",
      "111                      Gry i konsole;Gry komputerowe  8.900000e+06  \n",
      "123                      Gry i konsole;Gry komputerowe  9.400000e+07  \n",
      "128          Gry i konsole;Gry na konsole;Gry Xbox 360  8.999000e+07  \n",
      "139                      Gry i konsole;Gry komputerowe  1.299000e+07  \n",
      "150                      Gry i konsole;Gry komputerowe  1.190000e+07  \n",
      "181                      Gry i konsole;Gry komputerowe  3.690000e+07  \n",
      "196                      Gry i konsole;Gry komputerowe  1.599000e+07  \n",
      "200  Telefony i akcesoria;Akcesoria telefoniczne;Ze...  3.274700e+08  \n",
      "213                      Gry i konsole;Gry komputerowe  1.899000e+07  \n",
      "216                      Gry i konsole;Gry komputerowe  1.990000e+07  \n",
      "218                      Gry i konsole;Gry komputerowe  3.499000e+07  \n",
      "235                      Gry i konsole;Gry komputerowe  3.199000e+07  \n",
      "245                      Gry i konsole;Gry komputerowe  3.399000e+07  \n",
      "253                      Gry i konsole;Gry komputerowe  5.590000e+07  \n",
      "268                      Gry i konsole;Gry komputerowe  1.999000e+07  \n",
      "275              Komputery;Tablety i akcesoria;Tablety  1.816970e+03  \n",
      "276              Komputery;Tablety i akcesoria;Tablety  2.317020e+03  \n",
      "305  Sprzęt RTV;Video;Telewizory i akcesoria;Anteny...  7.999000e+07  \n",
      "\n",
      "Czy wszystkie wartosci w kolumnie product_name sa stringami? True\n",
      "\n",
      "Czy wszystkie wartosci w kolumnie category_path sa stringami? True\n"
     ]
    }
   ],
   "source": [
    "print(\"Typy w dataframe\")\n",
    "print(products.dtypes)\n",
    "print(\"\\nIlosc pustych wartosci na kolumne\")\n",
    "print(products.isna().sum())\n",
    "print(\n",
    "    \"\\nCzy product_id to unikalny identyfikator?\",\n",
    "    pd.Series(products[\"product_id\"]).is_unique,\n",
    ")\n",
    "print(\"\\nLiczba niedodatnich cen\", products[\"price\"][products[\"price\"] <= 0].count())\n",
    "print(\"\\nProdukty podejrzanie drogie (czesc moze byc poprawna)\")\n",
    "q = products[\"price\"].quantile(0.90)\n",
    "print(products[products[\"price\"] > q])\n",
    "print(\n",
    "    \"\\nCzy wszystkie wartosci w kolumnie product_name sa stringami?\",\n",
    "    (products[\"product_name\"].apply(type) == str).all(),\n",
    ")\n",
    "print(\n",
    "    \"\\nCzy wszystkie wartosci w kolumnie category_path sa stringami?\",\n",
    "    (products[\"category_path\"].apply(type) == str).all(),\n",
    ")"
   ]
  },
  {
   "cell_type": "code",
   "execution_count": 88,
   "id": "2a21d907-5f87-4c1d-b11c-d49566195242",
   "metadata": {},
   "outputs": [
    {
     "name": "stdout",
     "output_type": "stream",
     "text": [
      "<class 'pandas.core.frame.DataFrame'>\n",
      "RangeIndex: 319 entries, 0 to 318\n",
      "Data columns (total 4 columns):\n",
      " #   Column         Non-Null Count  Dtype  \n",
      "---  ------         --------------  -----  \n",
      " 0   product_id     319 non-null    int64  \n",
      " 1   product_name   319 non-null    object \n",
      " 2   category_path  319 non-null    object \n",
      " 3   price          319 non-null    float64\n",
      "dtypes: float64(1), int64(1), object(2)\n",
      "memory usage: 10.1+ KB\n"
     ]
    }
   ],
   "source": [
    "products.info()"
   ]
  },
  {
   "cell_type": "code",
   "execution_count": 89,
   "id": "eb84ebec-618f-4ba3-b162-643c4cca9dfb",
   "metadata": {},
   "outputs": [
    {
     "data": {
      "text/html": [
       "<div>\n",
       "<style scoped>\n",
       "    .dataframe tbody tr th:only-of-type {\n",
       "        vertical-align: middle;\n",
       "    }\n",
       "\n",
       "    .dataframe tbody tr th {\n",
       "        vertical-align: top;\n",
       "    }\n",
       "\n",
       "    .dataframe thead th {\n",
       "        text-align: right;\n",
       "    }\n",
       "</style>\n",
       "<table border=\"1\" class=\"dataframe\">\n",
       "  <thead>\n",
       "    <tr style=\"text-align: right;\">\n",
       "      <th></th>\n",
       "      <th>product_id</th>\n",
       "      <th>product_name</th>\n",
       "      <th>category_path</th>\n",
       "      <th>price</th>\n",
       "    </tr>\n",
       "  </thead>\n",
       "  <tbody>\n",
       "    <tr>\n",
       "      <th>0</th>\n",
       "      <td>1001</td>\n",
       "      <td>Telefon Siemens Gigaset DA310</td>\n",
       "      <td>Telefony i akcesoria;Telefony stacjonarne</td>\n",
       "      <td>58.97</td>\n",
       "    </tr>\n",
       "    <tr>\n",
       "      <th>1</th>\n",
       "      <td>1002</td>\n",
       "      <td>Kyocera FS-1135MFP</td>\n",
       "      <td>Komputery;Drukarki i skanery;Biurowe urządzeni...</td>\n",
       "      <td>2048.50</td>\n",
       "    </tr>\n",
       "    <tr>\n",
       "      <th>2</th>\n",
       "      <td>1003</td>\n",
       "      <td>Kyocera FS-3640MFP</td>\n",
       "      <td>Komputery;Drukarki i skanery;Biurowe urządzeni...</td>\n",
       "      <td>7639.00</td>\n",
       "    </tr>\n",
       "    <tr>\n",
       "      <th>3</th>\n",
       "      <td>1004</td>\n",
       "      <td>Fallout 3 (Xbox 360)</td>\n",
       "      <td>Gry i konsole;Gry na konsole;Gry Xbox 360</td>\n",
       "      <td>49990000.00</td>\n",
       "    </tr>\n",
       "    <tr>\n",
       "      <th>4</th>\n",
       "      <td>1005</td>\n",
       "      <td>Szalone Króliki Na żywo i w kolorze (Xbox 360)</td>\n",
       "      <td>Gry i konsole;Gry na konsole;Gry Xbox 360</td>\n",
       "      <td>-49.99</td>\n",
       "    </tr>\n",
       "    <tr>\n",
       "      <th>...</th>\n",
       "      <td>...</td>\n",
       "      <td>...</td>\n",
       "      <td>...</td>\n",
       "      <td>...</td>\n",
       "    </tr>\n",
       "    <tr>\n",
       "      <th>314</th>\n",
       "      <td>1315</td>\n",
       "      <td>Jabra Talk</td>\n",
       "      <td>Telefony i akcesoria;Akcesoria telefoniczne;Ze...</td>\n",
       "      <td>54.99</td>\n",
       "    </tr>\n",
       "    <tr>\n",
       "      <th>315</th>\n",
       "      <td>1316</td>\n",
       "      <td>Plantronics Voyager Legend</td>\n",
       "      <td>Telefony i akcesoria;Akcesoria telefoniczne;Ze...</td>\n",
       "      <td>249.00</td>\n",
       "    </tr>\n",
       "    <tr>\n",
       "      <th>316</th>\n",
       "      <td>1317</td>\n",
       "      <td>Plantronics Savi W740</td>\n",
       "      <td>Telefony i akcesoria;Akcesoria telefoniczne;Ze...</td>\n",
       "      <td>1303.96</td>\n",
       "    </tr>\n",
       "    <tr>\n",
       "      <th>317</th>\n",
       "      <td>1318</td>\n",
       "      <td>Plantronics Savi W710</td>\n",
       "      <td>Sprzęt RTV;Audio;Słuchawki</td>\n",
       "      <td>-553.00</td>\n",
       "    </tr>\n",
       "    <tr>\n",
       "      <th>318</th>\n",
       "      <td>1319</td>\n",
       "      <td>HTC HS-S200</td>\n",
       "      <td>Telefony i akcesoria;Akcesoria telefoniczne;Ze...</td>\n",
       "      <td>14.99</td>\n",
       "    </tr>\n",
       "  </tbody>\n",
       "</table>\n",
       "<p>319 rows × 4 columns</p>\n",
       "</div>"
      ],
      "text/plain": [
       "     product_id                                    product_name  \\\n",
       "0          1001                   Telefon Siemens Gigaset DA310   \n",
       "1          1002                              Kyocera FS-1135MFP   \n",
       "2          1003                              Kyocera FS-3640MFP   \n",
       "3          1004                            Fallout 3 (Xbox 360)   \n",
       "4          1005  Szalone Króliki Na żywo i w kolorze (Xbox 360)   \n",
       "..          ...                                             ...   \n",
       "314        1315                                      Jabra Talk   \n",
       "315        1316                      Plantronics Voyager Legend   \n",
       "316        1317                           Plantronics Savi W740   \n",
       "317        1318                           Plantronics Savi W710   \n",
       "318        1319                                     HTC HS-S200   \n",
       "\n",
       "                                         category_path        price  \n",
       "0            Telefony i akcesoria;Telefony stacjonarne        58.97  \n",
       "1    Komputery;Drukarki i skanery;Biurowe urządzeni...      2048.50  \n",
       "2    Komputery;Drukarki i skanery;Biurowe urządzeni...      7639.00  \n",
       "3            Gry i konsole;Gry na konsole;Gry Xbox 360  49990000.00  \n",
       "4            Gry i konsole;Gry na konsole;Gry Xbox 360       -49.99  \n",
       "..                                                 ...          ...  \n",
       "314  Telefony i akcesoria;Akcesoria telefoniczne;Ze...        54.99  \n",
       "315  Telefony i akcesoria;Akcesoria telefoniczne;Ze...       249.00  \n",
       "316  Telefony i akcesoria;Akcesoria telefoniczne;Ze...      1303.96  \n",
       "317                         Sprzęt RTV;Audio;Słuchawki      -553.00  \n",
       "318  Telefony i akcesoria;Akcesoria telefoniczne;Ze...        14.99  \n",
       "\n",
       "[319 rows x 4 columns]"
      ]
     },
     "execution_count": 89,
     "metadata": {},
     "output_type": "execute_result"
    }
   ],
   "source": [
    "products"
   ]
  },
  {
   "cell_type": "code",
   "execution_count": 90,
   "id": "ae0fb434-757e-496c-8d99-b85b109e5b28",
   "metadata": {},
   "outputs": [
    {
     "data": {
      "text/html": [
       "<div>\n",
       "<style scoped>\n",
       "    .dataframe tbody tr th:only-of-type {\n",
       "        vertical-align: middle;\n",
       "    }\n",
       "\n",
       "    .dataframe tbody tr th {\n",
       "        vertical-align: top;\n",
       "    }\n",
       "\n",
       "    .dataframe thead th {\n",
       "        text-align: right;\n",
       "    }\n",
       "</style>\n",
       "<table border=\"1\" class=\"dataframe\">\n",
       "  <thead>\n",
       "    <tr style=\"text-align: right;\">\n",
       "      <th></th>\n",
       "      <th>product_id</th>\n",
       "      <th>product_name</th>\n",
       "      <th>category_path</th>\n",
       "      <th>price</th>\n",
       "    </tr>\n",
       "  </thead>\n",
       "  <tbody>\n",
       "    <tr>\n",
       "      <th>4</th>\n",
       "      <td>1005</td>\n",
       "      <td>Szalone Króliki Na żywo i w kolorze (Xbox 360)</td>\n",
       "      <td>Gry i konsole;Gry na konsole;Gry Xbox 360</td>\n",
       "      <td>-49.99</td>\n",
       "    </tr>\n",
       "    <tr>\n",
       "      <th>37</th>\n",
       "      <td>1038</td>\n",
       "      <td>LCD Asus VK278Q</td>\n",
       "      <td>Komputery;Monitory;Monitory LCD</td>\n",
       "      <td>-1117.01</td>\n",
       "    </tr>\n",
       "    <tr>\n",
       "      <th>46</th>\n",
       "      <td>1047</td>\n",
       "      <td>Pirates of the Caribbean At World&amp;#39;s End (PS3)</td>\n",
       "      <td>Gry i konsole;Gry na konsole;Gry PlayStation3</td>\n",
       "      <td>-89.90</td>\n",
       "    </tr>\n",
       "    <tr>\n",
       "      <th>51</th>\n",
       "      <td>1052</td>\n",
       "      <td>Duke Nukem Forever (PC)</td>\n",
       "      <td>Gry i konsole;Gry komputerowe</td>\n",
       "      <td>-78.90</td>\n",
       "    </tr>\n",
       "    <tr>\n",
       "      <th>54</th>\n",
       "      <td>1055</td>\n",
       "      <td>Call of Duty Modern Warfare 3 (PC)</td>\n",
       "      <td>Gry i konsole;Gry komputerowe</td>\n",
       "      <td>-32.99</td>\n",
       "    </tr>\n",
       "    <tr>\n",
       "      <th>129</th>\n",
       "      <td>1130</td>\n",
       "      <td>Tom Clancy&amp;#39;s Ghost Recon 4 Future Soldier ...</td>\n",
       "      <td>Gry i konsole;Gry na konsole;Gry Xbox 360</td>\n",
       "      <td>-49.99</td>\n",
       "    </tr>\n",
       "    <tr>\n",
       "      <th>153</th>\n",
       "      <td>1154</td>\n",
       "      <td>Civilization 4 (PC)</td>\n",
       "      <td>Gry i konsole;Gry komputerowe</td>\n",
       "      <td>-40.90</td>\n",
       "    </tr>\n",
       "    <tr>\n",
       "      <th>163</th>\n",
       "      <td>1164</td>\n",
       "      <td>Aliens Colonial Marines (PC)</td>\n",
       "      <td>Gry i konsole;Gry komputerowe</td>\n",
       "      <td>-112.99</td>\n",
       "    </tr>\n",
       "    <tr>\n",
       "      <th>201</th>\n",
       "      <td>1202</td>\n",
       "      <td>Final Fantasy 14 (PC)</td>\n",
       "      <td>Gry i konsole;Gry komputerowe</td>\n",
       "      <td>-135.90</td>\n",
       "    </tr>\n",
       "    <tr>\n",
       "      <th>202</th>\n",
       "      <td>1203</td>\n",
       "      <td>LEGO Batman 2 DC Super Heroes (PC)</td>\n",
       "      <td>Gry i konsole;Gry komputerowe</td>\n",
       "      <td>-29.99</td>\n",
       "    </tr>\n",
       "    <tr>\n",
       "      <th>211</th>\n",
       "      <td>1212</td>\n",
       "      <td>Arma 3 (PC)</td>\n",
       "      <td>Gry i konsole;Gry komputerowe</td>\n",
       "      <td>-102.90</td>\n",
       "    </tr>\n",
       "    <tr>\n",
       "      <th>220</th>\n",
       "      <td>1221</td>\n",
       "      <td>The Sims 3 Cztery Pory Roku (PC)</td>\n",
       "      <td>Gry i konsole;Gry komputerowe</td>\n",
       "      <td>-31.90</td>\n",
       "    </tr>\n",
       "    <tr>\n",
       "      <th>221</th>\n",
       "      <td>1222</td>\n",
       "      <td>Parrot Minikit NEO</td>\n",
       "      <td>Telefony i akcesoria;Akcesoria telefoniczne;Ze...</td>\n",
       "      <td>-245.00</td>\n",
       "    </tr>\n",
       "    <tr>\n",
       "      <th>225</th>\n",
       "      <td>1226</td>\n",
       "      <td>Supreme Commander (PC)</td>\n",
       "      <td>Gry i konsole;Gry komputerowe</td>\n",
       "      <td>-41.90</td>\n",
       "    </tr>\n",
       "    <tr>\n",
       "      <th>233</th>\n",
       "      <td>1234</td>\n",
       "      <td>Sony DVP-SR760</td>\n",
       "      <td>Sprzęt RTV;Video;Odtwarzacze DVD</td>\n",
       "      <td>-193.00</td>\n",
       "    </tr>\n",
       "    <tr>\n",
       "      <th>251</th>\n",
       "      <td>1252</td>\n",
       "      <td>Two Worlds 2 (PC)</td>\n",
       "      <td>Gry i konsole;Gry komputerowe</td>\n",
       "      <td>-12.90</td>\n",
       "    </tr>\n",
       "    <tr>\n",
       "      <th>254</th>\n",
       "      <td>1255</td>\n",
       "      <td>Auta (PC)</td>\n",
       "      <td>Gry i konsole;Gry komputerowe</td>\n",
       "      <td>-32.90</td>\n",
       "    </tr>\n",
       "    <tr>\n",
       "      <th>259</th>\n",
       "      <td>1260</td>\n",
       "      <td>Sleeping Dogs (PC)</td>\n",
       "      <td>Gry i konsole;Gry komputerowe</td>\n",
       "      <td>-74.90</td>\n",
       "    </tr>\n",
       "    <tr>\n",
       "      <th>295</th>\n",
       "      <td>1296</td>\n",
       "      <td>Sencor SDA-630</td>\n",
       "      <td>Sprzęt RTV;Video;Telewizory i akcesoria;Anteny...</td>\n",
       "      <td>-89.99</td>\n",
       "    </tr>\n",
       "    <tr>\n",
       "      <th>317</th>\n",
       "      <td>1318</td>\n",
       "      <td>Plantronics Savi W710</td>\n",
       "      <td>Sprzęt RTV;Audio;Słuchawki</td>\n",
       "      <td>-553.00</td>\n",
       "    </tr>\n",
       "  </tbody>\n",
       "</table>\n",
       "</div>"
      ],
      "text/plain": [
       "     product_id                                       product_name  \\\n",
       "4          1005     Szalone Króliki Na żywo i w kolorze (Xbox 360)   \n",
       "37         1038                                    LCD Asus VK278Q   \n",
       "46         1047  Pirates of the Caribbean At World&#39;s End (PS3)   \n",
       "51         1052                            Duke Nukem Forever (PC)   \n",
       "54         1055                 Call of Duty Modern Warfare 3 (PC)   \n",
       "129        1130  Tom Clancy&#39;s Ghost Recon 4 Future Soldier ...   \n",
       "153        1154                                Civilization 4 (PC)   \n",
       "163        1164                       Aliens Colonial Marines (PC)   \n",
       "201        1202                              Final Fantasy 14 (PC)   \n",
       "202        1203                 LEGO Batman 2 DC Super Heroes (PC)   \n",
       "211        1212                                        Arma 3 (PC)   \n",
       "220        1221                   The Sims 3 Cztery Pory Roku (PC)   \n",
       "221        1222                                 Parrot Minikit NEO   \n",
       "225        1226                             Supreme Commander (PC)   \n",
       "233        1234                                     Sony DVP-SR760   \n",
       "251        1252                                  Two Worlds 2 (PC)   \n",
       "254        1255                                          Auta (PC)   \n",
       "259        1260                                 Sleeping Dogs (PC)   \n",
       "295        1296                                     Sencor SDA-630   \n",
       "317        1318                              Plantronics Savi W710   \n",
       "\n",
       "                                         category_path    price  \n",
       "4            Gry i konsole;Gry na konsole;Gry Xbox 360   -49.99  \n",
       "37                     Komputery;Monitory;Monitory LCD -1117.01  \n",
       "46       Gry i konsole;Gry na konsole;Gry PlayStation3   -89.90  \n",
       "51                       Gry i konsole;Gry komputerowe   -78.90  \n",
       "54                       Gry i konsole;Gry komputerowe   -32.99  \n",
       "129          Gry i konsole;Gry na konsole;Gry Xbox 360   -49.99  \n",
       "153                      Gry i konsole;Gry komputerowe   -40.90  \n",
       "163                      Gry i konsole;Gry komputerowe  -112.99  \n",
       "201                      Gry i konsole;Gry komputerowe  -135.90  \n",
       "202                      Gry i konsole;Gry komputerowe   -29.99  \n",
       "211                      Gry i konsole;Gry komputerowe  -102.90  \n",
       "220                      Gry i konsole;Gry komputerowe   -31.90  \n",
       "221  Telefony i akcesoria;Akcesoria telefoniczne;Ze...  -245.00  \n",
       "225                      Gry i konsole;Gry komputerowe   -41.90  \n",
       "233                   Sprzęt RTV;Video;Odtwarzacze DVD  -193.00  \n",
       "251                      Gry i konsole;Gry komputerowe   -12.90  \n",
       "254                      Gry i konsole;Gry komputerowe   -32.90  \n",
       "259                      Gry i konsole;Gry komputerowe   -74.90  \n",
       "295  Sprzęt RTV;Video;Telewizory i akcesoria;Anteny...   -89.99  \n",
       "317                         Sprzęt RTV;Audio;Słuchawki  -553.00  "
      ]
     },
     "execution_count": 90,
     "metadata": {},
     "output_type": "execute_result"
    }
   ],
   "source": [
    "products[products['price'] < 0]"
   ]
  },
  {
   "cell_type": "code",
   "execution_count": 91,
   "id": "977eb582-1d92-4c57-9e57-bd96e1bffcf7",
   "metadata": {},
   "outputs": [
    {
     "data": {
      "text/plain": [
       "20"
      ]
     },
     "execution_count": 91,
     "metadata": {},
     "output_type": "execute_result"
    }
   ],
   "source": [
    "products[products['price'] < 0].shape[0]"
   ]
  },
  {
   "cell_type": "code",
   "execution_count": 92,
   "id": "fcf4594b-3639-40db-9661-a9cbebba034e",
   "metadata": {},
   "outputs": [
    {
     "data": {
      "text/html": [
       "<div>\n",
       "<style scoped>\n",
       "    .dataframe tbody tr th:only-of-type {\n",
       "        vertical-align: middle;\n",
       "    }\n",
       "\n",
       "    .dataframe tbody tr th {\n",
       "        vertical-align: top;\n",
       "    }\n",
       "\n",
       "    .dataframe thead th {\n",
       "        text-align: right;\n",
       "    }\n",
       "</style>\n",
       "<table border=\"1\" class=\"dataframe\">\n",
       "  <thead>\n",
       "    <tr style=\"text-align: right;\">\n",
       "      <th></th>\n",
       "      <th>product_id</th>\n",
       "      <th>product_name</th>\n",
       "      <th>category_path</th>\n",
       "      <th>price</th>\n",
       "    </tr>\n",
       "  </thead>\n",
       "  <tbody>\n",
       "    <tr>\n",
       "      <th>80</th>\n",
       "      <td>1081</td>\n",
       "      <td>OKI B840dn</td>\n",
       "      <td>Komputery;Drukarki i skanery;Biurowe urządzeni...</td>\n",
       "      <td>5.259000e+03</td>\n",
       "    </tr>\n",
       "    <tr>\n",
       "      <th>79</th>\n",
       "      <td>1080</td>\n",
       "      <td>Kyocera FS-3140MFP</td>\n",
       "      <td>Komputery;Drukarki i skanery;Biurowe urządzeni...</td>\n",
       "      <td>5.301900e+03</td>\n",
       "    </tr>\n",
       "    <tr>\n",
       "      <th>2</th>\n",
       "      <td>1003</td>\n",
       "      <td>Kyocera FS-3640MFP</td>\n",
       "      <td>Komputery;Drukarki i skanery;Biurowe urządzeni...</td>\n",
       "      <td>7.639000e+03</td>\n",
       "    </tr>\n",
       "    <tr>\n",
       "      <th>111</th>\n",
       "      <td>1112</td>\n",
       "      <td>Singularity (PC)</td>\n",
       "      <td>Gry i konsole;Gry komputerowe</td>\n",
       "      <td>8.900000e+06</td>\n",
       "    </tr>\n",
       "    <tr>\n",
       "      <th>150</th>\n",
       "      <td>1151</td>\n",
       "      <td>Mafia 2 (PC)</td>\n",
       "      <td>Gry i konsole;Gry komputerowe</td>\n",
       "      <td>1.190000e+07</td>\n",
       "    </tr>\n",
       "    <tr>\n",
       "      <th>139</th>\n",
       "      <td>1140</td>\n",
       "      <td>Euro Truck Simulator 2 (PC)</td>\n",
       "      <td>Gry i konsole;Gry komputerowe</td>\n",
       "      <td>1.299000e+07</td>\n",
       "    </tr>\n",
       "    <tr>\n",
       "      <th>196</th>\n",
       "      <td>1197</td>\n",
       "      <td>Hearts of Iron 3 (PC)</td>\n",
       "      <td>Gry i konsole;Gry komputerowe</td>\n",
       "      <td>1.599000e+07</td>\n",
       "    </tr>\n",
       "    <tr>\n",
       "      <th>213</th>\n",
       "      <td>1214</td>\n",
       "      <td>Call of Cthulhu Mroczne zakamarki Świata (PC)</td>\n",
       "      <td>Gry i konsole;Gry komputerowe</td>\n",
       "      <td>1.899000e+07</td>\n",
       "    </tr>\n",
       "    <tr>\n",
       "      <th>216</th>\n",
       "      <td>1217</td>\n",
       "      <td>Hitman Krwawa Forsa (PC)</td>\n",
       "      <td>Gry i konsole;Gry komputerowe</td>\n",
       "      <td>1.990000e+07</td>\n",
       "    </tr>\n",
       "    <tr>\n",
       "      <th>268</th>\n",
       "      <td>1269</td>\n",
       "      <td>Space Hack (PC)</td>\n",
       "      <td>Gry i konsole;Gry komputerowe</td>\n",
       "      <td>1.999000e+07</td>\n",
       "    </tr>\n",
       "    <tr>\n",
       "      <th>235</th>\n",
       "      <td>1236</td>\n",
       "      <td>Avencast Rise of the Mage (PC)</td>\n",
       "      <td>Gry i konsole;Gry komputerowe</td>\n",
       "      <td>3.199000e+07</td>\n",
       "    </tr>\n",
       "    <tr>\n",
       "      <th>245</th>\n",
       "      <td>1246</td>\n",
       "      <td>Quake 4 (PC)</td>\n",
       "      <td>Gry i konsole;Gry komputerowe</td>\n",
       "      <td>3.399000e+07</td>\n",
       "    </tr>\n",
       "    <tr>\n",
       "      <th>218</th>\n",
       "      <td>1219</td>\n",
       "      <td>Overlord 2 (PC)</td>\n",
       "      <td>Gry i konsole;Gry komputerowe</td>\n",
       "      <td>3.499000e+07</td>\n",
       "    </tr>\n",
       "    <tr>\n",
       "      <th>181</th>\n",
       "      <td>1182</td>\n",
       "      <td>Battlefield 3 (PC)</td>\n",
       "      <td>Gry i konsole;Gry komputerowe</td>\n",
       "      <td>3.690000e+07</td>\n",
       "    </tr>\n",
       "    <tr>\n",
       "      <th>3</th>\n",
       "      <td>1004</td>\n",
       "      <td>Fallout 3 (Xbox 360)</td>\n",
       "      <td>Gry i konsole;Gry na konsole;Gry Xbox 360</td>\n",
       "      <td>4.999000e+07</td>\n",
       "    </tr>\n",
       "    <tr>\n",
       "      <th>253</th>\n",
       "      <td>1254</td>\n",
       "      <td>Warhammer 40.000 Dawn of War Winter Assault (PC)</td>\n",
       "      <td>Gry i konsole;Gry komputerowe</td>\n",
       "      <td>5.590000e+07</td>\n",
       "    </tr>\n",
       "    <tr>\n",
       "      <th>305</th>\n",
       "      <td>1306</td>\n",
       "      <td>One For All SV 9215</td>\n",
       "      <td>Sprzęt RTV;Video;Telewizory i akcesoria;Anteny...</td>\n",
       "      <td>7.999000e+07</td>\n",
       "    </tr>\n",
       "    <tr>\n",
       "      <th>128</th>\n",
       "      <td>1129</td>\n",
       "      <td>Battlefield Bad Company 2 (Xbox 360)</td>\n",
       "      <td>Gry i konsole;Gry na konsole;Gry Xbox 360</td>\n",
       "      <td>8.999000e+07</td>\n",
       "    </tr>\n",
       "    <tr>\n",
       "      <th>123</th>\n",
       "      <td>1124</td>\n",
       "      <td>Devil May Cry 4 (PC)</td>\n",
       "      <td>Gry i konsole;Gry komputerowe</td>\n",
       "      <td>9.400000e+07</td>\n",
       "    </tr>\n",
       "    <tr>\n",
       "      <th>200</th>\n",
       "      <td>1201</td>\n",
       "      <td>Jabra Speak 410</td>\n",
       "      <td>Telefony i akcesoria;Akcesoria telefoniczne;Ze...</td>\n",
       "      <td>3.274700e+08</td>\n",
       "    </tr>\n",
       "    <tr>\n",
       "      <th>78</th>\n",
       "      <td>1079</td>\n",
       "      <td>Kyocera FS-3040MFP</td>\n",
       "      <td>Komputery;Drukarki i skanery;Biurowe urządzeni...</td>\n",
       "      <td>4.598000e+09</td>\n",
       "    </tr>\n",
       "    <tr>\n",
       "      <th>77</th>\n",
       "      <td>1078</td>\n",
       "      <td>Kyocera FS-3540MFP</td>\n",
       "      <td>Komputery;Drukarki i skanery;Biurowe urządzeni...</td>\n",
       "      <td>5.126000e+09</td>\n",
       "    </tr>\n",
       "  </tbody>\n",
       "</table>\n",
       "</div>"
      ],
      "text/plain": [
       "     product_id                                      product_name  \\\n",
       "80         1081                                        OKI B840dn   \n",
       "79         1080                                Kyocera FS-3140MFP   \n",
       "2          1003                                Kyocera FS-3640MFP   \n",
       "111        1112                                  Singularity (PC)   \n",
       "150        1151                                      Mafia 2 (PC)   \n",
       "139        1140                       Euro Truck Simulator 2 (PC)   \n",
       "196        1197                             Hearts of Iron 3 (PC)   \n",
       "213        1214     Call of Cthulhu Mroczne zakamarki Świata (PC)   \n",
       "216        1217                          Hitman Krwawa Forsa (PC)   \n",
       "268        1269                                   Space Hack (PC)   \n",
       "235        1236                    Avencast Rise of the Mage (PC)   \n",
       "245        1246                                      Quake 4 (PC)   \n",
       "218        1219                                   Overlord 2 (PC)   \n",
       "181        1182                                Battlefield 3 (PC)   \n",
       "3          1004                              Fallout 3 (Xbox 360)   \n",
       "253        1254  Warhammer 40.000 Dawn of War Winter Assault (PC)   \n",
       "305        1306                               One For All SV 9215   \n",
       "128        1129              Battlefield Bad Company 2 (Xbox 360)   \n",
       "123        1124                              Devil May Cry 4 (PC)   \n",
       "200        1201                                   Jabra Speak 410   \n",
       "78         1079                                Kyocera FS-3040MFP   \n",
       "77         1078                                Kyocera FS-3540MFP   \n",
       "\n",
       "                                         category_path         price  \n",
       "80   Komputery;Drukarki i skanery;Biurowe urządzeni...  5.259000e+03  \n",
       "79   Komputery;Drukarki i skanery;Biurowe urządzeni...  5.301900e+03  \n",
       "2    Komputery;Drukarki i skanery;Biurowe urządzeni...  7.639000e+03  \n",
       "111                      Gry i konsole;Gry komputerowe  8.900000e+06  \n",
       "150                      Gry i konsole;Gry komputerowe  1.190000e+07  \n",
       "139                      Gry i konsole;Gry komputerowe  1.299000e+07  \n",
       "196                      Gry i konsole;Gry komputerowe  1.599000e+07  \n",
       "213                      Gry i konsole;Gry komputerowe  1.899000e+07  \n",
       "216                      Gry i konsole;Gry komputerowe  1.990000e+07  \n",
       "268                      Gry i konsole;Gry komputerowe  1.999000e+07  \n",
       "235                      Gry i konsole;Gry komputerowe  3.199000e+07  \n",
       "245                      Gry i konsole;Gry komputerowe  3.399000e+07  \n",
       "218                      Gry i konsole;Gry komputerowe  3.499000e+07  \n",
       "181                      Gry i konsole;Gry komputerowe  3.690000e+07  \n",
       "3            Gry i konsole;Gry na konsole;Gry Xbox 360  4.999000e+07  \n",
       "253                      Gry i konsole;Gry komputerowe  5.590000e+07  \n",
       "305  Sprzęt RTV;Video;Telewizory i akcesoria;Anteny...  7.999000e+07  \n",
       "128          Gry i konsole;Gry na konsole;Gry Xbox 360  8.999000e+07  \n",
       "123                      Gry i konsole;Gry komputerowe  9.400000e+07  \n",
       "200  Telefony i akcesoria;Akcesoria telefoniczne;Ze...  3.274700e+08  \n",
       "78   Komputery;Drukarki i skanery;Biurowe urządzeni...  4.598000e+09  \n",
       "77   Komputery;Drukarki i skanery;Biurowe urządzeni...  5.126000e+09  "
      ]
     },
     "execution_count": 92,
     "metadata": {},
     "output_type": "execute_result"
    }
   ],
   "source": [
    "products[products['price'] > 5000].sort_values(by='price')"
   ]
  },
  {
   "cell_type": "code",
   "execution_count": 93,
   "id": "25c5578d-186b-4814-bcc3-b3fcf5bf3ff5",
   "metadata": {},
   "outputs": [
    {
     "data": {
      "text/plain": [
       "22"
      ]
     },
     "execution_count": 93,
     "metadata": {},
     "output_type": "execute_result"
    }
   ],
   "source": [
    "products[products['price'] > 5000].shape[0]"
   ]
  },
  {
   "cell_type": "code",
   "execution_count": 94,
   "id": "619cb635-952c-4be6-813a-2c03df70d393",
   "metadata": {},
   "outputs": [
    {
     "data": {
      "text/html": [
       "<div>\n",
       "<style scoped>\n",
       "    .dataframe tbody tr th:only-of-type {\n",
       "        vertical-align: middle;\n",
       "    }\n",
       "\n",
       "    .dataframe tbody tr th {\n",
       "        vertical-align: top;\n",
       "    }\n",
       "\n",
       "    .dataframe thead th {\n",
       "        text-align: right;\n",
       "    }\n",
       "</style>\n",
       "<table border=\"1\" class=\"dataframe\">\n",
       "  <thead>\n",
       "    <tr style=\"text-align: right;\">\n",
       "      <th></th>\n",
       "      <th>product_id</th>\n",
       "      <th>product_name</th>\n",
       "      <th>category_path</th>\n",
       "      <th>price</th>\n",
       "    </tr>\n",
       "  </thead>\n",
       "  <tbody>\n",
       "    <tr>\n",
       "      <th>111</th>\n",
       "      <td>1112</td>\n",
       "      <td>Singularity (PC)</td>\n",
       "      <td>Gry i konsole;Gry komputerowe</td>\n",
       "      <td>8.900000e+06</td>\n",
       "    </tr>\n",
       "    <tr>\n",
       "      <th>150</th>\n",
       "      <td>1151</td>\n",
       "      <td>Mafia 2 (PC)</td>\n",
       "      <td>Gry i konsole;Gry komputerowe</td>\n",
       "      <td>1.190000e+07</td>\n",
       "    </tr>\n",
       "    <tr>\n",
       "      <th>139</th>\n",
       "      <td>1140</td>\n",
       "      <td>Euro Truck Simulator 2 (PC)</td>\n",
       "      <td>Gry i konsole;Gry komputerowe</td>\n",
       "      <td>1.299000e+07</td>\n",
       "    </tr>\n",
       "    <tr>\n",
       "      <th>196</th>\n",
       "      <td>1197</td>\n",
       "      <td>Hearts of Iron 3 (PC)</td>\n",
       "      <td>Gry i konsole;Gry komputerowe</td>\n",
       "      <td>1.599000e+07</td>\n",
       "    </tr>\n",
       "    <tr>\n",
       "      <th>213</th>\n",
       "      <td>1214</td>\n",
       "      <td>Call of Cthulhu Mroczne zakamarki Świata (PC)</td>\n",
       "      <td>Gry i konsole;Gry komputerowe</td>\n",
       "      <td>1.899000e+07</td>\n",
       "    </tr>\n",
       "    <tr>\n",
       "      <th>216</th>\n",
       "      <td>1217</td>\n",
       "      <td>Hitman Krwawa Forsa (PC)</td>\n",
       "      <td>Gry i konsole;Gry komputerowe</td>\n",
       "      <td>1.990000e+07</td>\n",
       "    </tr>\n",
       "    <tr>\n",
       "      <th>268</th>\n",
       "      <td>1269</td>\n",
       "      <td>Space Hack (PC)</td>\n",
       "      <td>Gry i konsole;Gry komputerowe</td>\n",
       "      <td>1.999000e+07</td>\n",
       "    </tr>\n",
       "    <tr>\n",
       "      <th>235</th>\n",
       "      <td>1236</td>\n",
       "      <td>Avencast Rise of the Mage (PC)</td>\n",
       "      <td>Gry i konsole;Gry komputerowe</td>\n",
       "      <td>3.199000e+07</td>\n",
       "    </tr>\n",
       "    <tr>\n",
       "      <th>245</th>\n",
       "      <td>1246</td>\n",
       "      <td>Quake 4 (PC)</td>\n",
       "      <td>Gry i konsole;Gry komputerowe</td>\n",
       "      <td>3.399000e+07</td>\n",
       "    </tr>\n",
       "    <tr>\n",
       "      <th>218</th>\n",
       "      <td>1219</td>\n",
       "      <td>Overlord 2 (PC)</td>\n",
       "      <td>Gry i konsole;Gry komputerowe</td>\n",
       "      <td>3.499000e+07</td>\n",
       "    </tr>\n",
       "    <tr>\n",
       "      <th>181</th>\n",
       "      <td>1182</td>\n",
       "      <td>Battlefield 3 (PC)</td>\n",
       "      <td>Gry i konsole;Gry komputerowe</td>\n",
       "      <td>3.690000e+07</td>\n",
       "    </tr>\n",
       "    <tr>\n",
       "      <th>3</th>\n",
       "      <td>1004</td>\n",
       "      <td>Fallout 3 (Xbox 360)</td>\n",
       "      <td>Gry i konsole;Gry na konsole;Gry Xbox 360</td>\n",
       "      <td>4.999000e+07</td>\n",
       "    </tr>\n",
       "    <tr>\n",
       "      <th>253</th>\n",
       "      <td>1254</td>\n",
       "      <td>Warhammer 40.000 Dawn of War Winter Assault (PC)</td>\n",
       "      <td>Gry i konsole;Gry komputerowe</td>\n",
       "      <td>5.590000e+07</td>\n",
       "    </tr>\n",
       "    <tr>\n",
       "      <th>305</th>\n",
       "      <td>1306</td>\n",
       "      <td>One For All SV 9215</td>\n",
       "      <td>Sprzęt RTV;Video;Telewizory i akcesoria;Anteny...</td>\n",
       "      <td>7.999000e+07</td>\n",
       "    </tr>\n",
       "    <tr>\n",
       "      <th>128</th>\n",
       "      <td>1129</td>\n",
       "      <td>Battlefield Bad Company 2 (Xbox 360)</td>\n",
       "      <td>Gry i konsole;Gry na konsole;Gry Xbox 360</td>\n",
       "      <td>8.999000e+07</td>\n",
       "    </tr>\n",
       "    <tr>\n",
       "      <th>123</th>\n",
       "      <td>1124</td>\n",
       "      <td>Devil May Cry 4 (PC)</td>\n",
       "      <td>Gry i konsole;Gry komputerowe</td>\n",
       "      <td>9.400000e+07</td>\n",
       "    </tr>\n",
       "    <tr>\n",
       "      <th>200</th>\n",
       "      <td>1201</td>\n",
       "      <td>Jabra Speak 410</td>\n",
       "      <td>Telefony i akcesoria;Akcesoria telefoniczne;Ze...</td>\n",
       "      <td>3.274700e+08</td>\n",
       "    </tr>\n",
       "    <tr>\n",
       "      <th>78</th>\n",
       "      <td>1079</td>\n",
       "      <td>Kyocera FS-3040MFP</td>\n",
       "      <td>Komputery;Drukarki i skanery;Biurowe urządzeni...</td>\n",
       "      <td>4.598000e+09</td>\n",
       "    </tr>\n",
       "    <tr>\n",
       "      <th>77</th>\n",
       "      <td>1078</td>\n",
       "      <td>Kyocera FS-3540MFP</td>\n",
       "      <td>Komputery;Drukarki i skanery;Biurowe urządzeni...</td>\n",
       "      <td>5.126000e+09</td>\n",
       "    </tr>\n",
       "  </tbody>\n",
       "</table>\n",
       "</div>"
      ],
      "text/plain": [
       "     product_id                                      product_name  \\\n",
       "111        1112                                  Singularity (PC)   \n",
       "150        1151                                      Mafia 2 (PC)   \n",
       "139        1140                       Euro Truck Simulator 2 (PC)   \n",
       "196        1197                             Hearts of Iron 3 (PC)   \n",
       "213        1214     Call of Cthulhu Mroczne zakamarki Świata (PC)   \n",
       "216        1217                          Hitman Krwawa Forsa (PC)   \n",
       "268        1269                                   Space Hack (PC)   \n",
       "235        1236                    Avencast Rise of the Mage (PC)   \n",
       "245        1246                                      Quake 4 (PC)   \n",
       "218        1219                                   Overlord 2 (PC)   \n",
       "181        1182                                Battlefield 3 (PC)   \n",
       "3          1004                              Fallout 3 (Xbox 360)   \n",
       "253        1254  Warhammer 40.000 Dawn of War Winter Assault (PC)   \n",
       "305        1306                               One For All SV 9215   \n",
       "128        1129              Battlefield Bad Company 2 (Xbox 360)   \n",
       "123        1124                              Devil May Cry 4 (PC)   \n",
       "200        1201                                   Jabra Speak 410   \n",
       "78         1079                                Kyocera FS-3040MFP   \n",
       "77         1078                                Kyocera FS-3540MFP   \n",
       "\n",
       "                                         category_path         price  \n",
       "111                      Gry i konsole;Gry komputerowe  8.900000e+06  \n",
       "150                      Gry i konsole;Gry komputerowe  1.190000e+07  \n",
       "139                      Gry i konsole;Gry komputerowe  1.299000e+07  \n",
       "196                      Gry i konsole;Gry komputerowe  1.599000e+07  \n",
       "213                      Gry i konsole;Gry komputerowe  1.899000e+07  \n",
       "216                      Gry i konsole;Gry komputerowe  1.990000e+07  \n",
       "268                      Gry i konsole;Gry komputerowe  1.999000e+07  \n",
       "235                      Gry i konsole;Gry komputerowe  3.199000e+07  \n",
       "245                      Gry i konsole;Gry komputerowe  3.399000e+07  \n",
       "218                      Gry i konsole;Gry komputerowe  3.499000e+07  \n",
       "181                      Gry i konsole;Gry komputerowe  3.690000e+07  \n",
       "3            Gry i konsole;Gry na konsole;Gry Xbox 360  4.999000e+07  \n",
       "253                      Gry i konsole;Gry komputerowe  5.590000e+07  \n",
       "305  Sprzęt RTV;Video;Telewizory i akcesoria;Anteny...  7.999000e+07  \n",
       "128          Gry i konsole;Gry na konsole;Gry Xbox 360  8.999000e+07  \n",
       "123                      Gry i konsole;Gry komputerowe  9.400000e+07  \n",
       "200  Telefony i akcesoria;Akcesoria telefoniczne;Ze...  3.274700e+08  \n",
       "78   Komputery;Drukarki i skanery;Biurowe urządzeni...  4.598000e+09  \n",
       "77   Komputery;Drukarki i skanery;Biurowe urządzeni...  5.126000e+09  "
      ]
     },
     "execution_count": 94,
     "metadata": {},
     "output_type": "execute_result"
    }
   ],
   "source": [
    "products[products['price'] > 1000000].sort_values(by='price')"
   ]
  },
  {
   "cell_type": "code",
   "execution_count": 95,
   "id": "9cc891f1-9318-4d3b-9b6c-36db7d836f3d",
   "metadata": {},
   "outputs": [
    {
     "data": {
      "text/plain": [
       "19"
      ]
     },
     "execution_count": 95,
     "metadata": {},
     "output_type": "execute_result"
    }
   ],
   "source": [
    "products[products['price'] > 1000000].shape[0]"
   ]
  },
  {
   "cell_type": "code",
   "execution_count": 96,
   "id": "eee72616-df86-4c86-b434-ea0ac4b7bb90",
   "metadata": {},
   "outputs": [
    {
     "data": {
      "text/plain": [
       "Gry i konsole;Gry komputerowe                                        202\n",
       "Gry i konsole;Gry na konsole;Gry Xbox 360                             32\n",
       "Sprzęt RTV;Video;Telewizory i akcesoria;Anteny RTV                    30\n",
       "Komputery;Monitory;Monitory LCD                                       17\n",
       "Komputery;Drukarki i skanery;Biurowe urządzenia wielofunkcyjne         9\n",
       "Gry i konsole;Gry na konsole;Gry PlayStation3                          9\n",
       "Telefony i akcesoria;Akcesoria telefoniczne;Zestawy głośnomówiące      5\n",
       "Telefony i akcesoria;Akcesoria telefoniczne;Zestawy słuchawkowe        4\n",
       "Telefony i akcesoria;Telefony komórkowe                                2\n",
       "Sprzęt RTV;Video;Odtwarzacze DVD                                       2\n",
       "Komputery;Tablety i akcesoria;Tablety                                  2\n",
       "Sprzęt RTV;Przenośne audio i video;Odtwarzacze mp3 i mp4               2\n",
       "Telefony i akcesoria;Telefony stacjonarne                              1\n",
       "Sprzęt RTV;Video;Telewizory i akcesoria;Okulary 3D                     1\n",
       "Sprzęt RTV;Audio;Słuchawki                                             1\n",
       "Name: category_path, dtype: int64"
      ]
     },
     "execution_count": 96,
     "metadata": {},
     "output_type": "execute_result"
    }
   ],
   "source": [
    "products['category_path'].value_counts()"
   ]
  },
  {
   "cell_type": "code",
   "execution_count": 97,
   "id": "7fc7c086-5f15-4955-b399-8cc21cdd8287",
   "metadata": {},
   "outputs": [
    {
     "data": {
      "text/plain": [
       "Gry i konsole           243\n",
       "Sprzęt RTV               36\n",
       "Komputery                28\n",
       "Telefony i akcesoria     12\n",
       "Name: main_category, dtype: int64"
      ]
     },
     "execution_count": 97,
     "metadata": {},
     "output_type": "execute_result"
    }
   ],
   "source": [
    "products['main_category'] = products['category_path'].apply(lambda x: x.split(';')[0])\n",
    "products['main_category'].value_counts()"
   ]
  },
  {
   "cell_type": "code",
   "execution_count": 98,
   "id": "b82250a2-4437-4c94-b845-d862641858c3",
   "metadata": {},
   "outputs": [
    {
     "data": {
      "text/plain": [
       "Gry komputerowe            202\n",
       "Gry na konsole              41\n",
       "Video                       33\n",
       "Monitory                    17\n",
       "Drukarki i skanery           9\n",
       "Akcesoria telefoniczne       9\n",
       "Telefony komórkowe           2\n",
       "Tablety i akcesoria          2\n",
       "Przenośne audio i video      2\n",
       "Telefony stacjonarne         1\n",
       "Audio                        1\n",
       "Name: second_category, dtype: int64"
      ]
     },
     "execution_count": 98,
     "metadata": {},
     "output_type": "execute_result"
    }
   ],
   "source": [
    "products['second_category'] = products['category_path'].apply(lambda x: x.split(';')[1])\n",
    "products['second_category'].value_counts()"
   ]
  },
  {
   "cell_type": "markdown",
   "id": "a7d0491b-1165-481c-b0d9-8a469bcf5bb4",
   "metadata": {},
   "source": [
    "#### Min/max price in each category"
   ]
  },
  {
   "cell_type": "code",
   "execution_count": 99,
   "id": "c8e24ff9-abd1-45da-a377-29eec739f995",
   "metadata": {},
   "outputs": [
    {
     "data": {
      "text/html": [
       "<div>\n",
       "<style scoped>\n",
       "    .dataframe tbody tr th:only-of-type {\n",
       "        vertical-align: middle;\n",
       "    }\n",
       "\n",
       "    .dataframe tbody tr th {\n",
       "        vertical-align: top;\n",
       "    }\n",
       "\n",
       "    .dataframe thead tr th {\n",
       "        text-align: left;\n",
       "    }\n",
       "\n",
       "    .dataframe thead tr:last-of-type th {\n",
       "        text-align: right;\n",
       "    }\n",
       "</style>\n",
       "<table border=\"1\" class=\"dataframe\">\n",
       "  <thead>\n",
       "    <tr>\n",
       "      <th></th>\n",
       "      <th colspan=\"2\" halign=\"left\">price</th>\n",
       "    </tr>\n",
       "    <tr>\n",
       "      <th></th>\n",
       "      <th>min</th>\n",
       "      <th>max</th>\n",
       "    </tr>\n",
       "    <tr>\n",
       "      <th>category_path</th>\n",
       "      <th></th>\n",
       "      <th></th>\n",
       "    </tr>\n",
       "  </thead>\n",
       "  <tbody>\n",
       "    <tr>\n",
       "      <th>Gry i konsole;Gry komputerowe</th>\n",
       "      <td>-135.90</td>\n",
       "      <td>9.400000e+07</td>\n",
       "    </tr>\n",
       "    <tr>\n",
       "      <th>Gry i konsole;Gry na konsole;Gry PlayStation3</th>\n",
       "      <td>-89.90</td>\n",
       "      <td>1.290000e+02</td>\n",
       "    </tr>\n",
       "    <tr>\n",
       "      <th>Gry i konsole;Gry na konsole;Gry Xbox 360</th>\n",
       "      <td>-49.99</td>\n",
       "      <td>8.999000e+07</td>\n",
       "    </tr>\n",
       "    <tr>\n",
       "      <th>Komputery;Drukarki i skanery;Biurowe urządzenia wielofunkcyjne</th>\n",
       "      <td>1998.14</td>\n",
       "      <td>5.126000e+09</td>\n",
       "    </tr>\n",
       "    <tr>\n",
       "      <th>Komputery;Monitory;Monitory LCD</th>\n",
       "      <td>-1117.01</td>\n",
       "      <td>3.029000e+03</td>\n",
       "    </tr>\n",
       "    <tr>\n",
       "      <th>Komputery;Tablety i akcesoria;Tablety</th>\n",
       "      <td>1816.97</td>\n",
       "      <td>2.317020e+03</td>\n",
       "    </tr>\n",
       "    <tr>\n",
       "      <th>Sprzęt RTV;Audio;Słuchawki</th>\n",
       "      <td>-553.00</td>\n",
       "      <td>-5.530000e+02</td>\n",
       "    </tr>\n",
       "    <tr>\n",
       "      <th>Sprzęt RTV;Przenośne audio i video;Odtwarzacze mp3 i mp4</th>\n",
       "      <td>64.80</td>\n",
       "      <td>7.890000e+01</td>\n",
       "    </tr>\n",
       "    <tr>\n",
       "      <th>Sprzęt RTV;Video;Odtwarzacze DVD</th>\n",
       "      <td>-193.00</td>\n",
       "      <td>1.090000e+02</td>\n",
       "    </tr>\n",
       "    <tr>\n",
       "      <th>Sprzęt RTV;Video;Telewizory i akcesoria;Anteny RTV</th>\n",
       "      <td>-89.99</td>\n",
       "      <td>7.999000e+07</td>\n",
       "    </tr>\n",
       "    <tr>\n",
       "      <th>Sprzęt RTV;Video;Telewizory i akcesoria;Okulary 3D</th>\n",
       "      <td>99.99</td>\n",
       "      <td>9.999000e+01</td>\n",
       "    </tr>\n",
       "    <tr>\n",
       "      <th>Telefony i akcesoria;Akcesoria telefoniczne;Zestawy głośnomówiące</th>\n",
       "      <td>-245.00</td>\n",
       "      <td>3.274700e+08</td>\n",
       "    </tr>\n",
       "    <tr>\n",
       "      <th>Telefony i akcesoria;Akcesoria telefoniczne;Zestawy słuchawkowe</th>\n",
       "      <td>14.99</td>\n",
       "      <td>1.303960e+03</td>\n",
       "    </tr>\n",
       "    <tr>\n",
       "      <th>Telefony i akcesoria;Telefony komórkowe</th>\n",
       "      <td>207.33</td>\n",
       "      <td>2.199900e+03</td>\n",
       "    </tr>\n",
       "    <tr>\n",
       "      <th>Telefony i akcesoria;Telefony stacjonarne</th>\n",
       "      <td>58.97</td>\n",
       "      <td>5.897000e+01</td>\n",
       "    </tr>\n",
       "  </tbody>\n",
       "</table>\n",
       "</div>"
      ],
      "text/plain": [
       "                                                      price              \n",
       "                                                        min           max\n",
       "category_path                                                            \n",
       "Gry i konsole;Gry komputerowe                       -135.90  9.400000e+07\n",
       "Gry i konsole;Gry na konsole;Gry PlayStation3        -89.90  1.290000e+02\n",
       "Gry i konsole;Gry na konsole;Gry Xbox 360            -49.99  8.999000e+07\n",
       "Komputery;Drukarki i skanery;Biurowe urządzenia...  1998.14  5.126000e+09\n",
       "Komputery;Monitory;Monitory LCD                    -1117.01  3.029000e+03\n",
       "Komputery;Tablety i akcesoria;Tablety               1816.97  2.317020e+03\n",
       "Sprzęt RTV;Audio;Słuchawki                          -553.00 -5.530000e+02\n",
       "Sprzęt RTV;Przenośne audio i video;Odtwarzacze ...    64.80  7.890000e+01\n",
       "Sprzęt RTV;Video;Odtwarzacze DVD                    -193.00  1.090000e+02\n",
       "Sprzęt RTV;Video;Telewizory i akcesoria;Anteny RTV   -89.99  7.999000e+07\n",
       "Sprzęt RTV;Video;Telewizory i akcesoria;Okulary 3D    99.99  9.999000e+01\n",
       "Telefony i akcesoria;Akcesoria telefoniczne;Zes...  -245.00  3.274700e+08\n",
       "Telefony i akcesoria;Akcesoria telefoniczne;Zes...    14.99  1.303960e+03\n",
       "Telefony i akcesoria;Telefony komórkowe              207.33  2.199900e+03\n",
       "Telefony i akcesoria;Telefony stacjonarne             58.97  5.897000e+01"
      ]
     },
     "execution_count": 99,
     "metadata": {},
     "output_type": "execute_result"
    }
   ],
   "source": [
    "products[['category_path', 'price']].groupby(by='category_path').agg(['min', 'max'])"
   ]
  },
  {
   "cell_type": "markdown",
   "id": "4cbde683",
   "metadata": {
    "tags": []
   },
   "source": [
    "## Data quality analysis in \"sessions\" dataset"
   ]
  },
  {
   "cell_type": "code",
   "execution_count": 100,
   "id": "42afac52-9ff0-49dd-b988-69d1f53a7bf4",
   "metadata": {},
   "outputs": [
    {
     "name": "stdout",
     "output_type": "stream",
     "text": [
      "Typy w dataframe\n",
      "session_id                   int64\n",
      "timestamp           datetime64[ns]\n",
      "user_id                    float64\n",
      "product_id                 float64\n",
      "event_type                  object\n",
      "offered_discount             int64\n",
      "purchase_id                float64\n",
      "dtype: object\n",
      "\n",
      "Ilosc pustych wartosci na kolumne\n",
      "session_id               0\n",
      "timestamp                0\n",
      "user_id               8723\n",
      "product_id            8495\n",
      "event_type               0\n",
      "offered_discount         0\n",
      "purchase_id         170657\n",
      "dtype: int64\n",
      "\n",
      "Dataframe po probie konwersji typow\n",
      "session_id                   int64\n",
      "timestamp           datetime64[ns]\n",
      "user_id                      Int64\n",
      "product_id                   Int64\n",
      "event_type                  object\n",
      "offered_discount             int64\n",
      "purchase_id                  Int64\n",
      "dtype: object\n"
     ]
    }
   ],
   "source": [
    "print(\"Typy w dataframe\")\n",
    "print(sessions.dtypes)\n",
    "print(\"\\nIlosc pustych wartosci na kolumne\")\n",
    "print(sessions.isna().sum())\n",
    "sessions[\"user_id\"] = sessions[\"user_id\"].astype(\"Int64\")\n",
    "sessions[\"product_id\"] = sessions[\"product_id\"].astype(\"Int64\")\n",
    "sessions[\"purchase_id\"] = sessions[\"purchase_id\"].astype(\"Int64\")\n",
    "print(\"\\nDataframe po probie konwersji typow\")\n",
    "print(sessions.dtypes)"
   ]
  },
  {
   "cell_type": "code",
   "execution_count": 101,
   "id": "5cf2909f-6dd5-4c2b-bc18-c381a1918e11",
   "metadata": {},
   "outputs": [
    {
     "name": "stdout",
     "output_type": "stream",
     "text": [
      "<class 'pandas.core.frame.DataFrame'>\n",
      "RangeIndex: 173632 entries, 0 to 173631\n",
      "Data columns (total 7 columns):\n",
      " #   Column            Non-Null Count   Dtype         \n",
      "---  ------            --------------   -----         \n",
      " 0   session_id        173632 non-null  int64         \n",
      " 1   timestamp         173632 non-null  datetime64[ns]\n",
      " 2   user_id           164909 non-null  Int64         \n",
      " 3   product_id        165137 non-null  Int64         \n",
      " 4   event_type        173632 non-null  object        \n",
      " 5   offered_discount  173632 non-null  int64         \n",
      " 6   purchase_id       2975 non-null    Int64         \n",
      "dtypes: Int64(3), datetime64[ns](1), int64(2), object(1)\n",
      "memory usage: 9.8+ MB\n"
     ]
    }
   ],
   "source": [
    "sessions.info()"
   ]
  },
  {
   "cell_type": "code",
   "execution_count": 102,
   "id": "a0eb9579-fb12-4edd-8d34-7e8487d74c35",
   "metadata": {},
   "outputs": [
    {
     "data": {
      "text/html": [
       "<div>\n",
       "<style scoped>\n",
       "    .dataframe tbody tr th:only-of-type {\n",
       "        vertical-align: middle;\n",
       "    }\n",
       "\n",
       "    .dataframe tbody tr th {\n",
       "        vertical-align: top;\n",
       "    }\n",
       "\n",
       "    .dataframe thead th {\n",
       "        text-align: right;\n",
       "    }\n",
       "</style>\n",
       "<table border=\"1\" class=\"dataframe\">\n",
       "  <thead>\n",
       "    <tr style=\"text-align: right;\">\n",
       "      <th></th>\n",
       "      <th>session_id</th>\n",
       "      <th>timestamp</th>\n",
       "      <th>user_id</th>\n",
       "      <th>product_id</th>\n",
       "      <th>event_type</th>\n",
       "      <th>offered_discount</th>\n",
       "      <th>purchase_id</th>\n",
       "    </tr>\n",
       "  </thead>\n",
       "  <tbody>\n",
       "    <tr>\n",
       "      <th>0</th>\n",
       "      <td>100001</td>\n",
       "      <td>2021-01-09 20:25:15</td>\n",
       "      <td>104</td>\n",
       "      <td>1044</td>\n",
       "      <td>VIEW_PRODUCT</td>\n",
       "      <td>0</td>\n",
       "      <td>&lt;NA&gt;</td>\n",
       "    </tr>\n",
       "    <tr>\n",
       "      <th>1</th>\n",
       "      <td>100001</td>\n",
       "      <td>2021-01-09 20:27:03</td>\n",
       "      <td>104</td>\n",
       "      <td>1043</td>\n",
       "      <td>VIEW_PRODUCT</td>\n",
       "      <td>0</td>\n",
       "      <td>&lt;NA&gt;</td>\n",
       "    </tr>\n",
       "    <tr>\n",
       "      <th>2</th>\n",
       "      <td>100001</td>\n",
       "      <td>2021-01-09 20:27:33</td>\n",
       "      <td>104</td>\n",
       "      <td>1043</td>\n",
       "      <td>BUY_PRODUCT</td>\n",
       "      <td>0</td>\n",
       "      <td>20001</td>\n",
       "    </tr>\n",
       "    <tr>\n",
       "      <th>3</th>\n",
       "      <td>100002</td>\n",
       "      <td>2021-01-09 15:07:56</td>\n",
       "      <td>107</td>\n",
       "      <td>1305</td>\n",
       "      <td>VIEW_PRODUCT</td>\n",
       "      <td>10</td>\n",
       "      <td>&lt;NA&gt;</td>\n",
       "    </tr>\n",
       "    <tr>\n",
       "      <th>4</th>\n",
       "      <td>100002</td>\n",
       "      <td>2021-01-09 15:08:11</td>\n",
       "      <td>107</td>\n",
       "      <td>1292</td>\n",
       "      <td>VIEW_PRODUCT</td>\n",
       "      <td>10</td>\n",
       "      <td>&lt;NA&gt;</td>\n",
       "    </tr>\n",
       "    <tr>\n",
       "      <th>...</th>\n",
       "      <td>...</td>\n",
       "      <td>...</td>\n",
       "      <td>...</td>\n",
       "      <td>...</td>\n",
       "      <td>...</td>\n",
       "      <td>...</td>\n",
       "      <td>...</td>\n",
       "    </tr>\n",
       "    <tr>\n",
       "      <th>173627</th>\n",
       "      <td>109864</td>\n",
       "      <td>2021-01-01 12:55:09</td>\n",
       "      <td>297</td>\n",
       "      <td>1064</td>\n",
       "      <td>VIEW_PRODUCT</td>\n",
       "      <td>10</td>\n",
       "      <td>&lt;NA&gt;</td>\n",
       "    </tr>\n",
       "    <tr>\n",
       "      <th>173628</th>\n",
       "      <td>109864</td>\n",
       "      <td>2021-01-01 12:56:26</td>\n",
       "      <td>297</td>\n",
       "      <td>1033</td>\n",
       "      <td>VIEW_PRODUCT</td>\n",
       "      <td>10</td>\n",
       "      <td>&lt;NA&gt;</td>\n",
       "    </tr>\n",
       "    <tr>\n",
       "      <th>173629</th>\n",
       "      <td>109864</td>\n",
       "      <td>2021-01-01 13:00:56</td>\n",
       "      <td>297</td>\n",
       "      <td>1017</td>\n",
       "      <td>VIEW_PRODUCT</td>\n",
       "      <td>10</td>\n",
       "      <td>&lt;NA&gt;</td>\n",
       "    </tr>\n",
       "    <tr>\n",
       "      <th>173630</th>\n",
       "      <td>109864</td>\n",
       "      <td>2021-01-01 13:05:38</td>\n",
       "      <td>297</td>\n",
       "      <td>1017</td>\n",
       "      <td>BUY_PRODUCT</td>\n",
       "      <td>10</td>\n",
       "      <td>22975</td>\n",
       "    </tr>\n",
       "    <tr>\n",
       "      <th>173631</th>\n",
       "      <td>109865</td>\n",
       "      <td>2021-01-03 14:38:26</td>\n",
       "      <td>301</td>\n",
       "      <td>1064</td>\n",
       "      <td>VIEW_PRODUCT</td>\n",
       "      <td>5</td>\n",
       "      <td>&lt;NA&gt;</td>\n",
       "    </tr>\n",
       "  </tbody>\n",
       "</table>\n",
       "<p>173632 rows × 7 columns</p>\n",
       "</div>"
      ],
      "text/plain": [
       "        session_id           timestamp  user_id  product_id    event_type  \\\n",
       "0           100001 2021-01-09 20:25:15      104        1044  VIEW_PRODUCT   \n",
       "1           100001 2021-01-09 20:27:03      104        1043  VIEW_PRODUCT   \n",
       "2           100001 2021-01-09 20:27:33      104        1043   BUY_PRODUCT   \n",
       "3           100002 2021-01-09 15:07:56      107        1305  VIEW_PRODUCT   \n",
       "4           100002 2021-01-09 15:08:11      107        1292  VIEW_PRODUCT   \n",
       "...            ...                 ...      ...         ...           ...   \n",
       "173627      109864 2021-01-01 12:55:09      297        1064  VIEW_PRODUCT   \n",
       "173628      109864 2021-01-01 12:56:26      297        1033  VIEW_PRODUCT   \n",
       "173629      109864 2021-01-01 13:00:56      297        1017  VIEW_PRODUCT   \n",
       "173630      109864 2021-01-01 13:05:38      297        1017   BUY_PRODUCT   \n",
       "173631      109865 2021-01-03 14:38:26      301        1064  VIEW_PRODUCT   \n",
       "\n",
       "        offered_discount  purchase_id  \n",
       "0                      0         <NA>  \n",
       "1                      0         <NA>  \n",
       "2                      0        20001  \n",
       "3                     10         <NA>  \n",
       "4                     10         <NA>  \n",
       "...                  ...          ...  \n",
       "173627                10         <NA>  \n",
       "173628                10         <NA>  \n",
       "173629                10         <NA>  \n",
       "173630                10        22975  \n",
       "173631                 5         <NA>  \n",
       "\n",
       "[173632 rows x 7 columns]"
      ]
     },
     "execution_count": 102,
     "metadata": {},
     "output_type": "execute_result"
    }
   ],
   "source": [
    "sessions"
   ]
  },
  {
   "cell_type": "code",
   "execution_count": 103,
   "id": "75e2b2aa-e5b6-46a5-9d7b-7c8734dd9ae3",
   "metadata": {},
   "outputs": [
    {
     "data": {
      "text/plain": [
       "min   2021-01-01 00:00:22\n",
       "max   2021-10-27 15:37:51\n",
       "Name: timestamp, dtype: datetime64[ns]"
      ]
     },
     "execution_count": 103,
     "metadata": {},
     "output_type": "execute_result"
    }
   ],
   "source": [
    "sessions['timestamp'].agg(['min', 'max'])"
   ]
  },
  {
   "cell_type": "code",
   "execution_count": 104,
   "id": "f474d336-c404-41d4-83d5-9fd4b93f7026",
   "metadata": {},
   "outputs": [
    {
     "data": {
      "text/plain": [
       "event_type  \n",
       "VIEW_PRODUCT    170657\n",
       "BUY_PRODUCT       2975\n",
       "dtype: int64"
      ]
     },
     "execution_count": 104,
     "metadata": {},
     "output_type": "execute_result"
    }
   ],
   "source": [
    "sessions[['event_type']].value_counts()"
   ]
  },
  {
   "cell_type": "markdown",
   "id": "3422cc8a-fe88-4a2b-addb-40e59c3ed45b",
   "metadata": {},
   "source": [
    "3000 kupionych produktów to zamało dla wytrenowania dobrego modelu przy 319 produktach"
   ]
  },
  {
   "cell_type": "code",
   "execution_count": 105,
   "id": "ffabdc5c-e281-452c-865b-f30219464157",
   "metadata": {},
   "outputs": [],
   "source": [
    "buy_sessions = sessions[sessions['event_type'] == 'BUY_PRODUCT']"
   ]
  },
  {
   "cell_type": "code",
   "execution_count": 106,
   "id": "ede8380a-0623-4bfe-8ff9-ccf0b967e65e",
   "metadata": {},
   "outputs": [
    {
     "name": "stdout",
     "output_type": "stream",
     "text": [
      "<class 'pandas.core.frame.DataFrame'>\n",
      "Int64Index: 2975 entries, 2 to 173630\n",
      "Data columns (total 7 columns):\n",
      " #   Column            Non-Null Count  Dtype         \n",
      "---  ------            --------------  -----         \n",
      " 0   session_id        2975 non-null   int64         \n",
      " 1   timestamp         2975 non-null   datetime64[ns]\n",
      " 2   user_id           2822 non-null   Int64         \n",
      " 3   product_id        2826 non-null   Int64         \n",
      " 4   event_type        2975 non-null   object        \n",
      " 5   offered_discount  2975 non-null   int64         \n",
      " 6   purchase_id       2975 non-null   Int64         \n",
      "dtypes: Int64(3), datetime64[ns](1), int64(2), object(1)\n",
      "memory usage: 194.7+ KB\n"
     ]
    }
   ],
   "source": [
    "buy_sessions.info()"
   ]
  },
  {
   "cell_type": "markdown",
   "id": "e24d15b9-0476-4d4a-8005-9d2b37bb5747",
   "metadata": {},
   "source": [
    "- 153 sesji bez user_id - ale user_id nie jest dla nas krytyczny\n",
    "- 149 sesji abez product_id - nie możemy użyć tych sesji bez product_ids"
   ]
  },
  {
   "cell_type": "markdown",
   "id": "95e112bb-694d-4d21-96e3-149d6d552f97",
   "metadata": {
    "tags": []
   },
   "source": [
    "### Number of sessions over different time periods"
   ]
  },
  {
   "cell_type": "markdown",
   "id": "a47758ce-45ca-44d9-8904-3d6450622f75",
   "metadata": {
    "tags": []
   },
   "source": [
    "#### Number of all sessions per month"
   ]
  },
  {
   "cell_type": "code",
   "execution_count": 107,
   "id": "d147d6eb-68dc-4446-b206-d118a32d94c8",
   "metadata": {},
   "outputs": [],
   "source": [
    "sessions['session_month'] = sessions['timestamp'].dropna().dt.month"
   ]
  },
  {
   "cell_type": "code",
   "execution_count": 108,
   "id": "8a1270c3-1d35-4fec-a708-bffeeb29c5d0",
   "metadata": {},
   "outputs": [
    {
     "data": {
      "text/plain": [
       "<AxesSubplot:>"
      ]
     },
     "execution_count": 108,
     "metadata": {},
     "output_type": "execute_result"
    },
    {
     "data": {
      "image/png": "[encoded data removed]",
      "text/plain": [
       "<Figure size 432x288 with 1 Axes>"
      ]
     },
     "metadata": {
      "needs_background": "light"
     },
     "output_type": "display_data"
    }
   ],
   "source": [
    "sessions['session_month'].value_counts().sort_index().plot.bar()"
   ]
  },
  {
   "cell_type": "markdown",
   "id": "6584a58c-2068-4ac1-a54e-a676bc42d3df",
   "metadata": {
    "tags": []
   },
   "source": [
    "#### Number of buy_product sessions per month"
   ]
  },
  {
   "cell_type": "code",
   "execution_count": 109,
   "id": "dc0f2164-3de4-467f-aef8-517500efc264",
   "metadata": {},
   "outputs": [
    {
     "name": "stderr",
     "output_type": "stream",
     "text": [
      "/opt/miniconda3/envs/ium/lib/python3.7/site-packages/ipykernel_launcher.py:1: SettingWithCopyWarning: \n",
      "A value is trying to be set on a copy of a slice from a DataFrame.\n",
      "Try using .loc[row_indexer,col_indexer] = value instead\n",
      "\n",
      "See the caveats in the documentation: https://pandas.pydata.org/pandas-docs/stable/user_guide/indexing.html#returning-a-view-versus-a-copy\n",
      "  \"\"\"Entry point for launching an IPython kernel.\n"
     ]
    }
   ],
   "source": [
    "buy_sessions['session_month'] = buy_sessions['timestamp'].dropna().dt.month"
   ]
  },
  {
   "cell_type": "code",
   "execution_count": 110,
   "id": "004e8abb-ffa9-43de-90a4-3a1be16e07fc",
   "metadata": {},
   "outputs": [
    {
     "data": {
      "text/plain": [
       "<AxesSubplot:>"
      ]
     },
     "execution_count": 110,
     "metadata": {},
     "output_type": "execute_result"
    },
    {
     "data": {
      "image/png": "[encoded data removed]",
      "text/plain": [
       "<Figure size 432x288 with 1 Axes>"
      ]
     },
     "metadata": {
      "needs_background": "light"
     },
     "output_type": "display_data"
    }
   ],
   "source": [
    "buy_sessions['session_month'].value_counts().sort_index().plot.bar()"
   ]
  },
  {
   "cell_type": "markdown",
   "id": "cfec4478-904c-4b01-b008-06a328bb6ca2",
   "metadata": {
    "tags": []
   },
   "source": [
    "#### Number of all sessions per week"
   ]
  },
  {
   "cell_type": "code",
   "execution_count": 111,
   "id": "d45a1bb6-9642-496e-8d70-c23baf8c14d0",
   "metadata": {},
   "outputs": [
    {
     "name": "stderr",
     "output_type": "stream",
     "text": [
      "/opt/miniconda3/envs/ium/lib/python3.7/site-packages/ipykernel_launcher.py:1: FutureWarning: Series.dt.weekofyear and Series.dt.week have been deprecated.  Please use Series.dt.isocalendar().week instead.\n",
      "  \"\"\"Entry point for launching an IPython kernel.\n"
     ]
    }
   ],
   "source": [
    "sessions['session_week'] = sessions['timestamp'].dropna().dt.week"
   ]
  },
  {
   "cell_type": "code",
   "execution_count": 112,
   "id": "c25b1c4f-eb17-472f-9d23-c08edf125613",
   "metadata": {},
   "outputs": [
    {
     "data": {
      "text/plain": [
       "<AxesSubplot:>"
      ]
     },
     "execution_count": 112,
     "metadata": {},
     "output_type": "execute_result"
    },
    {
     "data": {
      "image/png": "[encoded data removed]",
      "text/plain": [
       "<Figure size 432x288 with 1 Axes>"
      ]
     },
     "metadata": {
      "needs_background": "light"
     },
     "output_type": "display_data"
    }
   ],
   "source": [
    "sessions['session_week'].value_counts().sort_index().plot.bar()"
   ]
  },
  {
   "cell_type": "markdown",
   "id": "985ca477-9160-4f05-b317-eb5f47169de8",
   "metadata": {
    "tags": []
   },
   "source": [
    "#### Number of buy_product sessions per week"
   ]
  },
  {
   "cell_type": "code",
   "execution_count": 113,
   "id": "0744e440-12b0-4ac5-b655-f2640bf4febc",
   "metadata": {},
   "outputs": [
    {
     "name": "stderr",
     "output_type": "stream",
     "text": [
      "/opt/miniconda3/envs/ium/lib/python3.7/site-packages/ipykernel_launcher.py:1: FutureWarning: Series.dt.weekofyear and Series.dt.week have been deprecated.  Please use Series.dt.isocalendar().week instead.\n",
      "  \"\"\"Entry point for launching an IPython kernel.\n",
      "/opt/miniconda3/envs/ium/lib/python3.7/site-packages/ipykernel_launcher.py:1: SettingWithCopyWarning: \n",
      "A value is trying to be set on a copy of a slice from a DataFrame.\n",
      "Try using .loc[row_indexer,col_indexer] = value instead\n",
      "\n",
      "See the caveats in the documentation: https://pandas.pydata.org/pandas-docs/stable/user_guide/indexing.html#returning-a-view-versus-a-copy\n",
      "  \"\"\"Entry point for launching an IPython kernel.\n"
     ]
    }
   ],
   "source": [
    "buy_sessions['session_week'] = buy_sessions['timestamp'].dropna().dt.week"
   ]
  },
  {
   "cell_type": "code",
   "execution_count": 114,
   "id": "f04d8125-b30d-416e-a7ba-1f932fe24c29",
   "metadata": {},
   "outputs": [
    {
     "data": {
      "text/plain": [
       "<AxesSubplot:>"
      ]
     },
     "execution_count": 114,
     "metadata": {},
     "output_type": "execute_result"
    },
    {
     "data": {
      "image/png": "[encoded data removed]",
      "text/plain": [
       "<Figure size 432x288 with 1 Axes>"
      ]
     },
     "metadata": {
      "needs_background": "light"
     },
     "output_type": "display_data"
    }
   ],
   "source": [
    "buy_sessions['session_week'].value_counts().sort_index().plot.bar()"
   ]
  },
  {
   "cell_type": "markdown",
   "id": "f2bfcbd5-d6e9-4b70-8273-1a1ccd7edd40",
   "metadata": {
    "tags": []
   },
   "source": [
    "#### Number of all sessions per weekday"
   ]
  },
  {
   "cell_type": "code",
   "execution_count": 115,
   "id": "197749a1-9b9b-4dfd-9e06-640f5efa5f4b",
   "metadata": {},
   "outputs": [],
   "source": [
    "sessions['session_weekday'] = sessions['timestamp'].dropna().dt.weekday"
   ]
  },
  {
   "cell_type": "code",
   "execution_count": 116,
   "id": "98d5d4ab-948b-40eb-b5c8-4e631e931650",
   "metadata": {},
   "outputs": [
    {
     "data": {
      "text/plain": [
       "<AxesSubplot:>"
      ]
     },
     "execution_count": 116,
     "metadata": {},
     "output_type": "execute_result"
    },
    {
     "data": {
      "image/png": "[encoded data removed]",
      "text/plain": [
       "<Figure size 432x288 with 1 Axes>"
      ]
     },
     "metadata": {
      "needs_background": "light"
     },
     "output_type": "display_data"
    }
   ],
   "source": [
    "sessions['session_weekday'].value_counts().sort_index().plot.bar()"
   ]
  },
  {
   "cell_type": "markdown",
   "id": "c69f6fb5-3f0b-4d8f-9fd5-9e4d32c7af19",
   "metadata": {
    "tags": []
   },
   "source": [
    "#### Number of buy_product sessions per weekday"
   ]
  },
  {
   "cell_type": "code",
   "execution_count": 117,
   "id": "60a16e8c-a656-4ea5-a17f-6f3623314c53",
   "metadata": {},
   "outputs": [
    {
     "name": "stderr",
     "output_type": "stream",
     "text": [
      "/opt/miniconda3/envs/ium/lib/python3.7/site-packages/ipykernel_launcher.py:1: SettingWithCopyWarning: \n",
      "A value is trying to be set on a copy of a slice from a DataFrame.\n",
      "Try using .loc[row_indexer,col_indexer] = value instead\n",
      "\n",
      "See the caveats in the documentation: https://pandas.pydata.org/pandas-docs/stable/user_guide/indexing.html#returning-a-view-versus-a-copy\n",
      "  \"\"\"Entry point for launching an IPython kernel.\n"
     ]
    }
   ],
   "source": [
    "buy_sessions['session_weekday'] = buy_sessions['timestamp'].dropna().dt.weekday"
   ]
  },
  {
   "cell_type": "code",
   "execution_count": 118,
   "id": "45349952-385a-43a2-82bc-40a64fd51666",
   "metadata": {},
   "outputs": [
    {
     "data": {
      "text/plain": [
       "<AxesSubplot:>"
      ]
     },
     "execution_count": 118,
     "metadata": {},
     "output_type": "execute_result"
    },
    {
     "data": {
      "image/png": "[encoded data removed]",
      "text/plain": [
       "<Figure size 432x288 with 1 Axes>"
      ]
     },
     "metadata": {
      "needs_background": "light"
     },
     "output_type": "display_data"
    }
   ],
   "source": [
    "buy_sessions['session_weekday'].value_counts().sort_index().plot.bar()"
   ]
  },
  {
   "cell_type": "markdown",
   "id": "ad8a66d2",
   "metadata": {
    "jp-MarkdownHeadingCollapsed": true,
    "pycharm": {
     "name": "#%% md\n"
    },
    "tags": []
   },
   "source": [
    "## Data quality analysis in \"users\" dataset"
   ]
  },
  {
   "cell_type": "code",
   "execution_count": 119,
   "id": "59efb2f9-46c8-4ebd-a912-48aff112284b",
   "metadata": {},
   "outputs": [
    {
     "name": "stdout",
     "output_type": "stream",
     "text": [
      "Typy w dataframe\n",
      "user_id     int64\n",
      "name       object\n",
      "city       object\n",
      "street     object\n",
      "dtype: object\n",
      "\n",
      "Ilosc pustych wartosci na kolumne\n",
      "user_id    0\n",
      "name       0\n",
      "city       0\n",
      "street     0\n",
      "dtype: int64\n",
      "\n",
      "Czy user_id to unikalny identyfikator? True\n",
      "\n",
      "Czy wszystkie wartosci w kolumnie name sa stringami? True\n",
      "\n",
      "Czy wszystkie wartosci w kolumnie city sa stringami? True\n",
      "\n",
      "Czy wszystkie wartosci w kolumnie street sa stringami? True\n"
     ]
    }
   ],
   "source": [
    "print(\"Typy w dataframe\")\n",
    "print(users.dtypes)\n",
    "print(\"\\nIlosc pustych wartosci na kolumne\")\n",
    "print(users.isna().sum())\n",
    "print(\"\\nCzy user_id to unikalny identyfikator?\", pd.Series(users[\"user_id\"]).is_unique)\n",
    "print(\n",
    "    \"\\nCzy wszystkie wartosci w kolumnie name sa stringami?\",\n",
    "    (users[\"name\"].apply(type) == str).all(),\n",
    ")\n",
    "print(\n",
    "    \"\\nCzy wszystkie wartosci w kolumnie city sa stringami?\",\n",
    "    (users[\"city\"].apply(type) == str).all(),\n",
    ")\n",
    "print(\n",
    "    \"\\nCzy wszystkie wartosci w kolumnie street sa stringami?\",\n",
    "    (users[\"street\"].apply(type) == str).all(),\n",
    ")"
   ]
  },
  {
   "cell_type": "code",
   "execution_count": 120,
   "id": "02e2468e-9a75-4cc4-9165-855117649b48",
   "metadata": {},
   "outputs": [
    {
     "name": "stdout",
     "output_type": "stream",
     "text": [
      "<class 'pandas.core.frame.DataFrame'>\n",
      "RangeIndex: 200 entries, 0 to 199\n",
      "Data columns (total 4 columns):\n",
      " #   Column   Non-Null Count  Dtype \n",
      "---  ------   --------------  ----- \n",
      " 0   user_id  200 non-null    int64 \n",
      " 1   name     200 non-null    object\n",
      " 2   city     200 non-null    object\n",
      " 3   street   200 non-null    object\n",
      "dtypes: int64(1), object(3)\n",
      "memory usage: 6.4+ KB\n"
     ]
    }
   ],
   "source": [
    "users.info()"
   ]
  },
  {
   "cell_type": "code",
   "execution_count": 121,
   "id": "636ab7e3-187b-4fa5-bb83-79f9e62d858c",
   "metadata": {},
   "outputs": [
    {
     "data": {
      "text/html": [
       "<div>\n",
       "<style scoped>\n",
       "    .dataframe tbody tr th:only-of-type {\n",
       "        vertical-align: middle;\n",
       "    }\n",
       "\n",
       "    .dataframe tbody tr th {\n",
       "        vertical-align: top;\n",
       "    }\n",
       "\n",
       "    .dataframe thead th {\n",
       "        text-align: right;\n",
       "    }\n",
       "</style>\n",
       "<table border=\"1\" class=\"dataframe\">\n",
       "  <thead>\n",
       "    <tr style=\"text-align: right;\">\n",
       "      <th></th>\n",
       "      <th>user_id</th>\n",
       "      <th>name</th>\n",
       "      <th>city</th>\n",
       "      <th>street</th>\n",
       "    </tr>\n",
       "  </thead>\n",
       "  <tbody>\n",
       "    <tr>\n",
       "      <th>0</th>\n",
       "      <td>102</td>\n",
       "      <td>Tymoteusz Wołos</td>\n",
       "      <td>Warszawa</td>\n",
       "      <td>al. Żwirowa 08</td>\n",
       "    </tr>\n",
       "    <tr>\n",
       "      <th>1</th>\n",
       "      <td>103</td>\n",
       "      <td>Olgierd Wardziak</td>\n",
       "      <td>Kraków</td>\n",
       "      <td>aleja Wybickiego 12/30</td>\n",
       "    </tr>\n",
       "    <tr>\n",
       "      <th>2</th>\n",
       "      <td>104</td>\n",
       "      <td>Urszula Kowaluk</td>\n",
       "      <td>Kraków</td>\n",
       "      <td>ulica Strumykowa 51/91</td>\n",
       "    </tr>\n",
       "    <tr>\n",
       "      <th>3</th>\n",
       "      <td>105</td>\n",
       "      <td>Roksana Hajdukiewicz</td>\n",
       "      <td>Szczecin</td>\n",
       "      <td>ul. Wyzwolenia 679</td>\n",
       "    </tr>\n",
       "    <tr>\n",
       "      <th>4</th>\n",
       "      <td>106</td>\n",
       "      <td>Julian Fulara</td>\n",
       "      <td>Wrocław</td>\n",
       "      <td>aleja Dworska 63</td>\n",
       "    </tr>\n",
       "    <tr>\n",
       "      <th>...</th>\n",
       "      <td>...</td>\n",
       "      <td>...</td>\n",
       "      <td>...</td>\n",
       "      <td>...</td>\n",
       "    </tr>\n",
       "    <tr>\n",
       "      <th>195</th>\n",
       "      <td>297</td>\n",
       "      <td>Marcelina Guziak</td>\n",
       "      <td>Warszawa</td>\n",
       "      <td>plac Słowackiego 43/14</td>\n",
       "    </tr>\n",
       "    <tr>\n",
       "      <th>196</th>\n",
       "      <td>298</td>\n",
       "      <td>Marianna Koźlak</td>\n",
       "      <td>Radom</td>\n",
       "      <td>aleja Stroma 64/71</td>\n",
       "    </tr>\n",
       "    <tr>\n",
       "      <th>197</th>\n",
       "      <td>299</td>\n",
       "      <td>Tymoteusz Tórz</td>\n",
       "      <td>Kraków</td>\n",
       "      <td>plac Matejki 24/06</td>\n",
       "    </tr>\n",
       "    <tr>\n",
       "      <th>198</th>\n",
       "      <td>300</td>\n",
       "      <td>Łukasz Faryna</td>\n",
       "      <td>Kraków</td>\n",
       "      <td>al. Zakątek 36/81</td>\n",
       "    </tr>\n",
       "    <tr>\n",
       "      <th>199</th>\n",
       "      <td>301</td>\n",
       "      <td>Ryszard Trzmiel</td>\n",
       "      <td>Radom</td>\n",
       "      <td>plac Kasprowicza 31</td>\n",
       "    </tr>\n",
       "  </tbody>\n",
       "</table>\n",
       "<p>200 rows × 4 columns</p>\n",
       "</div>"
      ],
      "text/plain": [
       "     user_id                  name      city                  street\n",
       "0        102       Tymoteusz Wołos  Warszawa          al. Żwirowa 08\n",
       "1        103      Olgierd Wardziak    Kraków  aleja Wybickiego 12/30\n",
       "2        104       Urszula Kowaluk    Kraków  ulica Strumykowa 51/91\n",
       "3        105  Roksana Hajdukiewicz  Szczecin      ul. Wyzwolenia 679\n",
       "4        106         Julian Fulara   Wrocław        aleja Dworska 63\n",
       "..       ...                   ...       ...                     ...\n",
       "195      297      Marcelina Guziak  Warszawa  plac Słowackiego 43/14\n",
       "196      298       Marianna Koźlak     Radom      aleja Stroma 64/71\n",
       "197      299        Tymoteusz Tórz    Kraków      plac Matejki 24/06\n",
       "198      300         Łukasz Faryna    Kraków       al. Zakątek 36/81\n",
       "199      301       Ryszard Trzmiel     Radom     plac Kasprowicza 31\n",
       "\n",
       "[200 rows x 4 columns]"
      ]
     },
     "execution_count": 121,
     "metadata": {},
     "output_type": "execute_result"
    }
   ],
   "source": [
    "users"
   ]
  },
  {
   "cell_type": "code",
   "execution_count": 122,
   "id": "633134f7-df23-47be-951e-a40d4cb4808e",
   "metadata": {},
   "outputs": [
    {
     "data": {
      "text/plain": [
       "Szczecin    37\n",
       "Warszawa    33\n",
       "Poznań      32\n",
       "Radom       31\n",
       "Kraków      28\n",
       "Wrocław     22\n",
       "Gdynia      17\n",
       "Name: city, dtype: int64"
      ]
     },
     "execution_count": 122,
     "metadata": {},
     "output_type": "execute_result"
    }
   ],
   "source": [
    "users['city'].value_counts()"
   ]
  },
  {
   "cell_type": "markdown",
   "id": "b40b376b-da5f-4fc6-b2a6-25a5506cf743",
   "metadata": {
    "jp-MarkdownHeadingCollapsed": true,
    "tags": []
   },
   "source": [
    "## Data quality analysis between multiple datasets"
   ]
  },
  {
   "cell_type": "markdown",
   "id": "3e8f2ec6-85a7-4301-8414-b70a59453dda",
   "metadata": {
    "tags": []
   },
   "source": [
    "### Check if there are purchases in deliveries which are not in sessions and vice verca"
   ]
  },
  {
   "cell_type": "code",
   "execution_count": 123,
   "id": "41809184-6e49-4156-91b9-acea1ba4053d",
   "metadata": {},
   "outputs": [
    {
     "data": {
      "text/html": [
       "<div>\n",
       "<style scoped>\n",
       "    .dataframe tbody tr th:only-of-type {\n",
       "        vertical-align: middle;\n",
       "    }\n",
       "\n",
       "    .dataframe tbody tr th {\n",
       "        vertical-align: top;\n",
       "    }\n",
       "\n",
       "    .dataframe thead th {\n",
       "        text-align: right;\n",
       "    }\n",
       "</style>\n",
       "<table border=\"1\" class=\"dataframe\">\n",
       "  <thead>\n",
       "    <tr style=\"text-align: right;\">\n",
       "      <th></th>\n",
       "      <th>purchase_id</th>\n",
       "      <th>purchase_timestamp</th>\n",
       "      <th>delivery_timestamp</th>\n",
       "      <th>delivery_company</th>\n",
       "      <th>delivery_month</th>\n",
       "    </tr>\n",
       "  </thead>\n",
       "  <tbody>\n",
       "  </tbody>\n",
       "</table>\n",
       "</div>"
      ],
      "text/plain": [
       "Empty DataFrame\n",
       "Columns: [purchase_id, purchase_timestamp, delivery_timestamp, delivery_company, delivery_month]\n",
       "Index: []"
      ]
     },
     "execution_count": 123,
     "metadata": {},
     "output_type": "execute_result"
    }
   ],
   "source": [
    "deliveries[~deliveries['purchase_id'].isin(sessions['purchase_id'])]"
   ]
  },
  {
   "cell_type": "code",
   "execution_count": 124,
   "id": "6f7b8178-a488-413e-b3b8-bad2a9b794d9",
   "metadata": {},
   "outputs": [
    {
     "data": {
      "text/plain": [
       "VIEW_PRODUCT    170657\n",
       "Name: event_type, dtype: int64"
      ]
     },
     "execution_count": 124,
     "metadata": {},
     "output_type": "execute_result"
    }
   ],
   "source": [
    "sessions[~sessions['purchase_id'].isin(deliveries['purchase_id'])]['event_type'].value_counts()"
   ]
  },
  {
   "cell_type": "code",
   "execution_count": null,
   "id": "37ea2c79-d477-4bfc-be71-e63a7d106995",
   "metadata": {},
   "outputs": [],
   "source": []
  },
  {
   "cell_type": "code",
   "execution_count": null,
   "id": "d34891a9-f8ef-4008-aa0e-388489748e5c",
   "metadata": {},
   "outputs": [],
   "source": []
  }
 ],
 "metadata": {
  "kernelspec": {
   "display_name": "Python 3 (ipykernel)",
   "language": "python",
   "name": "python3"
  },
  "language_info": {
   "codemirror_mode": {
    "name": "ipython",
    "version": 3
   },
   "file_extension": ".py",
   "mimetype": "text/x-python",
   "name": "python",
   "nbconvert_exporter": "python",
   "pygments_lexer": "ipython3",
   "version": "3.7.11"
  }
 },
 "nbformat": 4,
 "nbformat_minor": 5
}
