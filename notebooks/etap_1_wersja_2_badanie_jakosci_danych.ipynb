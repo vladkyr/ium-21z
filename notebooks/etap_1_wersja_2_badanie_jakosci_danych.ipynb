{
 "cells": [
  {
   "cell_type": "code",
   "execution_count": null,
   "metadata": {
    "pycharm": {
     "is_executing": true
    }
   },
   "outputs": [],
   "source": [
    "# !pip install pandas-profiling[notebook]"
   ]
  },
  {
   "cell_type": "code",
   "execution_count": null,
   "metadata": {},
   "outputs": [],
   "source": [
    "import pandas as pd\n",
    "from pandas_profiling import ProfileReport"
   ]
  },
  {
   "cell_type": "code",
   "execution_count": null,
   "metadata": {},
   "outputs": [],
   "source": [
    "deliveries = pd.read_json(\"../data/raw/second/deliveries.jsonl\", lines=True)\n",
    "products = pd.read_json(\"../data/raw/second/products.jsonl\", lines=True)\n",
    "sessions = pd.read_json(\"../data/raw/second/sessions.jsonl\", lines=True)\n",
    "users = pd.read_json(\"../data/raw/second/users.jsonl\", lines=True)"
   ]
  },
  {
   "cell_type": "code",
   "execution_count": null,
   "metadata": {},
   "outputs": [],
   "source": [
    "profile_deliveries = ProfileReport(deliveries, title=\"Raport nt. jakości zbioru deliveries\")\n",
    "profile_deliveries.to_notebook_iframe()"
   ]
  },
  {
   "cell_type": "code",
   "execution_count": null,
   "metadata": {},
   "outputs": [],
   "source": [
    "profile_products = ProfileReport(products, title=\"Raport nt. jakości zbioru products\")\n",
    "profile_products.to_notebook_iframe()"
   ]
  },
  {
   "cell_type": "code",
   "execution_count": null,
   "metadata": {},
   "outputs": [],
   "source": [
    "profile_sessions = ProfileReport(sessions, title=\"Raport nt. jakości zbioru sessions\")\n",
    "profile_sessions.to_notebook_iframe()"
   ]
  },
  {
   "cell_type": "code",
   "execution_count": null,
   "metadata": {},
   "outputs": [],
   "source": [
    "profile_users = ProfileReport(users, title=\"Raport nt. jakości zbioru users\")\n",
    "profile_users.to_notebook_iframe()"
   ]
  },
  {
   "cell_type": "code",
   "execution_count": null,
   "metadata": {},
   "outputs": [],
   "source": []
  }
 ],
 "metadata": {
  "kernelspec": {
   "display_name": "Python 3 (ipykernel)",
   "language": "python",
   "name": "python3"
  },
  "language_info": {
   "codemirror_mode": {
    "name": "ipython",
    "version": 3
   },
   "file_extension": ".py",
   "mimetype": "text/x-python",
   "name": "python",
   "nbconvert_exporter": "python",
   "pygments_lexer": "ipython3",
   "version": "3.10.1"
  }
 },
 "nbformat": 4,
 "nbformat_minor": 4
}
