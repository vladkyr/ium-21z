{
 "cells": [
  {
   "cell_type": "code",
   "execution_count": 2,
   "id": "065b933a",
   "metadata": {},
   "outputs": [],
   "source": [
    "# Adding autoreload will let you edit your package and see the changes without restarting the notebook.\n",
    "\n",
    "%load_ext autoreload\n",
    "\n",
    "%autoreload 2"
   ]
  },
  {
   "cell_type": "code",
   "execution_count": 3,
   "id": "fa457ac8",
   "metadata": {},
   "outputs": [],
   "source": [
    "import pandas as pd\n",
    "from datetime import datetime\n",
    "import calendar"
   ]
  },
  {
   "cell_type": "code",
   "execution_count": 4,
   "id": "391b5e5f",
   "metadata": {
    "collapsed": false,
    "jupyter": {
     "outputs_hidden": false
    },
    "pycharm": {
     "name": "#%%\n"
    }
   },
   "outputs": [],
   "source": [
    "deliveries = pd.read_json(\"../data/raw/second/deliveries.jsonl\", lines=True)\n",
    "products = pd.read_json(\"../data/raw/second/products.jsonl\", lines=True)\n",
    "sessions = pd.read_json(\"../data/raw/second/sessions.jsonl\", lines=True)\n",
    "users = pd.read_json(\"../data/raw/second/users.jsonl\", lines=True)"
   ]
  },
  {
   "cell_type": "markdown",
   "id": "99c875fd",
   "metadata": {
    "jp-MarkdownHeadingCollapsed": true,
    "tags": []
   },
   "source": [
    "## Analiza jakosci danych w zbiorze \"deliveries\""
   ]
  },
  {
   "cell_type": "code",
   "execution_count": 5,
   "id": "26784c4b-6bd1-4788-b815-ea53101db87c",
   "metadata": {},
   "outputs": [
    {
     "name": "stdout",
     "output_type": "stream",
     "text": [
      "<class 'pandas.core.frame.DataFrame'>\n",
      "RangeIndex: 16056 entries, 0 to 16055\n",
      "Data columns (total 4 columns):\n",
      " #   Column              Non-Null Count  Dtype \n",
      "---  ------              --------------  ----- \n",
      " 0   purchase_id         16056 non-null  int64 \n",
      " 1   purchase_timestamp  16056 non-null  object\n",
      " 2   delivery_timestamp  16056 non-null  object\n",
      " 3   delivery_company    16056 non-null  int64 \n",
      "dtypes: int64(2), object(2)\n",
      "memory usage: 501.9+ KB\n"
     ]
    }
   ],
   "source": [
    "deliveries.info()"
   ]
  },
  {
   "cell_type": "code",
   "execution_count": 6,
   "id": "efe4f4a3-77d2-44b0-b3a0-9232ed84218e",
   "metadata": {},
   "outputs": [
    {
     "data": {
      "text/html": [
       "<div>\n",
       "<style scoped>\n",
       "    .dataframe tbody tr th:only-of-type {\n",
       "        vertical-align: middle;\n",
       "    }\n",
       "\n",
       "    .dataframe tbody tr th {\n",
       "        vertical-align: top;\n",
       "    }\n",
       "\n",
       "    .dataframe thead th {\n",
       "        text-align: right;\n",
       "    }\n",
       "</style>\n",
       "<table border=\"1\" class=\"dataframe\">\n",
       "  <thead>\n",
       "    <tr style=\"text-align: right;\">\n",
       "      <th></th>\n",
       "      <th>purchase_id</th>\n",
       "      <th>purchase_timestamp</th>\n",
       "      <th>delivery_timestamp</th>\n",
       "      <th>delivery_company</th>\n",
       "    </tr>\n",
       "  </thead>\n",
       "  <tbody>\n",
       "    <tr>\n",
       "      <th>0</th>\n",
       "      <td>20001</td>\n",
       "      <td>2019-12-30T14:25:31</td>\n",
       "      <td>2020-01-03T14:28:51</td>\n",
       "      <td>620</td>\n",
       "    </tr>\n",
       "    <tr>\n",
       "      <th>1</th>\n",
       "      <td>20002</td>\n",
       "      <td>2019-12-30T17:35:47</td>\n",
       "      <td>2020-01-02T17:38:11</td>\n",
       "      <td>516</td>\n",
       "    </tr>\n",
       "    <tr>\n",
       "      <th>2</th>\n",
       "      <td>20003</td>\n",
       "      <td>2019-12-31T15:14:01</td>\n",
       "      <td>2020-01-02T15:16:57</td>\n",
       "      <td>516</td>\n",
       "    </tr>\n",
       "    <tr>\n",
       "      <th>3</th>\n",
       "      <td>20004</td>\n",
       "      <td>2019-12-31T14:20:20</td>\n",
       "      <td>2020-01-03T14:24:09</td>\n",
       "      <td>620</td>\n",
       "    </tr>\n",
       "    <tr>\n",
       "      <th>4</th>\n",
       "      <td>20005</td>\n",
       "      <td>2019-12-31T04:02:00</td>\n",
       "      <td>2020-01-04T04:05:25</td>\n",
       "      <td>360</td>\n",
       "    </tr>\n",
       "    <tr>\n",
       "      <th>...</th>\n",
       "      <td>...</td>\n",
       "      <td>...</td>\n",
       "      <td>...</td>\n",
       "      <td>...</td>\n",
       "    </tr>\n",
       "    <tr>\n",
       "      <th>16051</th>\n",
       "      <td>36052</td>\n",
       "      <td>2021-01-01T16:44:14</td>\n",
       "      <td>2021-01-06T16:45:17</td>\n",
       "      <td>360</td>\n",
       "    </tr>\n",
       "    <tr>\n",
       "      <th>16052</th>\n",
       "      <td>36053</td>\n",
       "      <td>2021-01-03T17:25:05</td>\n",
       "      <td>2021-01-08T17:29:49</td>\n",
       "      <td>360</td>\n",
       "    </tr>\n",
       "    <tr>\n",
       "      <th>16053</th>\n",
       "      <td>36054</td>\n",
       "      <td>2021-01-01T15:28:42</td>\n",
       "      <td>2021-01-03T15:30:55</td>\n",
       "      <td>360</td>\n",
       "    </tr>\n",
       "    <tr>\n",
       "      <th>16054</th>\n",
       "      <td>36055</td>\n",
       "      <td>2021-01-01T02:35:51</td>\n",
       "      <td>2021-01-03T02:36:30</td>\n",
       "      <td>620</td>\n",
       "    </tr>\n",
       "    <tr>\n",
       "      <th>16055</th>\n",
       "      <td>36056</td>\n",
       "      <td>2021-01-01T01:26:52</td>\n",
       "      <td>2021-01-06T01:28:28</td>\n",
       "      <td>360</td>\n",
       "    </tr>\n",
       "  </tbody>\n",
       "</table>\n",
       "<p>16056 rows × 4 columns</p>\n",
       "</div>"
      ],
      "text/plain": [
       "       purchase_id   purchase_timestamp   delivery_timestamp  delivery_company\n",
       "0            20001  2019-12-30T14:25:31  2020-01-03T14:28:51               620\n",
       "1            20002  2019-12-30T17:35:47  2020-01-02T17:38:11               516\n",
       "2            20003  2019-12-31T15:14:01  2020-01-02T15:16:57               516\n",
       "3            20004  2019-12-31T14:20:20  2020-01-03T14:24:09               620\n",
       "4            20005  2019-12-31T04:02:00  2020-01-04T04:05:25               360\n",
       "...            ...                  ...                  ...               ...\n",
       "16051        36052  2021-01-01T16:44:14  2021-01-06T16:45:17               360\n",
       "16052        36053  2021-01-03T17:25:05  2021-01-08T17:29:49               360\n",
       "16053        36054  2021-01-01T15:28:42  2021-01-03T15:30:55               360\n",
       "16054        36055  2021-01-01T02:35:51  2021-01-03T02:36:30               620\n",
       "16055        36056  2021-01-01T01:26:52  2021-01-06T01:28:28               360\n",
       "\n",
       "[16056 rows x 4 columns]"
      ]
     },
     "execution_count": 6,
     "metadata": {},
     "output_type": "execute_result"
    }
   ],
   "source": [
    "deliveries"
   ]
  },
  {
   "cell_type": "code",
   "execution_count": 7,
   "id": "7a04ee18-bcfe-4585-9ed9-d43909854a5d",
   "metadata": {},
   "outputs": [
    {
     "data": {
      "text/plain": [
       "min    2019-08-01T04:31:06\n",
       "max    2021-12-20T11:03:23\n",
       "Name: purchase_timestamp, dtype: object"
      ]
     },
     "execution_count": 7,
     "metadata": {},
     "output_type": "execute_result"
    }
   ],
   "source": [
    "deliveries['purchase_timestamp'].agg(['min', 'max'])"
   ]
  },
  {
   "cell_type": "code",
   "execution_count": 8,
   "id": "ea3a013a-1a20-43d1-aa95-2dd7a9977c8e",
   "metadata": {},
   "outputs": [
    {
     "data": {
      "text/plain": [
       "360    5424\n",
       "516    5369\n",
       "620    5263\n",
       "Name: delivery_company, dtype: int64"
      ]
     },
     "execution_count": 8,
     "metadata": {},
     "output_type": "execute_result"
    }
   ],
   "source": [
    "deliveries['delivery_company'].value_counts()"
   ]
  },
  {
   "cell_type": "markdown",
   "id": "597aa8c6-1bb0-4033-8aae-2c7e1430f243",
   "metadata": {
    "jp-MarkdownHeadingCollapsed": true,
    "tags": []
   },
   "source": [
    "#### Number of deliveries per month"
   ]
  },
  {
   "cell_type": "code",
   "execution_count": 9,
   "id": "5c3d2de0-5523-43b5-ae18-fd14a6168ca5",
   "metadata": {},
   "outputs": [],
   "source": [
    "deliveries['delivery_month'] = deliveries['delivery_timestamp'].dropna().apply(lambda x: datetime.fromisoformat(x)).dt.month"
   ]
  },
  {
   "cell_type": "code",
   "execution_count": 10,
   "id": "20f99404-d313-445a-b453-2aa142e29655",
   "metadata": {},
   "outputs": [
    {
     "data": {
      "text/plain": [
       "<AxesSubplot:>"
      ]
     },
     "execution_count": 10,
     "metadata": {},
     "output_type": "execute_result"
    },
    {
     "data": {
      "image/png": "[encoded data removed]",
      "text/plain": [
       "<Figure size 432x288 with 1 Axes>"
      ]
     },
     "metadata": {
      "needs_background": "light"
     },
     "output_type": "display_data"
    }
   ],
   "source": [
    "deliveries['delivery_month'].value_counts().sort_index().plot.bar()"
   ]
  },
  {
   "cell_type": "markdown",
   "id": "c6e917d1",
   "metadata": {
    "tags": []
   },
   "source": [
    "## Analiza jakości danych w zbiorze \"products\""
   ]
  },
  {
   "cell_type": "code",
   "execution_count": 11,
   "id": "2a21d907-5f87-4c1d-b11c-d49566195242",
   "metadata": {},
   "outputs": [
    {
     "name": "stdout",
     "output_type": "stream",
     "text": [
      "<class 'pandas.core.frame.DataFrame'>\n",
      "RangeIndex: 319 entries, 0 to 318\n",
      "Data columns (total 4 columns):\n",
      " #   Column         Non-Null Count  Dtype  \n",
      "---  ------         --------------  -----  \n",
      " 0   product_id     319 non-null    int64  \n",
      " 1   product_name   319 non-null    object \n",
      " 2   category_path  319 non-null    object \n",
      " 3   price          319 non-null    float64\n",
      "dtypes: float64(1), int64(1), object(2)\n",
      "memory usage: 10.1+ KB\n"
     ]
    }
   ],
   "source": [
    "products.info()"
   ]
  },
  {
   "cell_type": "code",
   "execution_count": 12,
   "id": "eb84ebec-618f-4ba3-b162-643c4cca9dfb",
   "metadata": {},
   "outputs": [
    {
     "data": {
      "text/html": [
       "<div>\n",
       "<style scoped>\n",
       "    .dataframe tbody tr th:only-of-type {\n",
       "        vertical-align: middle;\n",
       "    }\n",
       "\n",
       "    .dataframe tbody tr th {\n",
       "        vertical-align: top;\n",
       "    }\n",
       "\n",
       "    .dataframe thead th {\n",
       "        text-align: right;\n",
       "    }\n",
       "</style>\n",
       "<table border=\"1\" class=\"dataframe\">\n",
       "  <thead>\n",
       "    <tr style=\"text-align: right;\">\n",
       "      <th></th>\n",
       "      <th>product_id</th>\n",
       "      <th>product_name</th>\n",
       "      <th>category_path</th>\n",
       "      <th>price</th>\n",
       "    </tr>\n",
       "  </thead>\n",
       "  <tbody>\n",
       "    <tr>\n",
       "      <th>0</th>\n",
       "      <td>1001</td>\n",
       "      <td>Telefon Siemens Gigaset DA310</td>\n",
       "      <td>Telefony i akcesoria;Telefony stacjonarne</td>\n",
       "      <td>58.97</td>\n",
       "    </tr>\n",
       "    <tr>\n",
       "      <th>1</th>\n",
       "      <td>1002</td>\n",
       "      <td>Kyocera FS-1135MFP</td>\n",
       "      <td>Komputery;Drukarki i skanery;Biurowe urządzeni...</td>\n",
       "      <td>2048.50</td>\n",
       "    </tr>\n",
       "    <tr>\n",
       "      <th>2</th>\n",
       "      <td>1003</td>\n",
       "      <td>Kyocera FS-3640MFP</td>\n",
       "      <td>Komputery;Drukarki i skanery;Biurowe urządzeni...</td>\n",
       "      <td>7639.00</td>\n",
       "    </tr>\n",
       "    <tr>\n",
       "      <th>3</th>\n",
       "      <td>1004</td>\n",
       "      <td>Fallout 3 (Xbox 360)</td>\n",
       "      <td>Gry i konsole;Gry na konsole;Gry Xbox 360</td>\n",
       "      <td>49.99</td>\n",
       "    </tr>\n",
       "    <tr>\n",
       "      <th>4</th>\n",
       "      <td>1005</td>\n",
       "      <td>Szalone Króliki Na żywo i w kolorze (Xbox 360)</td>\n",
       "      <td>Gry i konsole;Gry na konsole;Gry Xbox 360</td>\n",
       "      <td>49.99</td>\n",
       "    </tr>\n",
       "    <tr>\n",
       "      <th>...</th>\n",
       "      <td>...</td>\n",
       "      <td>...</td>\n",
       "      <td>...</td>\n",
       "      <td>...</td>\n",
       "    </tr>\n",
       "    <tr>\n",
       "      <th>314</th>\n",
       "      <td>1315</td>\n",
       "      <td>Jabra Talk</td>\n",
       "      <td>Telefony i akcesoria;Akcesoria telefoniczne;Ze...</td>\n",
       "      <td>54.99</td>\n",
       "    </tr>\n",
       "    <tr>\n",
       "      <th>315</th>\n",
       "      <td>1316</td>\n",
       "      <td>Plantronics Voyager Legend</td>\n",
       "      <td>Telefony i akcesoria;Akcesoria telefoniczne;Ze...</td>\n",
       "      <td>249.00</td>\n",
       "    </tr>\n",
       "    <tr>\n",
       "      <th>316</th>\n",
       "      <td>1317</td>\n",
       "      <td>Plantronics Savi W740</td>\n",
       "      <td>Telefony i akcesoria;Akcesoria telefoniczne;Ze...</td>\n",
       "      <td>1303.96</td>\n",
       "    </tr>\n",
       "    <tr>\n",
       "      <th>317</th>\n",
       "      <td>1318</td>\n",
       "      <td>Plantronics Savi W710</td>\n",
       "      <td>Sprzęt RTV;Audio;Słuchawki</td>\n",
       "      <td>553.00</td>\n",
       "    </tr>\n",
       "    <tr>\n",
       "      <th>318</th>\n",
       "      <td>1319</td>\n",
       "      <td>HTC HS-S200</td>\n",
       "      <td>Telefony i akcesoria;Akcesoria telefoniczne;Ze...</td>\n",
       "      <td>14.99</td>\n",
       "    </tr>\n",
       "  </tbody>\n",
       "</table>\n",
       "<p>319 rows × 4 columns</p>\n",
       "</div>"
      ],
      "text/plain": [
       "     product_id                                    product_name  \\\n",
       "0          1001                   Telefon Siemens Gigaset DA310   \n",
       "1          1002                              Kyocera FS-1135MFP   \n",
       "2          1003                              Kyocera FS-3640MFP   \n",
       "3          1004                            Fallout 3 (Xbox 360)   \n",
       "4          1005  Szalone Króliki Na żywo i w kolorze (Xbox 360)   \n",
       "..          ...                                             ...   \n",
       "314        1315                                      Jabra Talk   \n",
       "315        1316                      Plantronics Voyager Legend   \n",
       "316        1317                           Plantronics Savi W740   \n",
       "317        1318                           Plantronics Savi W710   \n",
       "318        1319                                     HTC HS-S200   \n",
       "\n",
       "                                         category_path    price  \n",
       "0            Telefony i akcesoria;Telefony stacjonarne    58.97  \n",
       "1    Komputery;Drukarki i skanery;Biurowe urządzeni...  2048.50  \n",
       "2    Komputery;Drukarki i skanery;Biurowe urządzeni...  7639.00  \n",
       "3            Gry i konsole;Gry na konsole;Gry Xbox 360    49.99  \n",
       "4            Gry i konsole;Gry na konsole;Gry Xbox 360    49.99  \n",
       "..                                                 ...      ...  \n",
       "314  Telefony i akcesoria;Akcesoria telefoniczne;Ze...    54.99  \n",
       "315  Telefony i akcesoria;Akcesoria telefoniczne;Ze...   249.00  \n",
       "316  Telefony i akcesoria;Akcesoria telefoniczne;Ze...  1303.96  \n",
       "317                         Sprzęt RTV;Audio;Słuchawki   553.00  \n",
       "318  Telefony i akcesoria;Akcesoria telefoniczne;Ze...    14.99  \n",
       "\n",
       "[319 rows x 4 columns]"
      ]
     },
     "execution_count": 12,
     "metadata": {},
     "output_type": "execute_result"
    }
   ],
   "source": [
    "products"
   ]
  },
  {
   "cell_type": "code",
   "execution_count": 13,
   "id": "ae0fb434-757e-496c-8d99-b85b109e5b28",
   "metadata": {},
   "outputs": [
    {
     "data": {
      "text/html": [
       "<div>\n",
       "<style scoped>\n",
       "    .dataframe tbody tr th:only-of-type {\n",
       "        vertical-align: middle;\n",
       "    }\n",
       "\n",
       "    .dataframe tbody tr th {\n",
       "        vertical-align: top;\n",
       "    }\n",
       "\n",
       "    .dataframe thead th {\n",
       "        text-align: right;\n",
       "    }\n",
       "</style>\n",
       "<table border=\"1\" class=\"dataframe\">\n",
       "  <thead>\n",
       "    <tr style=\"text-align: right;\">\n",
       "      <th></th>\n",
       "      <th>product_id</th>\n",
       "      <th>product_name</th>\n",
       "      <th>category_path</th>\n",
       "      <th>price</th>\n",
       "    </tr>\n",
       "  </thead>\n",
       "  <tbody>\n",
       "  </tbody>\n",
       "</table>\n",
       "</div>"
      ],
      "text/plain": [
       "Empty DataFrame\n",
       "Columns: [product_id, product_name, category_path, price]\n",
       "Index: []"
      ]
     },
     "execution_count": 13,
     "metadata": {},
     "output_type": "execute_result"
    }
   ],
   "source": [
    "products[products['price'] < 0]"
   ]
  },
  {
   "cell_type": "code",
   "execution_count": 14,
   "id": "977eb582-1d92-4c57-9e57-bd96e1bffcf7",
   "metadata": {},
   "outputs": [
    {
     "data": {
      "text/plain": [
       "0"
      ]
     },
     "execution_count": 14,
     "metadata": {},
     "output_type": "execute_result"
    }
   ],
   "source": [
    "products[products['price'] < 0].shape[0]"
   ]
  },
  {
   "cell_type": "code",
   "execution_count": 15,
   "id": "fcf4594b-3639-40db-9661-a9cbebba034e",
   "metadata": {},
   "outputs": [
    {
     "data": {
      "text/html": [
       "<div>\n",
       "<style scoped>\n",
       "    .dataframe tbody tr th:only-of-type {\n",
       "        vertical-align: middle;\n",
       "    }\n",
       "\n",
       "    .dataframe tbody tr th {\n",
       "        vertical-align: top;\n",
       "    }\n",
       "\n",
       "    .dataframe thead th {\n",
       "        text-align: right;\n",
       "    }\n",
       "</style>\n",
       "<table border=\"1\" class=\"dataframe\">\n",
       "  <thead>\n",
       "    <tr style=\"text-align: right;\">\n",
       "      <th></th>\n",
       "      <th>product_id</th>\n",
       "      <th>product_name</th>\n",
       "      <th>category_path</th>\n",
       "      <th>price</th>\n",
       "    </tr>\n",
       "  </thead>\n",
       "  <tbody>\n",
       "    <tr>\n",
       "      <th>77</th>\n",
       "      <td>1078</td>\n",
       "      <td>Kyocera FS-3540MFP</td>\n",
       "      <td>Komputery;Drukarki i skanery;Biurowe urządzeni...</td>\n",
       "      <td>5126.0</td>\n",
       "    </tr>\n",
       "    <tr>\n",
       "      <th>80</th>\n",
       "      <td>1081</td>\n",
       "      <td>OKI B840dn</td>\n",
       "      <td>Komputery;Drukarki i skanery;Biurowe urządzeni...</td>\n",
       "      <td>5259.0</td>\n",
       "    </tr>\n",
       "    <tr>\n",
       "      <th>79</th>\n",
       "      <td>1080</td>\n",
       "      <td>Kyocera FS-3140MFP</td>\n",
       "      <td>Komputery;Drukarki i skanery;Biurowe urządzeni...</td>\n",
       "      <td>5301.9</td>\n",
       "    </tr>\n",
       "    <tr>\n",
       "      <th>2</th>\n",
       "      <td>1003</td>\n",
       "      <td>Kyocera FS-3640MFP</td>\n",
       "      <td>Komputery;Drukarki i skanery;Biurowe urządzeni...</td>\n",
       "      <td>7639.0</td>\n",
       "    </tr>\n",
       "  </tbody>\n",
       "</table>\n",
       "</div>"
      ],
      "text/plain": [
       "    product_id        product_name  \\\n",
       "77        1078  Kyocera FS-3540MFP   \n",
       "80        1081          OKI B840dn   \n",
       "79        1080  Kyocera FS-3140MFP   \n",
       "2         1003  Kyocera FS-3640MFP   \n",
       "\n",
       "                                        category_path   price  \n",
       "77  Komputery;Drukarki i skanery;Biurowe urządzeni...  5126.0  \n",
       "80  Komputery;Drukarki i skanery;Biurowe urządzeni...  5259.0  \n",
       "79  Komputery;Drukarki i skanery;Biurowe urządzeni...  5301.9  \n",
       "2   Komputery;Drukarki i skanery;Biurowe urządzeni...  7639.0  "
      ]
     },
     "execution_count": 15,
     "metadata": {},
     "output_type": "execute_result"
    }
   ],
   "source": [
    "products[products['price'] > 5000].sort_values(by='price')"
   ]
  },
  {
   "cell_type": "code",
   "execution_count": 16,
   "id": "25c5578d-186b-4814-bcc3-b3fcf5bf3ff5",
   "metadata": {},
   "outputs": [
    {
     "data": {
      "text/plain": [
       "4"
      ]
     },
     "execution_count": 16,
     "metadata": {},
     "output_type": "execute_result"
    }
   ],
   "source": [
    "products[products['price'] > 5000].shape[0]"
   ]
  },
  {
   "cell_type": "code",
   "execution_count": 17,
   "id": "eee72616-df86-4c86-b434-ea0ac4b7bb90",
   "metadata": {},
   "outputs": [
    {
     "data": {
      "text/plain": [
       "Gry i konsole;Gry komputerowe                                        202\n",
       "Gry i konsole;Gry na konsole;Gry Xbox 360                             32\n",
       "Sprzęt RTV;Video;Telewizory i akcesoria;Anteny RTV                    30\n",
       "Komputery;Monitory;Monitory LCD                                       17\n",
       "Komputery;Drukarki i skanery;Biurowe urządzenia wielofunkcyjne         9\n",
       "Gry i konsole;Gry na konsole;Gry PlayStation3                          9\n",
       "Telefony i akcesoria;Akcesoria telefoniczne;Zestawy głośnomówiące      5\n",
       "Telefony i akcesoria;Akcesoria telefoniczne;Zestawy słuchawkowe        4\n",
       "Telefony i akcesoria;Telefony komórkowe                                2\n",
       "Sprzęt RTV;Video;Odtwarzacze DVD                                       2\n",
       "Komputery;Tablety i akcesoria;Tablety                                  2\n",
       "Sprzęt RTV;Przenośne audio i video;Odtwarzacze mp3 i mp4               2\n",
       "Telefony i akcesoria;Telefony stacjonarne                              1\n",
       "Sprzęt RTV;Video;Telewizory i akcesoria;Okulary 3D                     1\n",
       "Sprzęt RTV;Audio;Słuchawki                                             1\n",
       "Name: category_path, dtype: int64"
      ]
     },
     "execution_count": 17,
     "metadata": {},
     "output_type": "execute_result"
    }
   ],
   "source": [
    "products['category_path'].value_counts()"
   ]
  },
  {
   "cell_type": "code",
   "execution_count": 18,
   "id": "7fc7c086-5f15-4955-b399-8cc21cdd8287",
   "metadata": {},
   "outputs": [
    {
     "data": {
      "text/plain": [
       "Gry i konsole           243\n",
       "Sprzęt RTV               36\n",
       "Komputery                28\n",
       "Telefony i akcesoria     12\n",
       "Name: main_category, dtype: int64"
      ]
     },
     "execution_count": 18,
     "metadata": {},
     "output_type": "execute_result"
    }
   ],
   "source": [
    "products['main_category'] = products['category_path'].apply(lambda x: x.split(';')[0])\n",
    "products['main_category'].value_counts()"
   ]
  },
  {
   "cell_type": "code",
   "execution_count": 19,
   "id": "b82250a2-4437-4c94-b845-d862641858c3",
   "metadata": {},
   "outputs": [
    {
     "data": {
      "text/plain": [
       "Gry komputerowe            202\n",
       "Gry na konsole              41\n",
       "Video                       33\n",
       "Monitory                    17\n",
       "Drukarki i skanery           9\n",
       "Akcesoria telefoniczne       9\n",
       "Telefony komórkowe           2\n",
       "Tablety i akcesoria          2\n",
       "Przenośne audio i video      2\n",
       "Telefony stacjonarne         1\n",
       "Audio                        1\n",
       "Name: second_category, dtype: int64"
      ]
     },
     "execution_count": 19,
     "metadata": {},
     "output_type": "execute_result"
    }
   ],
   "source": [
    "products['second_category'] = products['category_path'].apply(lambda x: x.split(';')[1])\n",
    "products['second_category'].value_counts()"
   ]
  },
  {
   "cell_type": "markdown",
   "id": "a7d0491b-1165-481c-b0d9-8a469bcf5bb4",
   "metadata": {},
   "source": [
    "#### Min/max price in each category"
   ]
  },
  {
   "cell_type": "code",
   "execution_count": 20,
   "id": "c8e24ff9-abd1-45da-a377-29eec739f995",
   "metadata": {},
   "outputs": [
    {
     "data": {
      "text/html": [
       "<div>\n",
       "<style scoped>\n",
       "    .dataframe tbody tr th:only-of-type {\n",
       "        vertical-align: middle;\n",
       "    }\n",
       "\n",
       "    .dataframe tbody tr th {\n",
       "        vertical-align: top;\n",
       "    }\n",
       "\n",
       "    .dataframe thead tr th {\n",
       "        text-align: left;\n",
       "    }\n",
       "\n",
       "    .dataframe thead tr:last-of-type th {\n",
       "        text-align: right;\n",
       "    }\n",
       "</style>\n",
       "<table border=\"1\" class=\"dataframe\">\n",
       "  <thead>\n",
       "    <tr>\n",
       "      <th></th>\n",
       "      <th colspan=\"2\" halign=\"left\">price</th>\n",
       "    </tr>\n",
       "    <tr>\n",
       "      <th></th>\n",
       "      <th>min</th>\n",
       "      <th>max</th>\n",
       "    </tr>\n",
       "    <tr>\n",
       "      <th>category_path</th>\n",
       "      <th></th>\n",
       "      <th></th>\n",
       "    </tr>\n",
       "  </thead>\n",
       "  <tbody>\n",
       "    <tr>\n",
       "      <th>Gry i konsole;Gry komputerowe</th>\n",
       "      <td>1.00</td>\n",
       "      <td>199.90</td>\n",
       "    </tr>\n",
       "    <tr>\n",
       "      <th>Gry i konsole;Gry na konsole;Gry PlayStation3</th>\n",
       "      <td>59.90</td>\n",
       "      <td>129.00</td>\n",
       "    </tr>\n",
       "    <tr>\n",
       "      <th>Gry i konsole;Gry na konsole;Gry Xbox 360</th>\n",
       "      <td>14.99</td>\n",
       "      <td>139.99</td>\n",
       "    </tr>\n",
       "    <tr>\n",
       "      <th>Komputery;Drukarki i skanery;Biurowe urządzenia wielofunkcyjne</th>\n",
       "      <td>1998.14</td>\n",
       "      <td>7639.00</td>\n",
       "    </tr>\n",
       "    <tr>\n",
       "      <th>Komputery;Monitory;Monitory LCD</th>\n",
       "      <td>269.00</td>\n",
       "      <td>3029.00</td>\n",
       "    </tr>\n",
       "    <tr>\n",
       "      <th>Komputery;Tablety i akcesoria;Tablety</th>\n",
       "      <td>1816.97</td>\n",
       "      <td>2317.02</td>\n",
       "    </tr>\n",
       "    <tr>\n",
       "      <th>Sprzęt RTV;Audio;Słuchawki</th>\n",
       "      <td>553.00</td>\n",
       "      <td>553.00</td>\n",
       "    </tr>\n",
       "    <tr>\n",
       "      <th>Sprzęt RTV;Przenośne audio i video;Odtwarzacze mp3 i mp4</th>\n",
       "      <td>64.80</td>\n",
       "      <td>78.90</td>\n",
       "    </tr>\n",
       "    <tr>\n",
       "      <th>Sprzęt RTV;Video;Odtwarzacze DVD</th>\n",
       "      <td>109.00</td>\n",
       "      <td>193.00</td>\n",
       "    </tr>\n",
       "    <tr>\n",
       "      <th>Sprzęt RTV;Video;Telewizory i akcesoria;Anteny RTV</th>\n",
       "      <td>29.99</td>\n",
       "      <td>219.00</td>\n",
       "    </tr>\n",
       "    <tr>\n",
       "      <th>Sprzęt RTV;Video;Telewizory i akcesoria;Okulary 3D</th>\n",
       "      <td>99.99</td>\n",
       "      <td>99.99</td>\n",
       "    </tr>\n",
       "    <tr>\n",
       "      <th>Telefony i akcesoria;Akcesoria telefoniczne;Zestawy głośnomówiące</th>\n",
       "      <td>86.28</td>\n",
       "      <td>327.47</td>\n",
       "    </tr>\n",
       "    <tr>\n",
       "      <th>Telefony i akcesoria;Akcesoria telefoniczne;Zestawy słuchawkowe</th>\n",
       "      <td>14.99</td>\n",
       "      <td>1303.96</td>\n",
       "    </tr>\n",
       "    <tr>\n",
       "      <th>Telefony i akcesoria;Telefony komórkowe</th>\n",
       "      <td>207.33</td>\n",
       "      <td>2199.90</td>\n",
       "    </tr>\n",
       "    <tr>\n",
       "      <th>Telefony i akcesoria;Telefony stacjonarne</th>\n",
       "      <td>58.97</td>\n",
       "      <td>58.97</td>\n",
       "    </tr>\n",
       "  </tbody>\n",
       "</table>\n",
       "</div>"
      ],
      "text/plain": [
       "                                                      price         \n",
       "                                                        min      max\n",
       "category_path                                                       \n",
       "Gry i konsole;Gry komputerowe                          1.00   199.90\n",
       "Gry i konsole;Gry na konsole;Gry PlayStation3         59.90   129.00\n",
       "Gry i konsole;Gry na konsole;Gry Xbox 360             14.99   139.99\n",
       "Komputery;Drukarki i skanery;Biurowe urządzenia...  1998.14  7639.00\n",
       "Komputery;Monitory;Monitory LCD                      269.00  3029.00\n",
       "Komputery;Tablety i akcesoria;Tablety               1816.97  2317.02\n",
       "Sprzęt RTV;Audio;Słuchawki                           553.00   553.00\n",
       "Sprzęt RTV;Przenośne audio i video;Odtwarzacze ...    64.80    78.90\n",
       "Sprzęt RTV;Video;Odtwarzacze DVD                     109.00   193.00\n",
       "Sprzęt RTV;Video;Telewizory i akcesoria;Anteny RTV    29.99   219.00\n",
       "Sprzęt RTV;Video;Telewizory i akcesoria;Okulary 3D    99.99    99.99\n",
       "Telefony i akcesoria;Akcesoria telefoniczne;Zes...    86.28   327.47\n",
       "Telefony i akcesoria;Akcesoria telefoniczne;Zes...    14.99  1303.96\n",
       "Telefony i akcesoria;Telefony komórkowe              207.33  2199.90\n",
       "Telefony i akcesoria;Telefony stacjonarne             58.97    58.97"
      ]
     },
     "execution_count": 20,
     "metadata": {},
     "output_type": "execute_result"
    }
   ],
   "source": [
    "products[['category_path', 'price']].groupby(by='category_path').agg(['min', 'max'])"
   ]
  },
  {
   "cell_type": "markdown",
   "id": "4cbde683",
   "metadata": {},
   "source": [
    "## Analiza jakości danych w zbiorze \"sessions\""
   ]
  },
  {
   "cell_type": "code",
   "execution_count": 21,
   "id": "5cf2909f-6dd5-4c2b-bc18-c381a1918e11",
   "metadata": {},
   "outputs": [
    {
     "name": "stdout",
     "output_type": "stream",
     "text": [
      "<class 'pandas.core.frame.DataFrame'>\n",
      "RangeIndex: 787245 entries, 0 to 787244\n",
      "Data columns (total 7 columns):\n",
      " #   Column            Non-Null Count   Dtype         \n",
      "---  ------            --------------   -----         \n",
      " 0   session_id        787245 non-null  int64         \n",
      " 1   timestamp         787245 non-null  datetime64[ns]\n",
      " 2   user_id           787245 non-null  int64         \n",
      " 3   product_id        787245 non-null  int64         \n",
      " 4   event_type        787245 non-null  object        \n",
      " 5   offered_discount  787245 non-null  int64         \n",
      " 6   purchase_id       16056 non-null   float64       \n",
      "dtypes: datetime64[ns](1), float64(1), int64(4), object(1)\n",
      "memory usage: 42.0+ MB\n"
     ]
    }
   ],
   "source": [
    "sessions.info()"
   ]
  },
  {
   "cell_type": "code",
   "execution_count": 22,
   "id": "a0eb9579-fb12-4edd-8d34-7e8487d74c35",
   "metadata": {},
   "outputs": [
    {
     "data": {
      "text/html": [
       "<div>\n",
       "<style scoped>\n",
       "    .dataframe tbody tr th:only-of-type {\n",
       "        vertical-align: middle;\n",
       "    }\n",
       "\n",
       "    .dataframe tbody tr th {\n",
       "        vertical-align: top;\n",
       "    }\n",
       "\n",
       "    .dataframe thead th {\n",
       "        text-align: right;\n",
       "    }\n",
       "</style>\n",
       "<table border=\"1\" class=\"dataframe\">\n",
       "  <thead>\n",
       "    <tr style=\"text-align: right;\">\n",
       "      <th></th>\n",
       "      <th>session_id</th>\n",
       "      <th>timestamp</th>\n",
       "      <th>user_id</th>\n",
       "      <th>product_id</th>\n",
       "      <th>event_type</th>\n",
       "      <th>offered_discount</th>\n",
       "      <th>purchase_id</th>\n",
       "    </tr>\n",
       "  </thead>\n",
       "  <tbody>\n",
       "    <tr>\n",
       "      <th>0</th>\n",
       "      <td>124</td>\n",
       "      <td>2019-12-30 13:38:52</td>\n",
       "      <td>109</td>\n",
       "      <td>1161</td>\n",
       "      <td>VIEW_PRODUCT</td>\n",
       "      <td>10</td>\n",
       "      <td>NaN</td>\n",
       "    </tr>\n",
       "    <tr>\n",
       "      <th>1</th>\n",
       "      <td>124</td>\n",
       "      <td>2019-12-30 13:41:47</td>\n",
       "      <td>109</td>\n",
       "      <td>1051</td>\n",
       "      <td>VIEW_PRODUCT</td>\n",
       "      <td>10</td>\n",
       "      <td>NaN</td>\n",
       "    </tr>\n",
       "    <tr>\n",
       "      <th>2</th>\n",
       "      <td>124</td>\n",
       "      <td>2019-12-30 13:44:13</td>\n",
       "      <td>109</td>\n",
       "      <td>1143</td>\n",
       "      <td>VIEW_PRODUCT</td>\n",
       "      <td>10</td>\n",
       "      <td>NaN</td>\n",
       "    </tr>\n",
       "    <tr>\n",
       "      <th>3</th>\n",
       "      <td>124</td>\n",
       "      <td>2019-12-30 13:48:36</td>\n",
       "      <td>109</td>\n",
       "      <td>1154</td>\n",
       "      <td>VIEW_PRODUCT</td>\n",
       "      <td>10</td>\n",
       "      <td>NaN</td>\n",
       "    </tr>\n",
       "    <tr>\n",
       "      <th>4</th>\n",
       "      <td>124</td>\n",
       "      <td>2019-12-30 13:51:43</td>\n",
       "      <td>109</td>\n",
       "      <td>1139</td>\n",
       "      <td>VIEW_PRODUCT</td>\n",
       "      <td>10</td>\n",
       "      <td>NaN</td>\n",
       "    </tr>\n",
       "    <tr>\n",
       "      <th>...</th>\n",
       "      <td>...</td>\n",
       "      <td>...</td>\n",
       "      <td>...</td>\n",
       "      <td>...</td>\n",
       "      <td>...</td>\n",
       "      <td>...</td>\n",
       "      <td>...</td>\n",
       "    </tr>\n",
       "    <tr>\n",
       "      <th>787240</th>\n",
       "      <td>43969</td>\n",
       "      <td>2021-01-02 19:00:46</td>\n",
       "      <td>400</td>\n",
       "      <td>1307</td>\n",
       "      <td>VIEW_PRODUCT</td>\n",
       "      <td>0</td>\n",
       "      <td>NaN</td>\n",
       "    </tr>\n",
       "    <tr>\n",
       "      <th>787241</th>\n",
       "      <td>43969</td>\n",
       "      <td>2021-01-02 19:03:42</td>\n",
       "      <td>400</td>\n",
       "      <td>1289</td>\n",
       "      <td>VIEW_PRODUCT</td>\n",
       "      <td>0</td>\n",
       "      <td>NaN</td>\n",
       "    </tr>\n",
       "    <tr>\n",
       "      <th>787242</th>\n",
       "      <td>43969</td>\n",
       "      <td>2021-01-02 19:08:03</td>\n",
       "      <td>400</td>\n",
       "      <td>1288</td>\n",
       "      <td>VIEW_PRODUCT</td>\n",
       "      <td>0</td>\n",
       "      <td>NaN</td>\n",
       "    </tr>\n",
       "    <tr>\n",
       "      <th>787243</th>\n",
       "      <td>43969</td>\n",
       "      <td>2021-01-02 19:11:26</td>\n",
       "      <td>400</td>\n",
       "      <td>1284</td>\n",
       "      <td>VIEW_PRODUCT</td>\n",
       "      <td>0</td>\n",
       "      <td>NaN</td>\n",
       "    </tr>\n",
       "    <tr>\n",
       "      <th>787244</th>\n",
       "      <td>43969</td>\n",
       "      <td>2021-01-02 19:12:42</td>\n",
       "      <td>400</td>\n",
       "      <td>1292</td>\n",
       "      <td>VIEW_PRODUCT</td>\n",
       "      <td>0</td>\n",
       "      <td>NaN</td>\n",
       "    </tr>\n",
       "  </tbody>\n",
       "</table>\n",
       "<p>787245 rows × 7 columns</p>\n",
       "</div>"
      ],
      "text/plain": [
       "        session_id           timestamp  user_id  product_id    event_type  \\\n",
       "0              124 2019-12-30 13:38:52      109        1161  VIEW_PRODUCT   \n",
       "1              124 2019-12-30 13:41:47      109        1051  VIEW_PRODUCT   \n",
       "2              124 2019-12-30 13:44:13      109        1143  VIEW_PRODUCT   \n",
       "3              124 2019-12-30 13:48:36      109        1154  VIEW_PRODUCT   \n",
       "4              124 2019-12-30 13:51:43      109        1139  VIEW_PRODUCT   \n",
       "...            ...                 ...      ...         ...           ...   \n",
       "787240       43969 2021-01-02 19:00:46      400        1307  VIEW_PRODUCT   \n",
       "787241       43969 2021-01-02 19:03:42      400        1289  VIEW_PRODUCT   \n",
       "787242       43969 2021-01-02 19:08:03      400        1288  VIEW_PRODUCT   \n",
       "787243       43969 2021-01-02 19:11:26      400        1284  VIEW_PRODUCT   \n",
       "787244       43969 2021-01-02 19:12:42      400        1292  VIEW_PRODUCT   \n",
       "\n",
       "        offered_discount  purchase_id  \n",
       "0                     10          NaN  \n",
       "1                     10          NaN  \n",
       "2                     10          NaN  \n",
       "3                     10          NaN  \n",
       "4                     10          NaN  \n",
       "...                  ...          ...  \n",
       "787240                 0          NaN  \n",
       "787241                 0          NaN  \n",
       "787242                 0          NaN  \n",
       "787243                 0          NaN  \n",
       "787244                 0          NaN  \n",
       "\n",
       "[787245 rows x 7 columns]"
      ]
     },
     "execution_count": 22,
     "metadata": {},
     "output_type": "execute_result"
    }
   ],
   "source": [
    "sessions"
   ]
  },
  {
   "cell_type": "code",
   "execution_count": 23,
   "id": "75e2b2aa-e5b6-46a5-9d7b-7c8734dd9ae3",
   "metadata": {},
   "outputs": [
    {
     "data": {
      "text/plain": [
       "min   2019-08-01 00:16:17\n",
       "max   2021-12-20 11:03:23\n",
       "Name: timestamp, dtype: datetime64[ns]"
      ]
     },
     "execution_count": 23,
     "metadata": {},
     "output_type": "execute_result"
    }
   ],
   "source": [
    "sessions['timestamp'].agg(['min', 'max'])"
   ]
  },
  {
   "cell_type": "code",
   "execution_count": 24,
   "id": "f474d336-c404-41d4-83d5-9fd4b93f7026",
   "metadata": {},
   "outputs": [
    {
     "data": {
      "text/plain": [
       "event_type  \n",
       "VIEW_PRODUCT    771189\n",
       "BUY_PRODUCT      16056\n",
       "dtype: int64"
      ]
     },
     "execution_count": 24,
     "metadata": {},
     "output_type": "execute_result"
    }
   ],
   "source": [
    "sessions[['event_type']].value_counts()"
   ]
  },
  {
   "cell_type": "code",
   "execution_count": 25,
   "id": "ffabdc5c-e281-452c-865b-f30219464157",
   "metadata": {},
   "outputs": [],
   "source": [
    "buy_sessions = sessions[sessions['event_type'] == 'BUY_PRODUCT']"
   ]
  },
  {
   "cell_type": "code",
   "execution_count": 26,
   "id": "ede8380a-0623-4bfe-8ff9-ccf0b967e65e",
   "metadata": {},
   "outputs": [
    {
     "name": "stdout",
     "output_type": "stream",
     "text": [
      "<class 'pandas.core.frame.DataFrame'>\n",
      "Int64Index: 16056 entries, 132 to 787205\n",
      "Data columns (total 7 columns):\n",
      " #   Column            Non-Null Count  Dtype         \n",
      "---  ------            --------------  -----         \n",
      " 0   session_id        16056 non-null  int64         \n",
      " 1   timestamp         16056 non-null  datetime64[ns]\n",
      " 2   user_id           16056 non-null  int64         \n",
      " 3   product_id        16056 non-null  int64         \n",
      " 4   event_type        16056 non-null  object        \n",
      " 5   offered_discount  16056 non-null  int64         \n",
      " 6   purchase_id       16056 non-null  float64       \n",
      "dtypes: datetime64[ns](1), float64(1), int64(4), object(1)\n",
      "memory usage: 1003.5+ KB\n"
     ]
    }
   ],
   "source": [
    "buy_sessions.info()"
   ]
  },
  {
   "cell_type": "markdown",
   "id": "394cbbb4-743d-4fa6-a0b8-43b2aadd90a0",
   "metadata": {
    "tags": []
   },
   "source": [
    "### Histogram which shows how many times products were sold"
   ]
  },
  {
   "cell_type": "code",
   "execution_count": 91,
   "id": "33dd2c11-5d41-4bf7-97e5-8fe399fe9501",
   "metadata": {},
   "outputs": [
    {
     "data": {
      "text/plain": [
       "Text(0, 0.5, 'Products count')"
      ]
     },
     "execution_count": 91,
     "metadata": {},
     "output_type": "execute_result"
    },
    {
     "data": {
      "image/png": "[encoded data removed]",
      "text/plain": [
       "<Figure size 432x288 with 1 Axes>"
      ]
     },
     "metadata": {
      "needs_background": "light"
     },
     "output_type": "display_data"
    }
   ],
   "source": [
    "import pylab as pl\n",
    "\n",
    "num_of_each_product_sold = buy_sessions['product_id'].value_counts().to_frame().reset_index().rename(columns={'product_id': 'sold_count', 'index': 'product_id'})\n",
    "\n",
    "num_of_each_product_sold.hist(column='sold_count')\n",
    "pl.title(\"Histogram of Product Selling Frequency\")\n",
    "pl.xlabel(\"How many times product was sold\")\n",
    "pl.ylabel(\"Products count\")"
   ]
  },
  {
   "cell_type": "code",
   "execution_count": 92,
   "id": "8efd356e-c463-4a5f-b7f3-4bbd06d32e54",
   "metadata": {},
   "outputs": [
    {
     "data": {
      "text/plain": [
       "(1.504, 26.8]     117\n",
       "(26.8, 51.6]       21\n",
       "(150.8, 175.6]      8\n",
       "(274.8, 299.6]      8\n",
       "(200.4, 225.2]      7\n",
       "(299.6, 324.4]      6\n",
       "(250.0, 274.8]      6\n",
       "(126.0, 150.8]      5\n",
       "(324.4, 349.2]      5\n",
       "(175.6, 200.4]      4\n",
       "(225.2, 250.0]      4\n",
       "(51.6, 76.4]        2\n",
       "(76.4, 101.2]       1\n",
       "(349.2, 374.0]      1\n",
       "(374.0, 398.8]      1\n",
       "(473.2, 498.0]      1\n",
       "(101.2, 126.0]      0\n",
       "(398.8, 423.6]      0\n",
       "(423.6, 448.4]      0\n",
       "(448.4, 473.2]      0\n",
       "Name: sold_count, dtype: int64"
      ]
     },
     "execution_count": 92,
     "metadata": {},
     "output_type": "execute_result"
    }
   ],
   "source": [
    "pd.cut(num_of_each_product_sold['sold_count'], bins=20).value_counts()"
   ]
  },
  {
   "cell_type": "code",
   "execution_count": 93,
   "id": "fd823734-9807-4f65-88e3-eaeb4bfdbf18",
   "metadata": {},
   "outputs": [
    {
     "data": {
      "text/html": [
       "<div>\n",
       "<style scoped>\n",
       "    .dataframe tbody tr th:only-of-type {\n",
       "        vertical-align: middle;\n",
       "    }\n",
       "\n",
       "    .dataframe tbody tr th {\n",
       "        vertical-align: top;\n",
       "    }\n",
       "\n",
       "    .dataframe thead th {\n",
       "        text-align: right;\n",
       "    }\n",
       "</style>\n",
       "<table border=\"1\" class=\"dataframe\">\n",
       "  <thead>\n",
       "    <tr style=\"text-align: right;\">\n",
       "      <th></th>\n",
       "      <th>product_id</th>\n",
       "      <th>sold_count</th>\n",
       "    </tr>\n",
       "  </thead>\n",
       "  <tbody>\n",
       "    <tr>\n",
       "      <th>0</th>\n",
       "      <td>1045</td>\n",
       "      <td>498</td>\n",
       "    </tr>\n",
       "    <tr>\n",
       "      <th>1</th>\n",
       "      <td>1076</td>\n",
       "      <td>379</td>\n",
       "    </tr>\n",
       "    <tr>\n",
       "      <th>2</th>\n",
       "      <td>1043</td>\n",
       "      <td>364</td>\n",
       "    </tr>\n",
       "    <tr>\n",
       "      <th>3</th>\n",
       "      <td>1030</td>\n",
       "      <td>340</td>\n",
       "    </tr>\n",
       "    <tr>\n",
       "      <th>4</th>\n",
       "      <td>1042</td>\n",
       "      <td>339</td>\n",
       "    </tr>\n",
       "    <tr>\n",
       "      <th>...</th>\n",
       "      <td>...</td>\n",
       "      <td>...</td>\n",
       "    </tr>\n",
       "    <tr>\n",
       "      <th>192</th>\n",
       "      <td>1151</td>\n",
       "      <td>3</td>\n",
       "    </tr>\n",
       "    <tr>\n",
       "      <th>193</th>\n",
       "      <td>1157</td>\n",
       "      <td>3</td>\n",
       "    </tr>\n",
       "    <tr>\n",
       "      <th>194</th>\n",
       "      <td>1158</td>\n",
       "      <td>3</td>\n",
       "    </tr>\n",
       "    <tr>\n",
       "      <th>195</th>\n",
       "      <td>1163</td>\n",
       "      <td>2</td>\n",
       "    </tr>\n",
       "    <tr>\n",
       "      <th>196</th>\n",
       "      <td>1105</td>\n",
       "      <td>2</td>\n",
       "    </tr>\n",
       "  </tbody>\n",
       "</table>\n",
       "<p>197 rows × 2 columns</p>\n",
       "</div>"
      ],
      "text/plain": [
       "     product_id  sold_count\n",
       "0          1045         498\n",
       "1          1076         379\n",
       "2          1043         364\n",
       "3          1030         340\n",
       "4          1042         339\n",
       "..          ...         ...\n",
       "192        1151           3\n",
       "193        1157           3\n",
       "194        1158           3\n",
       "195        1163           2\n",
       "196        1105           2\n",
       "\n",
       "[197 rows x 2 columns]"
      ]
     },
     "execution_count": 93,
     "metadata": {},
     "output_type": "execute_result"
    }
   ],
   "source": [
    "num_of_each_product_sold"
   ]
  },
  {
   "cell_type": "markdown",
   "id": "95e112bb-694d-4d21-96e3-149d6d552f97",
   "metadata": {
    "tags": []
   },
   "source": [
    "### Number of sessions over different time periods"
   ]
  },
  {
   "cell_type": "markdown",
   "id": "a47758ce-45ca-44d9-8904-3d6450622f75",
   "metadata": {
    "jp-MarkdownHeadingCollapsed": true,
    "tags": []
   },
   "source": [
    "#### Number of all sessions per month"
   ]
  },
  {
   "cell_type": "code",
   "execution_count": 28,
   "id": "d147d6eb-68dc-4446-b206-d118a32d94c8",
   "metadata": {},
   "outputs": [],
   "source": [
    "sessions['session_month'] = sessions['timestamp'].dropna().dt.month"
   ]
  },
  {
   "cell_type": "code",
   "execution_count": 29,
   "id": "8a1270c3-1d35-4fec-a708-bffeeb29c5d0",
   "metadata": {},
   "outputs": [
    {
     "data": {
      "text/plain": [
       "<AxesSubplot:>"
      ]
     },
     "execution_count": 29,
     "metadata": {},
     "output_type": "execute_result"
    },
    {
     "data": {
      "image/png": "[encoded data removed]",
      "text/plain": [
       "<Figure size 432x288 with 1 Axes>"
      ]
     },
     "metadata": {
      "needs_background": "light"
     },
     "output_type": "display_data"
    }
   ],
   "source": [
    "sessions['session_month'].value_counts().sort_index().plot.bar()"
   ]
  },
  {
   "cell_type": "markdown",
   "id": "6584a58c-2068-4ac1-a54e-a676bc42d3df",
   "metadata": {
    "jp-MarkdownHeadingCollapsed": true,
    "tags": []
   },
   "source": [
    "#### Number of buy_product sessions per month"
   ]
  },
  {
   "cell_type": "code",
   "execution_count": 30,
   "id": "dc0f2164-3de4-467f-aef8-517500efc264",
   "metadata": {},
   "outputs": [
    {
     "name": "stderr",
     "output_type": "stream",
     "text": [
      "/tmp/ipykernel_25299/1442752891.py:1: SettingWithCopyWarning: \n",
      "A value is trying to be set on a copy of a slice from a DataFrame.\n",
      "Try using .loc[row_indexer,col_indexer] = value instead\n",
      "\n",
      "See the caveats in the documentation: https://pandas.pydata.org/pandas-docs/stable/user_guide/indexing.html#returning-a-view-versus-a-copy\n",
      "  buy_sessions['session_month'] = buy_sessions['timestamp'].dropna().dt.month\n"
     ]
    }
   ],
   "source": [
    "buy_sessions['session_month'] = buy_sessions['timestamp'].dropna().dt.month"
   ]
  },
  {
   "cell_type": "code",
   "execution_count": 31,
   "id": "004e8abb-ffa9-43de-90a4-3a1be16e07fc",
   "metadata": {},
   "outputs": [
    {
     "data": {
      "text/plain": [
       "<AxesSubplot:>"
      ]
     },
     "execution_count": 31,
     "metadata": {},
     "output_type": "execute_result"
    },
    {
     "data": {
      "image/png": "[encoded data removed]",
      "text/plain": [
       "<Figure size 432x288 with 1 Axes>"
      ]
     },
     "metadata": {
      "needs_background": "light"
     },
     "output_type": "display_data"
    }
   ],
   "source": [
    "buy_sessions['session_month'].value_counts().sort_index().plot.bar()"
   ]
  },
  {
   "cell_type": "markdown",
   "id": "cfec4478-904c-4b01-b008-06a328bb6ca2",
   "metadata": {
    "jp-MarkdownHeadingCollapsed": true,
    "tags": []
   },
   "source": [
    "#### Number of all sessions per week"
   ]
  },
  {
   "cell_type": "code",
   "execution_count": 32,
   "id": "d45a1bb6-9642-496e-8d70-c23baf8c14d0",
   "metadata": {},
   "outputs": [
    {
     "name": "stderr",
     "output_type": "stream",
     "text": [
      "/tmp/ipykernel_25299/3713943274.py:1: FutureWarning: Series.dt.weekofyear and Series.dt.week have been deprecated.  Please use Series.dt.isocalendar().week instead.\n",
      "  sessions['session_week'] = sessions['timestamp'].dropna().dt.week\n"
     ]
    }
   ],
   "source": [
    "sessions['session_week'] = sessions['timestamp'].dropna().dt.week"
   ]
  },
  {
   "cell_type": "code",
   "execution_count": 33,
   "id": "c25b1c4f-eb17-472f-9d23-c08edf125613",
   "metadata": {},
   "outputs": [
    {
     "data": {
      "text/plain": [
       "<AxesSubplot:>"
      ]
     },
     "execution_count": 33,
     "metadata": {},
     "output_type": "execute_result"
    },
    {
     "data": {
      "image/png": "[encoded data removed]",
      "text/plain": [
       "<Figure size 432x288 with 1 Axes>"
      ]
     },
     "metadata": {
      "needs_background": "light"
     },
     "output_type": "display_data"
    }
   ],
   "source": [
    "sessions['session_week'].value_counts().sort_index().plot.bar()"
   ]
  },
  {
   "cell_type": "markdown",
   "id": "985ca477-9160-4f05-b317-eb5f47169de8",
   "metadata": {
    "jp-MarkdownHeadingCollapsed": true,
    "tags": []
   },
   "source": [
    "#### Number of buy_product sessions per week"
   ]
  },
  {
   "cell_type": "code",
   "execution_count": 34,
   "id": "0744e440-12b0-4ac5-b655-f2640bf4febc",
   "metadata": {},
   "outputs": [
    {
     "name": "stderr",
     "output_type": "stream",
     "text": [
      "/tmp/ipykernel_25299/280403240.py:1: FutureWarning: Series.dt.weekofyear and Series.dt.week have been deprecated.  Please use Series.dt.isocalendar().week instead.\n",
      "  buy_sessions['session_week'] = buy_sessions['timestamp'].dropna().dt.week\n",
      "/tmp/ipykernel_25299/280403240.py:1: SettingWithCopyWarning: \n",
      "A value is trying to be set on a copy of a slice from a DataFrame.\n",
      "Try using .loc[row_indexer,col_indexer] = value instead\n",
      "\n",
      "See the caveats in the documentation: https://pandas.pydata.org/pandas-docs/stable/user_guide/indexing.html#returning-a-view-versus-a-copy\n",
      "  buy_sessions['session_week'] = buy_sessions['timestamp'].dropna().dt.week\n"
     ]
    }
   ],
   "source": [
    "buy_sessions['session_week'] = buy_sessions['timestamp'].dropna().dt.week"
   ]
  },
  {
   "cell_type": "code",
   "execution_count": 35,
   "id": "f04d8125-b30d-416e-a7ba-1f932fe24c29",
   "metadata": {},
   "outputs": [
    {
     "data": {
      "text/plain": [
       "<AxesSubplot:>"
      ]
     },
     "execution_count": 35,
     "metadata": {},
     "output_type": "execute_result"
    },
    {
     "data": {
      "image/png": "[encoded data removed]",
      "text/plain": [
       "<Figure size 432x288 with 1 Axes>"
      ]
     },
     "metadata": {
      "needs_background": "light"
     },
     "output_type": "display_data"
    }
   ],
   "source": [
    "buy_sessions['session_week'].value_counts().sort_index().plot.bar()"
   ]
  },
  {
   "cell_type": "markdown",
   "id": "f2bfcbd5-d6e9-4b70-8273-1a1ccd7edd40",
   "metadata": {
    "jp-MarkdownHeadingCollapsed": true,
    "tags": []
   },
   "source": [
    "#### Number of all sessions per weekday"
   ]
  },
  {
   "cell_type": "code",
   "execution_count": 36,
   "id": "197749a1-9b9b-4dfd-9e06-640f5efa5f4b",
   "metadata": {},
   "outputs": [],
   "source": [
    "sessions['session_weekday'] = sessions['timestamp'].dropna().dt.weekday"
   ]
  },
  {
   "cell_type": "code",
   "execution_count": 37,
   "id": "98d5d4ab-948b-40eb-b5c8-4e631e931650",
   "metadata": {},
   "outputs": [
    {
     "data": {
      "text/plain": [
       "<AxesSubplot:>"
      ]
     },
     "execution_count": 37,
     "metadata": {},
     "output_type": "execute_result"
    },
    {
     "data": {
      "image/png": "[encoded data removed]",
      "text/plain": [
       "<Figure size 432x288 with 1 Axes>"
      ]
     },
     "metadata": {
      "needs_background": "light"
     },
     "output_type": "display_data"
    }
   ],
   "source": [
    "sessions['session_weekday'].value_counts().sort_index().plot.bar()"
   ]
  },
  {
   "cell_type": "markdown",
   "id": "c69f6fb5-3f0b-4d8f-9fd5-9e4d32c7af19",
   "metadata": {
    "tags": []
   },
   "source": [
    "#### Number of buy_product sessions per weekday"
   ]
  },
  {
   "cell_type": "code",
   "execution_count": 38,
   "id": "60a16e8c-a656-4ea5-a17f-6f3623314c53",
   "metadata": {},
   "outputs": [
    {
     "name": "stderr",
     "output_type": "stream",
     "text": [
      "/tmp/ipykernel_25299/2681664498.py:1: SettingWithCopyWarning: \n",
      "A value is trying to be set on a copy of a slice from a DataFrame.\n",
      "Try using .loc[row_indexer,col_indexer] = value instead\n",
      "\n",
      "See the caveats in the documentation: https://pandas.pydata.org/pandas-docs/stable/user_guide/indexing.html#returning-a-view-versus-a-copy\n",
      "  buy_sessions['session_weekday'] = buy_sessions['timestamp'].dropna().dt.weekday\n"
     ]
    }
   ],
   "source": [
    "buy_sessions['session_weekday'] = buy_sessions['timestamp'].dropna().dt.weekday"
   ]
  },
  {
   "cell_type": "code",
   "execution_count": 39,
   "id": "45349952-385a-43a2-82bc-40a64fd51666",
   "metadata": {},
   "outputs": [
    {
     "data": {
      "text/plain": [
       "<AxesSubplot:>"
      ]
     },
     "execution_count": 39,
     "metadata": {},
     "output_type": "execute_result"
    },
    {
     "data": {
      "image/png": "[encoded data removed]",
      "text/plain": [
       "<Figure size 432x288 with 1 Axes>"
      ]
     },
     "metadata": {
      "needs_background": "light"
     },
     "output_type": "display_data"
    }
   ],
   "source": [
    "buy_sessions['session_weekday'].value_counts().sort_index().plot.bar()"
   ]
  },
  {
   "cell_type": "markdown",
   "id": "1ade1b78-b09b-48c9-b621-fe78b4f2acdf",
   "metadata": {},
   "source": [
    "### TO-DO: How many clients had 1 session, how many had 2 sessions, and so on..."
   ]
  },
  {
   "cell_type": "code",
   "execution_count": null,
   "id": "4d90dfa4-a4ad-495b-8de4-b87ff2e0b35d",
   "metadata": {},
   "outputs": [],
   "source": []
  },
  {
   "cell_type": "markdown",
   "id": "0c915d72-c999-47e3-8e1b-d49bee6c0e5e",
   "metadata": {},
   "source": [
    "### TO-DO: Discount stats"
   ]
  },
  {
   "cell_type": "markdown",
   "id": "067689c8-b9ef-4881-9cd3-bb5d70453ba1",
   "metadata": {},
   "source": [
    "### TO-DO: How many times each product was bought (each week) - line chart"
   ]
  },
  {
   "cell_type": "markdown",
   "id": "c6e33f42-586a-4b71-9193-17389e9ddb5e",
   "metadata": {},
   "source": [
    "### TO-DO: How many times category was bought (overall) - line chart"
   ]
  },
  {
   "cell_type": "markdown",
   "id": "26d01bb5-590d-4ec8-9736-3684cd84b9e2",
   "metadata": {},
   "source": [
    "### TO-DO: How many times category was bought (each week) - line chart"
   ]
  },
  {
   "cell_type": "code",
   "execution_count": null,
   "id": "af6f1a79-01ae-4798-88fa-e888ae670aa2",
   "metadata": {},
   "outputs": [],
   "source": []
  },
  {
   "cell_type": "markdown",
   "id": "ad8a66d2",
   "metadata": {
    "jp-MarkdownHeadingCollapsed": true,
    "pycharm": {
     "name": "#%% md\n"
    },
    "tags": []
   },
   "source": [
    "## Analiza jakości danych w zbiorze \"users\""
   ]
  },
  {
   "cell_type": "code",
   "execution_count": 40,
   "id": "02e2468e-9a75-4cc4-9165-855117649b48",
   "metadata": {},
   "outputs": [
    {
     "name": "stdout",
     "output_type": "stream",
     "text": [
      "<class 'pandas.core.frame.DataFrame'>\n",
      "RangeIndex: 300 entries, 0 to 299\n",
      "Data columns (total 4 columns):\n",
      " #   Column   Non-Null Count  Dtype \n",
      "---  ------   --------------  ----- \n",
      " 0   user_id  300 non-null    int64 \n",
      " 1   name     300 non-null    object\n",
      " 2   city     300 non-null    object\n",
      " 3   street   300 non-null    object\n",
      "dtypes: int64(1), object(3)\n",
      "memory usage: 9.5+ KB\n"
     ]
    }
   ],
   "source": [
    "users.info()"
   ]
  },
  {
   "cell_type": "code",
   "execution_count": 41,
   "id": "636ab7e3-187b-4fa5-bb83-79f9e62d858c",
   "metadata": {},
   "outputs": [
    {
     "data": {
      "text/html": [
       "<div>\n",
       "<style scoped>\n",
       "    .dataframe tbody tr th:only-of-type {\n",
       "        vertical-align: middle;\n",
       "    }\n",
       "\n",
       "    .dataframe tbody tr th {\n",
       "        vertical-align: top;\n",
       "    }\n",
       "\n",
       "    .dataframe thead th {\n",
       "        text-align: right;\n",
       "    }\n",
       "</style>\n",
       "<table border=\"1\" class=\"dataframe\">\n",
       "  <thead>\n",
       "    <tr style=\"text-align: right;\">\n",
       "      <th></th>\n",
       "      <th>user_id</th>\n",
       "      <th>name</th>\n",
       "      <th>city</th>\n",
       "      <th>street</th>\n",
       "    </tr>\n",
       "  </thead>\n",
       "  <tbody>\n",
       "    <tr>\n",
       "      <th>0</th>\n",
       "      <td>102</td>\n",
       "      <td>Patryk Wincenciak</td>\n",
       "      <td>Szczecin</td>\n",
       "      <td>aleja Górska 389</td>\n",
       "    </tr>\n",
       "    <tr>\n",
       "      <th>1</th>\n",
       "      <td>103</td>\n",
       "      <td>Filip Młocek</td>\n",
       "      <td>Wrocław</td>\n",
       "      <td>ul. Lelewela 88</td>\n",
       "    </tr>\n",
       "    <tr>\n",
       "      <th>2</th>\n",
       "      <td>104</td>\n",
       "      <td>Maurycy Pasieczna</td>\n",
       "      <td>Wrocław</td>\n",
       "      <td>aleja Konwaliowa 78</td>\n",
       "    </tr>\n",
       "    <tr>\n",
       "      <th>3</th>\n",
       "      <td>105</td>\n",
       "      <td>Eliza Gieroń</td>\n",
       "      <td>Radom</td>\n",
       "      <td>ul. Kossaka 12</td>\n",
       "    </tr>\n",
       "    <tr>\n",
       "      <th>4</th>\n",
       "      <td>106</td>\n",
       "      <td>Łukasz Ciepluch</td>\n",
       "      <td>Radom</td>\n",
       "      <td>aleja Środkowa 72/57</td>\n",
       "    </tr>\n",
       "    <tr>\n",
       "      <th>...</th>\n",
       "      <td>...</td>\n",
       "      <td>...</td>\n",
       "      <td>...</td>\n",
       "      <td>...</td>\n",
       "    </tr>\n",
       "    <tr>\n",
       "      <th>295</th>\n",
       "      <td>397</td>\n",
       "      <td>Sylwia Wąsiewicz</td>\n",
       "      <td>Wrocław</td>\n",
       "      <td>plac Kolejowa 29/17</td>\n",
       "    </tr>\n",
       "    <tr>\n",
       "      <th>296</th>\n",
       "      <td>398</td>\n",
       "      <td>Fryderyk Trawka</td>\n",
       "      <td>Radom</td>\n",
       "      <td>ulica Kossaka 98/14</td>\n",
       "    </tr>\n",
       "    <tr>\n",
       "      <th>297</th>\n",
       "      <td>399</td>\n",
       "      <td>Marika Ryfa</td>\n",
       "      <td>Warszawa</td>\n",
       "      <td>plac Jagodowa 87</td>\n",
       "    </tr>\n",
       "    <tr>\n",
       "      <th>298</th>\n",
       "      <td>400</td>\n",
       "      <td>Adam Łuczkiewicz</td>\n",
       "      <td>Wrocław</td>\n",
       "      <td>ulica Jaskółcza 59</td>\n",
       "    </tr>\n",
       "    <tr>\n",
       "      <th>299</th>\n",
       "      <td>401</td>\n",
       "      <td>Paweł Nóżka</td>\n",
       "      <td>Kraków</td>\n",
       "      <td>pl. Perłowa 96/88</td>\n",
       "    </tr>\n",
       "  </tbody>\n",
       "</table>\n",
       "<p>300 rows × 4 columns</p>\n",
       "</div>"
      ],
      "text/plain": [
       "     user_id               name      city                street\n",
       "0        102  Patryk Wincenciak  Szczecin      aleja Górska 389\n",
       "1        103       Filip Młocek   Wrocław       ul. Lelewela 88\n",
       "2        104  Maurycy Pasieczna   Wrocław   aleja Konwaliowa 78\n",
       "3        105       Eliza Gieroń     Radom        ul. Kossaka 12\n",
       "4        106    Łukasz Ciepluch     Radom  aleja Środkowa 72/57\n",
       "..       ...                ...       ...                   ...\n",
       "295      397   Sylwia Wąsiewicz   Wrocław   plac Kolejowa 29/17\n",
       "296      398    Fryderyk Trawka     Radom   ulica Kossaka 98/14\n",
       "297      399        Marika Ryfa  Warszawa      plac Jagodowa 87\n",
       "298      400   Adam Łuczkiewicz   Wrocław    ulica Jaskółcza 59\n",
       "299      401        Paweł Nóżka    Kraków     pl. Perłowa 96/88\n",
       "\n",
       "[300 rows x 4 columns]"
      ]
     },
     "execution_count": 41,
     "metadata": {},
     "output_type": "execute_result"
    }
   ],
   "source": [
    "users"
   ]
  },
  {
   "cell_type": "code",
   "execution_count": 42,
   "id": "633134f7-df23-47be-951e-a40d4cb4808e",
   "metadata": {},
   "outputs": [
    {
     "data": {
      "text/plain": [
       "Gdynia      51\n",
       "Radom       48\n",
       "Szczecin    46\n",
       "Wrocław     45\n",
       "Poznań      40\n",
       "Kraków      39\n",
       "Warszawa    31\n",
       "Name: city, dtype: int64"
      ]
     },
     "execution_count": 42,
     "metadata": {},
     "output_type": "execute_result"
    }
   ],
   "source": [
    "users['city'].value_counts()"
   ]
  },
  {
   "cell_type": "code",
   "execution_count": null,
   "id": "ebc77da1-4206-4e7d-ac54-83784b0b436c",
   "metadata": {},
   "outputs": [],
   "source": []
  },
  {
   "cell_type": "markdown",
   "id": "3e8f2ec6-85a7-4301-8414-b70a59453dda",
   "metadata": {
    "tags": []
   },
   "source": [
    "## Check if there are purchases in deliveries which are not in sessions and vice verca"
   ]
  },
  {
   "cell_type": "code",
   "execution_count": 43,
   "id": "41809184-6e49-4156-91b9-acea1ba4053d",
   "metadata": {},
   "outputs": [
    {
     "data": {
      "text/html": [
       "<div>\n",
       "<style scoped>\n",
       "    .dataframe tbody tr th:only-of-type {\n",
       "        vertical-align: middle;\n",
       "    }\n",
       "\n",
       "    .dataframe tbody tr th {\n",
       "        vertical-align: top;\n",
       "    }\n",
       "\n",
       "    .dataframe thead th {\n",
       "        text-align: right;\n",
       "    }\n",
       "</style>\n",
       "<table border=\"1\" class=\"dataframe\">\n",
       "  <thead>\n",
       "    <tr style=\"text-align: right;\">\n",
       "      <th></th>\n",
       "      <th>purchase_id</th>\n",
       "      <th>purchase_timestamp</th>\n",
       "      <th>delivery_timestamp</th>\n",
       "      <th>delivery_company</th>\n",
       "      <th>delivery_month</th>\n",
       "    </tr>\n",
       "  </thead>\n",
       "  <tbody>\n",
       "  </tbody>\n",
       "</table>\n",
       "</div>"
      ],
      "text/plain": [
       "Empty DataFrame\n",
       "Columns: [purchase_id, purchase_timestamp, delivery_timestamp, delivery_company, delivery_month]\n",
       "Index: []"
      ]
     },
     "execution_count": 43,
     "metadata": {},
     "output_type": "execute_result"
    }
   ],
   "source": [
    "deliveries[~deliveries['purchase_id'].isin(sessions['purchase_id'])]"
   ]
  },
  {
   "cell_type": "code",
   "execution_count": 44,
   "id": "6f7b8178-a488-413e-b3b8-bad2a9b794d9",
   "metadata": {},
   "outputs": [
    {
     "data": {
      "text/plain": [
       "VIEW_PRODUCT    771189\n",
       "Name: event_type, dtype: int64"
      ]
     },
     "execution_count": 44,
     "metadata": {},
     "output_type": "execute_result"
    }
   ],
   "source": [
    "sessions[~sessions['purchase_id'].isin(deliveries['purchase_id'])]['event_type'].value_counts()"
   ]
  }
 ],
 "metadata": {
  "kernelspec": {
   "display_name": "Python 3 (ipykernel)",
   "language": "python",
   "name": "python3"
  },
  "language_info": {
   "codemirror_mode": {
    "name": "ipython",
    "version": 3
   },
   "file_extension": ".py",
   "mimetype": "text/x-python",
   "name": "python",
   "nbconvert_exporter": "python",
   "pygments_lexer": "ipython3",
   "version": "3.10.1"
  }
 },
 "nbformat": 4,
 "nbformat_minor": 5
}
