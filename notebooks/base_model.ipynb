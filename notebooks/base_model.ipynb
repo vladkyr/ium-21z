{
 "cells": [
  {
   "cell_type": "markdown",
   "id": "b7a606bf-657b-44c8-9cdc-2a5174585cfc",
   "metadata": {},
   "source": [
    "# Base model \n",
    "\n",
    "It is created by calculating average number of items sold per week for each product.\n",
    "Model takes product_id and week for which to make a prediction as an input and returns prediction (average calculated from train set)."
   ]
  },
  {
   "cell_type": "code",
   "execution_count": 39,
   "id": "6f9f0433-78bc-430b-8e03-aa5f1519acf4",
   "metadata": {},
   "outputs": [],
   "source": [
    "import pandas as pd\n",
    "import matplotlib.pyplot as plt\n",
    "import pickle\n",
    "\n",
    "plt.style.use('fivethirtyeight')\n",
    "%matplotlib inline"
   ]
  },
  {
   "cell_type": "code",
   "execution_count": 40,
   "id": "c00c83b0-d160-4b8d-bcd9-d60740b36994",
   "metadata": {},
   "outputs": [],
   "source": [
    "save_plots = False\n",
    "save_model = False"
   ]
  },
  {
   "cell_type": "code",
   "execution_count": 41,
   "id": "b8f21c50-d0f2-4111-a009-f883a4601505",
   "metadata": {},
   "outputs": [],
   "source": [
    "sessions = pd.read_json(\"../data/raw/second/sessions.jsonl\", lines=True)\n",
    "# bierzemy pod uwagę tylko te sesje, które zakończły się zakupem\n",
    "buy_sessions = sessions[sessions['event_type'] == 'BUY_PRODUCT'].copy()\n",
    "# data z timestampu w celu późniejszego grupowania\n",
    "buy_sessions['date']=buy_sessions['timestamp'].dt.date\n",
    "# te wartości i tak by znikły przy grupowaniu\n",
    "buy_sessions.drop(columns=['user_id', 'event_type', 'offered_discount', 'session_id', 'timestamp'], inplace=True)\n",
    "# grupujemy po dacie i ID produktu oraz dodajemy 0 dla produktów które nie były sprzedane danego dnia\n",
    "df = buy_sessions.groupby(by=['date', 'product_id']).count().unstack(fill_value=0).stack().rename(columns={'purchase_id': 'amount'}).reset_index()\n",
    "# nie ma to w sumie wielkiego znaczenia, ale lepiej żeby było to stringiem - ID nie musi być liczbą\n",
    "df['product_id'] = df['product_id'].astype(str)"
   ]
  },
  {
   "cell_type": "code",
   "execution_count": 42,
   "id": "c837a3c7-97dd-476f-bc7b-20f56ce782d2",
   "metadata": {},
   "outputs": [],
   "source": [
    "# co prawda przedtem robiliśmy w drugą stronę, ale teraz musimy to zamienić z powrotem na timestamp żeby pd.Grouper działało\n",
    "df['date'] = pd.to_datetime(df['date'])\n",
    "# grupujemy w tygodnie\n",
    "df=df.groupby(by=[pd.Grouper(key='date', freq='W'), pd.Grouper(key='product_id')]).sum()"
   ]
  },
  {
   "cell_type": "code",
   "execution_count": 43,
   "id": "8da94fa7-f423-405c-94c0-b097105f23b4",
   "metadata": {},
   "outputs": [],
   "source": [
    "df.reset_index('product_id', inplace=True)"
   ]
  },
  {
   "cell_type": "code",
   "execution_count": 44,
   "id": "3cf1b87d-aff1-4513-977f-4115ed56d5cb",
   "metadata": {},
   "outputs": [],
   "source": [
    "# tworzymy zbiór treningowy i testowy\n",
    "split_date = pd.to_datetime('2021-09-01')\n",
    "train = df.loc[df.index <= split_date].copy()\n",
    "test = df.loc[df.index > split_date].copy()"
   ]
  },
  {
   "cell_type": "code",
   "execution_count": 45,
   "id": "5e4e14c5-fa97-4da0-b518-5324677183a5",
   "metadata": {},
   "outputs": [],
   "source": [
    "import sys\n",
    "sys.path.append('../')"
   ]
  },
  {
   "cell_type": "code",
   "execution_count": 46,
   "id": "aa97f2dc-f2e0-4f5e-8418-f43a65717bc7",
   "metadata": {},
   "outputs": [],
   "source": [
    "from sales_forecasting.models.base_model import BaseModel\n",
    "# tworzymy model\n",
    "model = BaseModel(train)"
   ]
  },
  {
   "cell_type": "code",
   "execution_count": 47,
   "id": "37edba18-498c-4cf9-ba14-c71abd6e223e",
   "metadata": {},
   "outputs": [],
   "source": [
    "assert model.predict('1002') == 2\n",
    "assert model.predict('1006') == 1\n",
    "assert model.predict('1314') == 0"
   ]
  },
  {
   "cell_type": "code",
   "execution_count": 48,
   "id": "0acdb20c-92d3-4997-bb0a-4d389871e5a0",
   "metadata": {},
   "outputs": [
    {
     "data": {
      "text/html": [
       "<div>\n",
       "<style scoped>\n",
       "    .dataframe tbody tr th:only-of-type {\n",
       "        vertical-align: middle;\n",
       "    }\n",
       "\n",
       "    .dataframe tbody tr th {\n",
       "        vertical-align: top;\n",
       "    }\n",
       "\n",
       "    .dataframe thead th {\n",
       "        text-align: right;\n",
       "    }\n",
       "</style>\n",
       "<table border=\"1\" class=\"dataframe\">\n",
       "  <thead>\n",
       "    <tr style=\"text-align: right;\">\n",
       "      <th></th>\n",
       "      <th>product_id</th>\n",
       "      <th>amount</th>\n",
       "      <th>amount_prediction</th>\n",
       "    </tr>\n",
       "    <tr>\n",
       "      <th>date</th>\n",
       "      <th></th>\n",
       "      <th></th>\n",
       "      <th></th>\n",
       "    </tr>\n",
       "  </thead>\n",
       "  <tbody>\n",
       "    <tr>\n",
       "      <th>2021-09-05</th>\n",
       "      <td>1002</td>\n",
       "      <td>0</td>\n",
       "      <td>2</td>\n",
       "    </tr>\n",
       "    <tr>\n",
       "      <th>2021-09-05</th>\n",
       "      <td>1003</td>\n",
       "      <td>0</td>\n",
       "      <td>2</td>\n",
       "    </tr>\n",
       "    <tr>\n",
       "      <th>2021-09-05</th>\n",
       "      <td>1004</td>\n",
       "      <td>0</td>\n",
       "      <td>2</td>\n",
       "    </tr>\n",
       "    <tr>\n",
       "      <th>2021-09-05</th>\n",
       "      <td>1005</td>\n",
       "      <td>0</td>\n",
       "      <td>2</td>\n",
       "    </tr>\n",
       "    <tr>\n",
       "      <th>2021-09-05</th>\n",
       "      <td>1006</td>\n",
       "      <td>0</td>\n",
       "      <td>1</td>\n",
       "    </tr>\n",
       "    <tr>\n",
       "      <th>...</th>\n",
       "      <td>...</td>\n",
       "      <td>...</td>\n",
       "      <td>...</td>\n",
       "    </tr>\n",
       "    <tr>\n",
       "      <th>2021-12-26</th>\n",
       "      <td>1310</td>\n",
       "      <td>0</td>\n",
       "      <td>0</td>\n",
       "    </tr>\n",
       "    <tr>\n",
       "      <th>2021-12-26</th>\n",
       "      <td>1311</td>\n",
       "      <td>0</td>\n",
       "      <td>0</td>\n",
       "    </tr>\n",
       "    <tr>\n",
       "      <th>2021-12-26</th>\n",
       "      <td>1312</td>\n",
       "      <td>0</td>\n",
       "      <td>0</td>\n",
       "    </tr>\n",
       "    <tr>\n",
       "      <th>2021-12-26</th>\n",
       "      <td>1313</td>\n",
       "      <td>0</td>\n",
       "      <td>0</td>\n",
       "    </tr>\n",
       "    <tr>\n",
       "      <th>2021-12-26</th>\n",
       "      <td>1314</td>\n",
       "      <td>0</td>\n",
       "      <td>0</td>\n",
       "    </tr>\n",
       "  </tbody>\n",
       "</table>\n",
       "<p>3349 rows × 3 columns</p>\n",
       "</div>"
      ],
      "text/plain": [
       "           product_id  amount  amount_prediction\n",
       "date                                            \n",
       "2021-09-05       1002       0                  2\n",
       "2021-09-05       1003       0                  2\n",
       "2021-09-05       1004       0                  2\n",
       "2021-09-05       1005       0                  2\n",
       "2021-09-05       1006       0                  1\n",
       "...               ...     ...                ...\n",
       "2021-12-26       1310       0                  0\n",
       "2021-12-26       1311       0                  0\n",
       "2021-12-26       1312       0                  0\n",
       "2021-12-26       1313       0                  0\n",
       "2021-12-26       1314       0                  0\n",
       "\n",
       "[3349 rows x 3 columns]"
      ]
     },
     "execution_count": 48,
     "metadata": {},
     "output_type": "execute_result"
    }
   ],
   "source": [
    "test['amount_prediction'] = test['product_id'].apply(lambda x: model.predict(x))\n",
    "test"
   ]
  },
  {
   "cell_type": "code",
   "execution_count": 49,
   "id": "742311b3-e5a2-40bc-8644-80842eefd77a",
   "metadata": {},
   "outputs": [
    {
     "data": {
      "text/plain": [
       "3349"
      ]
     },
     "execution_count": 49,
     "metadata": {},
     "output_type": "execute_result"
    }
   ],
   "source": [
    "test.shape[0]"
   ]
  },
  {
   "cell_type": "code",
   "execution_count": 50,
   "id": "c6a8afc0-2397-4698-97d3-3602fbfe6ddf",
   "metadata": {},
   "outputs": [
    {
     "data": {
      "text/html": [
       "<div>\n",
       "<style scoped>\n",
       "    .dataframe tbody tr th:only-of-type {\n",
       "        vertical-align: middle;\n",
       "    }\n",
       "\n",
       "    .dataframe tbody tr th {\n",
       "        vertical-align: top;\n",
       "    }\n",
       "\n",
       "    .dataframe thead th {\n",
       "        text-align: right;\n",
       "    }\n",
       "</style>\n",
       "<table border=\"1\" class=\"dataframe\">\n",
       "  <thead>\n",
       "    <tr style=\"text-align: right;\">\n",
       "      <th></th>\n",
       "      <th>product_id</th>\n",
       "      <th>amount</th>\n",
       "      <th>amount_prediction</th>\n",
       "    </tr>\n",
       "    <tr>\n",
       "      <th>date</th>\n",
       "      <th></th>\n",
       "      <th></th>\n",
       "      <th></th>\n",
       "    </tr>\n",
       "  </thead>\n",
       "  <tbody>\n",
       "    <tr>\n",
       "      <th>2021-09-05</th>\n",
       "      <td>1002</td>\n",
       "      <td>0</td>\n",
       "      <td>2</td>\n",
       "    </tr>\n",
       "    <tr>\n",
       "      <th>2021-09-05</th>\n",
       "      <td>1003</td>\n",
       "      <td>0</td>\n",
       "      <td>2</td>\n",
       "    </tr>\n",
       "    <tr>\n",
       "      <th>2021-09-05</th>\n",
       "      <td>1004</td>\n",
       "      <td>0</td>\n",
       "      <td>2</td>\n",
       "    </tr>\n",
       "    <tr>\n",
       "      <th>2021-09-05</th>\n",
       "      <td>1005</td>\n",
       "      <td>0</td>\n",
       "      <td>2</td>\n",
       "    </tr>\n",
       "    <tr>\n",
       "      <th>2021-09-05</th>\n",
       "      <td>1006</td>\n",
       "      <td>0</td>\n",
       "      <td>1</td>\n",
       "    </tr>\n",
       "    <tr>\n",
       "      <th>...</th>\n",
       "      <td>...</td>\n",
       "      <td>...</td>\n",
       "      <td>...</td>\n",
       "    </tr>\n",
       "    <tr>\n",
       "      <th>2021-12-26</th>\n",
       "      <td>1310</td>\n",
       "      <td>0</td>\n",
       "      <td>0</td>\n",
       "    </tr>\n",
       "    <tr>\n",
       "      <th>2021-12-26</th>\n",
       "      <td>1311</td>\n",
       "      <td>0</td>\n",
       "      <td>0</td>\n",
       "    </tr>\n",
       "    <tr>\n",
       "      <th>2021-12-26</th>\n",
       "      <td>1312</td>\n",
       "      <td>0</td>\n",
       "      <td>0</td>\n",
       "    </tr>\n",
       "    <tr>\n",
       "      <th>2021-12-26</th>\n",
       "      <td>1313</td>\n",
       "      <td>0</td>\n",
       "      <td>0</td>\n",
       "    </tr>\n",
       "    <tr>\n",
       "      <th>2021-12-26</th>\n",
       "      <td>1314</td>\n",
       "      <td>0</td>\n",
       "      <td>0</td>\n",
       "    </tr>\n",
       "  </tbody>\n",
       "</table>\n",
       "<p>3349 rows × 3 columns</p>\n",
       "</div>"
      ],
      "text/plain": [
       "           product_id  amount  amount_prediction\n",
       "date                                            \n",
       "2021-09-05       1002       0                  2\n",
       "2021-09-05       1003       0                  2\n",
       "2021-09-05       1004       0                  2\n",
       "2021-09-05       1005       0                  2\n",
       "2021-09-05       1006       0                  1\n",
       "...               ...     ...                ...\n",
       "2021-12-26       1310       0                  0\n",
       "2021-12-26       1311       0                  0\n",
       "2021-12-26       1312       0                  0\n",
       "2021-12-26       1313       0                  0\n",
       "2021-12-26       1314       0                  0\n",
       "\n",
       "[3349 rows x 3 columns]"
      ]
     },
     "execution_count": 50,
     "metadata": {},
     "output_type": "execute_result"
    }
   ],
   "source": [
    "test"
   ]
  },
  {
   "cell_type": "code",
   "execution_count": 51,
   "id": "07abd33f-2cab-4583-9d7b-14fb58f632aa",
   "metadata": {},
   "outputs": [
    {
     "name": "stdout",
     "output_type": "stream",
     "text": [
      "bias: 0.11466109286354136\n"
     ]
    }
   ],
   "source": [
    "test['difference'] = test.apply(lambda x: x['amount'] - x['amount_prediction'], axis=1)\n",
    "bias = test['difference'].mean()\n",
    "print('bias:', bias)"
   ]
  },
  {
   "cell_type": "code",
   "execution_count": 52,
   "id": "460ec7cd-59da-42cf-8296-c952c6aaf6aa",
   "metadata": {},
   "outputs": [
    {
     "name": "stdout",
     "output_type": "stream",
     "text": [
      "RMSE: 2.6559454030299237\n"
     ]
    }
   ],
   "source": [
    "from sklearn.metrics import mean_squared_error as MSE\n",
    "# traktujemy RMSE jako miernik jakości różnych wersji modelu\n",
    "rmse=MSE(test['amount'], test['amount_prediction'],squared=False)\n",
    "print('RMSE:', rmse)"
   ]
  },
  {
   "cell_type": "code",
   "execution_count": 53,
   "id": "6cf16a61-3a5c-488b-86f4-e526fa27343f",
   "metadata": {},
   "outputs": [
    {
     "name": "stdout",
     "output_type": "stream",
     "text": [
      "MAE: 0.8521946849805913\n"
     ]
    }
   ],
   "source": [
    "from sklearn.metrics import mean_absolute_error as MAE\n",
    "mae = MAE(test['amount'], test['amount_prediction'])\n",
    "print('MAE:', mae)"
   ]
  },
  {
   "cell_type": "code",
   "execution_count": 54,
   "id": "2b56be4c-9bf8-4bf0-bcab-48e0693358d8",
   "metadata": {},
   "outputs": [],
   "source": [
    "# # zwykły MAPE zwraca bardzo duże wartości, ponieważ niektóre wartości są zerami w test['amount']\n",
    "# import numpy as np\n",
    "# # SMAPE - Symmetrical Mean Absolute Percentage Error\n",
    "# def SMAPE(act,forc):\n",
    "#     return 100/len(act) * np.sum(2 * np.abs(forc - act) / (np.abs(act) + np.abs(forc)))\n",
    "\n",
    "# smape = SMAPE(test['amount'], test['amount_prediction'])\n",
    "# smape"
   ]
  },
  {
   "cell_type": "code",
   "execution_count": 55,
   "id": "3e09ea6d-34f3-442a-b846-d1949b5e490b",
   "metadata": {},
   "outputs": [],
   "source": [
    "if save_model:\n",
    "    file_name = \"base_model.pkl\"\n",
    "\n",
    "    # save\n",
    "    pickle.dump(model, open(f\"../models/{file_name}\", \"wb\"))\n",
    "\n",
    "    # load\n",
    "    base_model_loaded = pickle.load(open(f\"../models/{file_name}\", \"rb\"))\n",
    "    print(base_model_loaded)"
   ]
  },
  {
   "cell_type": "code",
   "execution_count": 56,
   "id": "f303b3b5-5079-4b47-a3a3-699202bc0a04",
   "metadata": {},
   "outputs": [
    {
     "data": {
      "image/png": "[encoded data removed]",
      "text/plain": [
       "<Figure size 1080x360 with 1 Axes>"
      ]
     },
     "metadata": {
      "needs_background": "light"
     },
     "output_type": "display_data"
    }
   ],
   "source": [
    "df_all = pd.concat([train, test], sort=False)\n",
    "_ = df_all[['amount','amount_prediction']].plot(figsize=(15, 5), title='Plot with predictions by base model')\n",
    "if save_plots:\n",
    "    plt.savefig('base_model_plot.png')"
   ]
  },
  {
   "cell_type": "code",
   "execution_count": null,
   "id": "4d14335b-190d-4781-a668-70729f23d6a9",
   "metadata": {},
   "outputs": [],
   "source": []
  }
 ],
 "metadata": {
  "kernelspec": {
   "display_name": "Python 3 (ipykernel)",
   "language": "python",
   "name": "python3"
  },
  "language_info": {
   "codemirror_mode": {
    "name": "ipython",
    "version": 3
   },
   "file_extension": ".py",
   "mimetype": "text/x-python",
   "name": "python",
   "nbconvert_exporter": "python",
   "pygments_lexer": "ipython3",
   "version": "3.10.1"
  }
 },
 "nbformat": 4,
 "nbformat_minor": 5
}
