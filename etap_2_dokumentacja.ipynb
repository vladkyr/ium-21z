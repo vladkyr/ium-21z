{
 "cells": [
  {
   "cell_type": "markdown",
   "id": "84f66d68",
   "metadata": {},
   "source": [
    "# IUM Projekt - etap 2"
   ]
  },
  {
   "cell_type": "markdown",
   "id": "4941fb76",
   "metadata": {},
   "source": [
    "Vladyslav Kyryk, Michał Łątkowski"
   ]
  },
  {
   "cell_type": "markdown",
   "id": "544e5b7c",
   "metadata": {},
   "source": [
    "# Zadanie 8"
   ]
  },
  {
   "cell_type": "markdown",
   "id": "539ef473",
   "metadata": {},
   "source": [
    "Mamy problemy odpowiednim zapełnianiem półek magazynowych. Nigdy nie wiadomo, co tak naprawdę będzie potrzebne w najbliższym tygodniu, co powinniśmy zamówić. Może da się coś z tym zrobić?”"
   ]
  },
  {
   "cell_type": "markdown",
   "id": "2bb8b689",
   "metadata": {},
   "source": [
    "## Modele"
   ]
  },
  {
   "cell_type": "markdown",
   "id": "e7ebdde9",
   "metadata": {},
   "source": [
    "Aplikacja udostępnia dwa modele:\n",
    "1. Model bazowy oparty na... TODO\n",
    "2. Oparty na regresji za pomocą XGBoost model, który jest naszym modelem \"zaawansowanym\""
   ]
  },
  {
   "cell_type": "markdown",
   "id": "e5e00c4d",
   "metadata": {},
   "source": [
    "### Model "
   ]
  },
  {
   "cell_type": "markdown",
   "id": "fa6d28f1",
   "metadata": {},
   "source": [
    "#### Trening"
   ]
  },
  {
   "cell_type": "markdown",
   "id": "6db00674",
   "metadata": {},
   "source": [
    "Model można wytrenować uruchamiając notebook <em>xgboost</em>."
   ]
  },
  {
   "cell_type": "markdown",
   "id": "022ee25a",
   "metadata": {},
   "source": [
    "#### Atrybuty"
   ]
  },
  {
   "cell_type": "markdown",
   "id": "dda18d0e",
   "metadata": {},
   "source": [
    "W celu trenowania do modelu podaliśmy dane dotyczące:\n",
    "<ul>\n",
    "  <li>Ceny produktu</li>\n",
    "  <li>Kategorii produktu</li>\n",
    "  <li>Zmienne oparte na dacie (miesiąc, tydzień, rok etc.)</li>\n",
    "</ul>"
   ]
  },
  {
   "cell_type": "markdown",
   "id": "928557d5",
   "metadata": {},
   "source": [
    "Próbowaliśmy również atrybutów takich jak miesięczna średnia, ale nie zmieniało to w znaczący sposób wyników modelu (opieraliśmy się na mierze RMSE).\n",
    "Nie chcieliśmy zatem komplikować modelu atrybutami niewnoszącymi zbyt wiele"
   ]
  },
  {
   "cell_type": "markdown",
   "id": "2de17f9b",
   "metadata": {},
   "source": [
    "#### ARIMA"
   ]
  },
  {
   "cell_type": "markdown",
   "id": "dd44821c",
   "metadata": {},
   "source": [
    "Pierwotnie planowaliśmy zastosować model ARIMA albo, po późniejszej konkluzji, że ARIMA nie radzi sobie z trendami sezonowymi występującymi w danych, SARIMA. Efekty naszej pracy w tym zakresie można zobaczyć szczegółowo w notebooku <em>arima</em>"
   ]
  },
  {
   "cell_type": "markdown",
   "id": "19e8fb68",
   "metadata": {},
   "source": [
    "## Mikroserwis"
   ]
  },
  {
   "cell_type": "markdown",
   "id": "c093b223",
   "metadata": {},
   "source": [
    "Aplikacja została oparta o bibliotekę Flask. Użytkownik wykonuje zapytanie z odpowiednimi parametrami na jeden z endpointów.\n",
    "<em>/predict/basic_model</em> TODO ...\n",
    "albo\n",
    "<em>/predict/advanced_model</em> W ciele metody GET podajemy dwa parametry - <em>date</em>, w postaci np. \"2021-10-21\" oraz <em>product_id</em> w postaci np. \"1002\".\n",
    "Aplikacja wczytuje model uprzednio zapisany przez notebook treningowy, pobiera dane bazując na tym co podał użytkownik, przygotowuje te dane (tak żeby model dostał na wejściu dane w formacie, którego się \"spodziewa\"), a potem \n",
    "Aplikacja w obu przypadkach zwraca liczbę całkowitą będącą równą przewidywanej ilości sprzedanych egzemplarzy."
   ]
  },
  {
   "cell_type": "markdown",
   "id": "1a7e5025",
   "metadata": {},
   "source": [
    "#### Uruchomienie aplikacji"
   ]
  },
  {
   "cell_type": "markdown",
   "id": "053b3b60",
   "metadata": {},
   "source": [
    "Aplikację można uruchomić, wpisując (jeśli jest się w folderze z aplikacją) python3 application.py.\n",
    "\n",
    "Przykładowe zapytanie do modelu bazowego: http://127.0.0.1:5000/predict/basiC\n",
    "Przykładowa odpowiedź modelu bazowego: \n",
    "\n",
    "Przykładowe zapytanie do modelu zaawansowanego: http://127.0.0.1:5000/predict/advanced_model?date=2021-10-21&product_id=1002\n",
    "Przykładowa odpowiedź modelu zaawansowanego: 17"
   ]
  },
  {
   "cell_type": "markdown",
   "id": "87b64a8c-d82b-4a90-8493-5b2be822b15e",
   "metadata": {},
   "source": [
    "## TODO A/B TESTY"
   ]
  },
  {
   "cell_type": "code",
   "execution_count": null,
   "id": "0b672dcf-971c-4e1d-974b-142dcc5a6499",
   "metadata": {},
   "outputs": [],
   "source": []
  }
 ],
 "metadata": {
  "kernelspec": {
   "display_name": "Python 3 (ipykernel)",
   "language": "python",
   "name": "python3"
  },
  "language_info": {
   "codemirror_mode": {
    "name": "ipython",
    "version": 3
   },
   "file_extension": ".py",
   "mimetype": "text/x-python",
   "name": "python",
   "nbconvert_exporter": "python",
   "pygments_lexer": "ipython3",
   "version": "3.7.11"
  }
 },
 "nbformat": 4,
 "nbformat_minor": 5
}
