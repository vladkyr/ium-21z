{
 "cells": [
  {
   "cell_type": "markdown",
   "id": "84f66d68",
   "metadata": {},
   "source": [
    "# IUM Projekt - etap 2"
   ]
  },
  {
   "cell_type": "markdown",
   "id": "4941fb76",
   "metadata": {},
   "source": [
    "Vladyslav Kyryk, Michał Łątkowski"
   ]
  },
  {
   "cell_type": "markdown",
   "id": "544e5b7c",
   "metadata": {},
   "source": [
    "# Zadanie 8"
   ]
  },
  {
   "cell_type": "markdown",
   "id": "539ef473",
   "metadata": {},
   "source": [
    "Mamy problemy odpowiednim zapełnianiem półek magazynowych. Nigdy nie wiadomo, co tak naprawdę będzie potrzebne w najbliższym tygodniu, co powinniśmy zamówić. Może da się coś z tym zrobić?”"
   ]
  },
  {
   "cell_type": "markdown",
   "id": "2bb8b689",
   "metadata": {},
   "source": [
    "## Modele"
   ]
  },
  {
   "cell_type": "markdown",
   "id": "e7ebdde9",
   "metadata": {},
   "source": [
    "Aplikacja udostępnia dwa modele:\n",
    "1. Model bazowy oparty na średniej liczbie sztuk/tydzień dla każdego z produktów za cały okres w danych treningowych.\n",
    "2. Oparty na regresji za pomocą XGBoost model, który jest naszym modelem \"zaawansowanym\"."
   ]
  },
  {
   "cell_type": "markdown",
   "id": "e5e00c4d",
   "metadata": {},
   "source": [
    "### Model "
   ]
  },
  {
   "cell_type": "markdown",
   "id": "fa6d28f1",
   "metadata": {},
   "source": [
    "#### Trening"
   ]
  },
  {
   "cell_type": "markdown",
   "id": "6db00674",
   "metadata": {},
   "source": [
    "Model bazowy można wytrenować uruchamiając notebook <em>base_model.ipynb</em>. \\\n",
    "Model zaawansowany można wytrenować uruchamiając notebook <em>xgboost.ipynb</em>."
   ]
  },
  {
   "cell_type": "markdown",
   "id": "022ee25a",
   "metadata": {},
   "source": [
    "#### Atrybuty"
   ]
  },
  {
   "cell_type": "markdown",
   "id": "dda18d0e",
   "metadata": {},
   "source": [
    "W celu trenowania do modelu zaawansowanego podaliśmy dane dotyczące:\n",
    "<ul>\n",
    "  <li>Ceny produktu</li>\n",
    "  <li>Kategorii produktu</li>\n",
    "  <li>Zmienne oparte na dacie (miesiąc, tydzień, rok etc.)</li>\n",
    "</ul>"
   ]
  },
  {
   "cell_type": "markdown",
   "id": "928557d5",
   "metadata": {},
   "source": [
    "Próbowaliśmy również atrybutów takich jak miesięczna średnia, ale nie zmieniało to w znaczący sposób wyników modelu (opieraliśmy się na mierze RMSE).\n",
    "Nie chcieliśmy zatem komplikować modelu atrybutami niewnoszącymi zbyt wiele"
   ]
  },
  {
   "cell_type": "markdown",
   "id": "2de17f9b",
   "metadata": {},
   "source": [
    "#### ARIMA"
   ]
  },
  {
   "cell_type": "markdown",
   "id": "dd44821c",
   "metadata": {},
   "source": [
    "Pierwotnie planowaliśmy zastosować model ARIMA albo, po późniejszej konkluzji, że ARIMA nie radzi sobie z trendami sezonowymi występującymi w danych, SARIMA. Efekty naszej pracy w tym zakresie można zobaczyć szczegółowo w notebooku <em>arima</em>"
   ]
  },
  {
   "cell_type": "markdown",
   "id": "ee7e8691-7fd6-4c0a-967b-25aafcdeff01",
   "metadata": {},
   "source": [
    "### TO-DO: Porównanie wyników modeli\n",
    "\n",
    "wykresy itp"
   ]
  },
  {
   "cell_type": "code",
   "execution_count": null,
   "id": "7d27e2d9-e463-4c04-9448-8b833d846f7a",
   "metadata": {},
   "outputs": [],
   "source": []
  },
  {
   "cell_type": "code",
   "execution_count": null,
   "id": "e8006cca-06f0-4e51-804c-357fe54f9aff",
   "metadata": {},
   "outputs": [],
   "source": []
  },
  {
   "cell_type": "code",
   "execution_count": null,
   "id": "59d628a3-257b-40ec-bc82-9f2bba0c6b2b",
   "metadata": {},
   "outputs": [],
   "source": []
  },
  {
   "cell_type": "markdown",
   "id": "19e8fb68",
   "metadata": {},
   "source": [
    "## Mikroserwis"
   ]
  },
  {
   "cell_type": "markdown",
   "id": "c093b223",
   "metadata": {},
   "source": [
    "Aplikacja została oparta o bibliotekę Flask. \\\n",
    "Użytkownik wykonuje zapytanie z odpowiednimi parametrami na jeden z endpointów:\n",
    "<em>/predict/basic_model</em>\n",
    "albo\n",
    "<em>/predict/advanced_model</em>. \\\n",
    "W ciele metody GET podajemy dwa parametry - <em>date</em>, w postaci np. \"2021-10-21\" oraz <em>product_id</em> w postaci np. \"1002\". \\\n",
    "Aplikacja wczytuje model uprzednio zapisany przez notebook treningowy, pobiera dane bazując na tym co podał użytkownik, przygotowuje te dane (tak żeby model dostał na wejściu dane w formacie, którego się \"spodziewa\"), a potem aplikacja w obu przypadkach zwraca liczbę całkowitą będącą równą przewidywanej ilości sprzedanych egzemplarzy."
   ]
  },
  {
   "cell_type": "markdown",
   "id": "1a7e5025",
   "metadata": {},
   "source": [
    "#### Uruchomienie aplikacji"
   ]
  },
  {
   "cell_type": "markdown",
   "id": "053b3b60",
   "metadata": {},
   "source": [
    "Aplikację można uruchomić, wpisując (jeśli jest się w folderze 'app') python3 application.py.\n",
    "\n",
    "Przykładowe zapytanie do modelu bazowego: http://127.0.0.1:5000/predict/base_model?product_id=1002 \\\n",
    "Przykładowa odpowiedź modelu bazowego: 2\n",
    "\n",
    "Przykładowe zapytanie do modelu zaawansowanego: http://127.0.0.1:5000/predict/advanced_model?date=2021-10-21&product_id=1002 \\\n",
    "Przykładowa odpowiedź modelu zaawansowanego: 17"
   ]
  },
  {
   "cell_type": "markdown",
   "id": "87b64a8c-d82b-4a90-8493-5b2be822b15e",
   "metadata": {},
   "source": [
    "## A/B TESTY"
   ]
  },
  {
   "cell_type": "markdown",
   "id": "e10a4a20-33fa-4a18-bac1-98a8c27dd803",
   "metadata": {},
   "source": [
    "Po każdym odpytywaniu jednego z modelów, aplikacja zapisuje zapytanie, predykcję oraz znacznik czasu do pliku z logami w formacie json. \\\n",
    "Po zebraniu niezbędnej liczby rekordów, one mogą być wykorzystane do analizy oraz oceny jakości modeli."
   ]
  }
 ],
 "metadata": {
  "kernelspec": {
   "display_name": "Python 3 (ipykernel)",
   "language": "python",
   "name": "python3"
  },
  "language_info": {
   "codemirror_mode": {
    "name": "ipython",
    "version": 3
   },
   "file_extension": ".py",
   "mimetype": "text/x-python",
   "name": "python",
   "nbconvert_exporter": "python",
   "pygments_lexer": "ipython3",
   "version": "3.7.11"
  }
 },
 "nbformat": 4,
 "nbformat_minor": 5
}
